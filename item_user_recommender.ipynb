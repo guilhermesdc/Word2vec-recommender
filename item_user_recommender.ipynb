{
 "cells": [
  {
   "cell_type": "markdown",
   "metadata": {},
   "source": [
    "### Bibliotecas\n",
    "\n",
    "Importação das bibliotecas usadas."
   ]
  },
  {
   "cell_type": "code",
   "execution_count": 181,
   "metadata": {},
   "outputs": [],
   "source": [
    "import pandas as pd  \n",
    "from time import time  \n",
    "from collections import defaultdict  \n",
    "\n",
    "\n",
    "import logging  # Setting up the loggings to monitor gensim\n",
    "logging.basicConfig(format=\"%(levelname)s - %(asctime)s: %(message)s\", datefmt= '%H:%M:%S', level=logging.INFO)"
   ]
  },
  {
   "cell_type": "markdown",
   "metadata": {},
   "source": [
    "Leitura da base de dados"
   ]
  },
  {
   "cell_type": "code",
   "execution_count": 182,
   "metadata": {},
   "outputs": [
    {
     "data": {
      "text/html": [
       "<div>\n",
       "<style scoped>\n",
       "    .dataframe tbody tr th:only-of-type {\n",
       "        vertical-align: middle;\n",
       "    }\n",
       "\n",
       "    .dataframe tbody tr th {\n",
       "        vertical-align: top;\n",
       "    }\n",
       "\n",
       "    .dataframe thead th {\n",
       "        text-align: right;\n",
       "    }\n",
       "</style>\n",
       "<table border=\"1\" class=\"dataframe\">\n",
       "  <thead>\n",
       "    <tr style=\"text-align: right;\">\n",
       "      <th></th>\n",
       "      <th>id_user</th>\n",
       "      <th>id_item</th>\n",
       "      <th>id_tag</th>\n",
       "      <th>timestamp</th>\n",
       "      <th>datetime</th>\n",
       "    </tr>\n",
       "  </thead>\n",
       "  <tbody>\n",
       "    <tr>\n",
       "      <th>0</th>\n",
       "      <td>56067</td>\n",
       "      <td>47295</td>\n",
       "      <td>278</td>\n",
       "      <td>1069319563</td>\n",
       "      <td>2003-11-20 07:12:43</td>\n",
       "    </tr>\n",
       "    <tr>\n",
       "      <th>1</th>\n",
       "      <td>56067</td>\n",
       "      <td>13165</td>\n",
       "      <td>1511</td>\n",
       "      <td>1070249587</td>\n",
       "      <td>2003-12-01 01:33:07</td>\n",
       "    </tr>\n",
       "    <tr>\n",
       "      <th>2</th>\n",
       "      <td>56067</td>\n",
       "      <td>47545</td>\n",
       "      <td>2846</td>\n",
       "      <td>1070342731</td>\n",
       "      <td>2003-12-02 03:25:31</td>\n",
       "    </tr>\n",
       "    <tr>\n",
       "      <th>3</th>\n",
       "      <td>56067</td>\n",
       "      <td>58683</td>\n",
       "      <td>16935</td>\n",
       "      <td>1070342792</td>\n",
       "      <td>2003-12-02 03:26:32</td>\n",
       "    </tr>\n",
       "    <tr>\n",
       "      <th>4</th>\n",
       "      <td>56067</td>\n",
       "      <td>58683</td>\n",
       "      <td>7732</td>\n",
       "      <td>1070342792</td>\n",
       "      <td>2003-12-02 03:26:32</td>\n",
       "    </tr>\n",
       "  </tbody>\n",
       "</table>\n",
       "</div>"
      ],
      "text/plain": [
       "   id_user  id_item  id_tag   timestamp             datetime\n",
       "0    56067    47295     278  1069319563  2003-11-20 07:12:43\n",
       "1    56067    13165    1511  1070249587  2003-12-01 01:33:07\n",
       "2    56067    47545    2846  1070342731  2003-12-02 03:25:31\n",
       "3    56067    58683   16935  1070342792  2003-12-02 03:26:32\n",
       "4    56067    58683    7732  1070342792  2003-12-02 03:26:32"
      ]
     },
     "metadata": {},
     "output_type": "display_data"
    }
   ],
   "source": [
    "df_item_delicious2k = pd.read_csv('database/delicious2k/interactions.csv', delimiter=';')\n",
    "display(df_item_delicious2k.head())"
   ]
  },
  {
   "cell_type": "markdown",
   "metadata": {},
   "source": [
    "Quantidade de dados nulos"
   ]
  },
  {
   "cell_type": "code",
   "execution_count": 183,
   "metadata": {},
   "outputs": [
    {
     "data": {
      "text/plain": [
       "id_user      0\n",
       "id_item      0\n",
       "id_tag       0\n",
       "timestamp    0\n",
       "datetime     0\n",
       "dtype: int64"
      ]
     },
     "execution_count": 183,
     "metadata": {},
     "output_type": "execute_result"
    }
   ],
   "source": [
    "df_item_delicious2k.isnull().sum()"
   ]
  },
  {
   "cell_type": "markdown",
   "metadata": {},
   "source": [
    "Mantendo somente as colunas id_user e id_item"
   ]
  },
  {
   "cell_type": "code",
   "execution_count": 184,
   "metadata": {},
   "outputs": [
    {
     "data": {
      "text/html": [
       "<div>\n",
       "<style scoped>\n",
       "    .dataframe tbody tr th:only-of-type {\n",
       "        vertical-align: middle;\n",
       "    }\n",
       "\n",
       "    .dataframe tbody tr th {\n",
       "        vertical-align: top;\n",
       "    }\n",
       "\n",
       "    .dataframe thead th {\n",
       "        text-align: right;\n",
       "    }\n",
       "</style>\n",
       "<table border=\"1\" class=\"dataframe\">\n",
       "  <thead>\n",
       "    <tr style=\"text-align: right;\">\n",
       "      <th></th>\n",
       "      <th>id_user</th>\n",
       "      <th>id_item</th>\n",
       "    </tr>\n",
       "  </thead>\n",
       "  <tbody>\n",
       "    <tr>\n",
       "      <th>0</th>\n",
       "      <td>56067</td>\n",
       "      <td>47295</td>\n",
       "    </tr>\n",
       "    <tr>\n",
       "      <th>1</th>\n",
       "      <td>56067</td>\n",
       "      <td>13165</td>\n",
       "    </tr>\n",
       "    <tr>\n",
       "      <th>2</th>\n",
       "      <td>56067</td>\n",
       "      <td>47545</td>\n",
       "    </tr>\n",
       "    <tr>\n",
       "      <th>3</th>\n",
       "      <td>56067</td>\n",
       "      <td>58683</td>\n",
       "    </tr>\n",
       "    <tr>\n",
       "      <th>4</th>\n",
       "      <td>56067</td>\n",
       "      <td>58683</td>\n",
       "    </tr>\n",
       "  </tbody>\n",
       "</table>\n",
       "</div>"
      ],
      "text/plain": [
       "   id_user  id_item\n",
       "0    56067    47295\n",
       "1    56067    13165\n",
       "2    56067    47545\n",
       "3    56067    58683\n",
       "4    56067    58683"
      ]
     },
     "metadata": {},
     "output_type": "display_data"
    }
   ],
   "source": [
    "df_item_delicious2k.drop(['id_tag', 'timestamp', 'datetime'], axis=1, inplace=True)\n",
    "display(df_item_delicious2k.head())"
   ]
  },
  {
   "cell_type": "markdown",
   "metadata": {},
   "source": [
    "Descarta as duplicadas"
   ]
  },
  {
   "cell_type": "code",
   "execution_count": 185,
   "metadata": {},
   "outputs": [
    {
     "name": "stdout",
     "output_type": "stream",
     "text": [
      "(437593, 2)\n",
      "(437593, 2)\n"
     ]
    }
   ],
   "source": [
    "print(df_item_delicious2k.shape)\n",
    "df_item_delicious2k.drop_duplicates(subset=['id_item', 'id_user'], inplace=True)\n",
    "print(df_item_delicious2k.shape)"
   ]
  },
  {
   "cell_type": "markdown",
   "metadata": {},
   "source": [
    "Agrupa os item consumidos por cada usuario"
   ]
  },
  {
   "cell_type": "code",
   "execution_count": 186,
   "metadata": {},
   "outputs": [
    {
     "data": {
      "text/html": [
       "<div>\n",
       "<style scoped>\n",
       "    .dataframe tbody tr th:only-of-type {\n",
       "        vertical-align: middle;\n",
       "    }\n",
       "\n",
       "    .dataframe tbody tr th {\n",
       "        vertical-align: top;\n",
       "    }\n",
       "\n",
       "    .dataframe thead th {\n",
       "        text-align: right;\n",
       "    }\n",
       "</style>\n",
       "<table border=\"1\" class=\"dataframe\">\n",
       "  <thead>\n",
       "    <tr style=\"text-align: right;\">\n",
       "      <th></th>\n",
       "      <th>id_user</th>\n",
       "      <th>id_items</th>\n",
       "    </tr>\n",
       "  </thead>\n",
       "  <tbody>\n",
       "    <tr>\n",
       "      <th>0</th>\n",
       "      <td>8</td>\n",
       "      <td>13589 2672 68527 32440 32439 32439 32439 38974...</td>\n",
       "    </tr>\n",
       "    <tr>\n",
       "      <th>1</th>\n",
       "      <td>32</td>\n",
       "      <td>62239 62239 62239 62241 62241 62241 62241 6224...</td>\n",
       "    </tr>\n",
       "    <tr>\n",
       "      <th>2</th>\n",
       "      <td>57</td>\n",
       "      <td>8507 8507 8507 67451 11105 66754 67423 67423 6...</td>\n",
       "    </tr>\n",
       "    <tr>\n",
       "      <th>3</th>\n",
       "      <td>147</td>\n",
       "      <td>20113 20113 20113 20113 20113 65969 65969 6596...</td>\n",
       "    </tr>\n",
       "    <tr>\n",
       "      <th>4</th>\n",
       "      <td>233</td>\n",
       "      <td>65155 65155 65155 57035 57035 57035 57035 5703...</td>\n",
       "    </tr>\n",
       "  </tbody>\n",
       "</table>\n",
       "</div>"
      ],
      "text/plain": [
       "   id_user                                           id_items\n",
       "0        8  13589 2672 68527 32440 32439 32439 32439 38974...\n",
       "1       32  62239 62239 62239 62241 62241 62241 62241 6224...\n",
       "2       57  8507 8507 8507 67451 11105 66754 67423 67423 6...\n",
       "3      147  20113 20113 20113 20113 20113 65969 65969 6596...\n",
       "4      233  65155 65155 65155 57035 57035 57035 57035 5703..."
      ]
     },
     "metadata": {},
     "output_type": "display_data"
    }
   ],
   "source": [
    "df_item_delicious2k = df_item_delicious2k.groupby('id_user')['id_item'].apply(lambda x: ' '.join(x.astype(str))).reset_index()\n",
    "df_item_delicious2k.columns = ['id_user', 'id_items']\n",
    "\n",
    "display(df_item_delicious2k.head())"
   ]
  },
  {
   "cell_type": "markdown",
   "metadata": {},
   "source": [
    "Salva em um arquivo csv"
   ]
  },
  {
   "cell_type": "code",
   "execution_count": 187,
   "metadata": {},
   "outputs": [],
   "source": [
    "df_item_delicious2k.to_csv('item_user_recommender.csv', index=False)"
   ]
  },
  {
   "cell_type": "markdown",
   "metadata": {},
   "source": [
    "Cria um dicionario"
   ]
  },
  {
   "cell_type": "code",
   "execution_count": 188,
   "metadata": {},
   "outputs": [
    {
     "name": "stderr",
     "output_type": "stream",
     "text": [
      "INFO - 09:37:11: collecting all words and their counts\n",
      "INFO - 09:37:11: PROGRESS: at sentence #0, processed 0 words and 0 word types\n",
      "INFO - 09:37:12: collected 216367 token types (unigram + bigrams) from a corpus of 437593 words and 1867 sentences\n",
      "INFO - 09:37:12: merged Phrases<216367 vocab, min_count=1, threshold=10.0, max_vocab_size=40000000>\n",
      "INFO - 09:37:12: Phrases lifecycle event {'msg': 'built Phrases<216367 vocab, min_count=1, threshold=10.0, max_vocab_size=40000000> in 0.41s', 'datetime': '2023-07-31T09:37:12.284167', 'gensim': '4.1.2', 'python': '3.9.12 (main, Apr  4 2022, 05:22:27) [MSC v.1916 64 bit (AMD64)]', 'platform': 'Windows-10-10.0.19041-SP0', 'event': 'created'}\n",
      "INFO - 09:37:12: exporting phrases from Phrases<216367 vocab, min_count=1, threshold=10.0, max_vocab_size=40000000>\n",
      "INFO - 09:37:12: FrozenPhrases lifecycle event {'msg': 'exported FrozenPhrases<70114 phrases, min_count=1, threshold=10.0> from Phrases<216367 vocab, min_count=1, threshold=10.0, max_vocab_size=40000000> in 0.27s', 'datetime': '2023-07-31T09:37:12.563167', 'gensim': '4.1.2', 'python': '3.9.12 (main, Apr  4 2022, 05:22:27) [MSC v.1916 64 bit (AMD64)]', 'platform': 'Windows-10-10.0.19041-SP0', 'event': 'created'}\n"
     ]
    },
    {
     "data": {
      "text/plain": [
       "['13919_13919',\n",
       " '15592_15592',\n",
       " '22632_22632',\n",
       " '22832_22832',\n",
       " '5995_5995',\n",
       " '17971_17971',\n",
       " '8414_8414',\n",
       " '50987_50987',\n",
       " '64598_64598',\n",
       " '47902_47902']"
      ]
     },
     "execution_count": 188,
     "metadata": {},
     "output_type": "execute_result"
    }
   ],
   "source": [
    "from gensim.models.phrases import Phrases, Phraser\n",
    "\n",
    "sent = [row.split() for row in df_item_delicious2k['id_items']]\n",
    "\n",
    "phrases = Phrases(sent, min_count=1, progress_per=10000)\n",
    "\n",
    "bigram = Phraser(phrases)\n",
    "\n",
    "sentences = bigram[sent]\n",
    "\n",
    "word_freq = defaultdict(int)\n",
    "for sent in sentences:\n",
    "    for i in sent:\n",
    "        word_freq[i] += 1\n",
    "len(word_freq)\n",
    "\n",
    "sorted(word_freq, key=word_freq.get, reverse=True)[:10]"
   ]
  },
  {
   "cell_type": "markdown",
   "metadata": {},
   "source": [
    "Cria uma tabela de vocabulário"
   ]
  },
  {
   "cell_type": "code",
   "execution_count": 189,
   "metadata": {},
   "outputs": [
    {
     "name": "stderr",
     "output_type": "stream",
     "text": [
      "INFO - 09:37:12: Word2Vec lifecycle event {'params': 'Word2Vec(vocab=0, vector_size=100, alpha=0.025)', 'datetime': '2023-07-31T09:37:12.866168', 'gensim': '4.1.2', 'python': '3.9.12 (main, Apr  4 2022, 05:22:27) [MSC v.1916 64 bit (AMD64)]', 'platform': 'Windows-10-10.0.19041-SP0', 'event': 'created'}\n",
      "INFO - 09:37:12: collecting all words and their counts\n",
      "INFO - 09:37:12: PROGRESS: at sentence #0, processed 0 words, keeping 0 word types\n",
      "INFO - 09:37:13: collected 106791 word types from a corpus of 245833 raw words and 1867 sentences\n",
      "INFO - 09:37:13: Creating a fresh vocabulary\n",
      "INFO - 09:37:13: Word2Vec lifecycle event {'msg': 'effective_min_count=5 retains 10188 unique words (9.540129786217939%% of original 106791, drops 96603)', 'datetime': '2023-07-31T09:37:13.187166', 'gensim': '4.1.2', 'python': '3.9.12 (main, Apr  4 2022, 05:22:27) [MSC v.1916 64 bit (AMD64)]', 'platform': 'Windows-10-10.0.19041-SP0', 'event': 'prepare_vocab'}\n",
      "INFO - 09:37:13: Word2Vec lifecycle event {'msg': 'effective_min_count=5 leaves 78809 word corpus (32.05794177348037%% of original 245833, drops 167024)', 'datetime': '2023-07-31T09:37:13.187166', 'gensim': '4.1.2', 'python': '3.9.12 (main, Apr  4 2022, 05:22:27) [MSC v.1916 64 bit (AMD64)]', 'platform': 'Windows-10-10.0.19041-SP0', 'event': 'prepare_vocab'}\n",
      "INFO - 09:37:13: deleting the raw counts dictionary of 106791 items\n",
      "INFO - 09:37:13: sample=0.001 downsamples 0 most-common words\n",
      "INFO - 09:37:13: Word2Vec lifecycle event {'msg': 'downsampling leaves estimated 78809 word corpus (100.0%% of prior 78809)', 'datetime': '2023-07-31T09:37:13.239197', 'gensim': '4.1.2', 'python': '3.9.12 (main, Apr  4 2022, 05:22:27) [MSC v.1916 64 bit (AMD64)]', 'platform': 'Windows-10-10.0.19041-SP0', 'event': 'prepare_vocab'}\n",
      "INFO - 09:37:13: estimated required memory for 10188 words and 100 dimensions: 13244400 bytes\n",
      "INFO - 09:37:13: resetting layer weights\n",
      "INFO - 09:37:13: Word2Vec lifecycle event {'update': False, 'trim_rule': 'None', 'datetime': '2023-07-31T09:37:13.324166', 'gensim': '4.1.2', 'python': '3.9.12 (main, Apr  4 2022, 05:22:27) [MSC v.1916 64 bit (AMD64)]', 'platform': 'Windows-10-10.0.19041-SP0', 'event': 'build_vocab'}\n"
     ]
    },
    {
     "name": "stdout",
     "output_type": "stream",
     "text": [
      "Time to build vocab: 0.01 mins\n"
     ]
    }
   ],
   "source": [
    "import multiprocessing\n",
    "\n",
    "from gensim.models import Word2Vec\n",
    "\n",
    "cores = multiprocessing.cpu_count() \n",
    "\n",
    "w2v_model = Word2Vec(min_count=5,\n",
    "                     window=2,\n",
    "                     workers=cores-1)\n",
    "\n",
    "t = time()\n",
    "w2v_model.build_vocab(sentences, progress_per=10000)\n",
    "print('Time to build vocab: {} mins'.format(round((time() - t) / 60, 2)))"
   ]
  },
  {
   "cell_type": "markdown",
   "metadata": {},
   "source": [
    "Treina o modelo"
   ]
  },
  {
   "cell_type": "code",
   "execution_count": 190,
   "metadata": {},
   "outputs": [
    {
     "name": "stderr",
     "output_type": "stream",
     "text": [
      "INFO - 09:37:13: Word2Vec lifecycle event {'msg': 'training model with 11 workers on 10188 vocabulary and 100 features, using sg=0 hs=0 sample=0.001 negative=5 window=2 shrink_windows=True', 'datetime': '2023-07-31T09:37:13.341168', 'gensim': '4.1.2', 'python': '3.9.12 (main, Apr  4 2022, 05:22:27) [MSC v.1916 64 bit (AMD64)]', 'platform': 'Windows-10-10.0.19041-SP0', 'event': 'train'}\n",
      "INFO - 09:37:13: worker thread finished; awaiting finish of 10 more threads\n",
      "INFO - 09:37:13: worker thread finished; awaiting finish of 9 more threads\n",
      "INFO - 09:37:13: worker thread finished; awaiting finish of 8 more threads\n",
      "INFO - 09:37:13: worker thread finished; awaiting finish of 7 more threads\n",
      "INFO - 09:37:13: worker thread finished; awaiting finish of 6 more threads\n",
      "INFO - 09:37:13: worker thread finished; awaiting finish of 5 more threads\n",
      "INFO - 09:37:13: worker thread finished; awaiting finish of 4 more threads\n",
      "INFO - 09:37:13: worker thread finished; awaiting finish of 3 more threads\n",
      "INFO - 09:37:13: worker thread finished; awaiting finish of 2 more threads\n",
      "INFO - 09:37:13: worker thread finished; awaiting finish of 1 more threads\n",
      "INFO - 09:37:13: worker thread finished; awaiting finish of 0 more threads\n",
      "INFO - 09:37:13: EPOCH - 1 : training on 245833 raw words (78809 effective words) took 0.3s, 307829 effective words/s\n",
      "INFO - 09:37:13: worker thread finished; awaiting finish of 10 more threads\n",
      "INFO - 09:37:13: worker thread finished; awaiting finish of 9 more threads\n",
      "INFO - 09:37:13: worker thread finished; awaiting finish of 8 more threads\n",
      "INFO - 09:37:13: worker thread finished; awaiting finish of 7 more threads\n",
      "INFO - 09:37:13: worker thread finished; awaiting finish of 6 more threads\n",
      "INFO - 09:37:13: worker thread finished; awaiting finish of 5 more threads\n",
      "INFO - 09:37:13: worker thread finished; awaiting finish of 4 more threads\n",
      "INFO - 09:37:13: worker thread finished; awaiting finish of 3 more threads\n",
      "INFO - 09:37:13: worker thread finished; awaiting finish of 2 more threads\n",
      "INFO - 09:37:13: worker thread finished; awaiting finish of 1 more threads\n",
      "INFO - 09:37:13: worker thread finished; awaiting finish of 0 more threads\n",
      "INFO - 09:37:13: EPOCH - 2 : training on 245833 raw words (78809 effective words) took 0.3s, 310239 effective words/s\n",
      "INFO - 09:37:14: worker thread finished; awaiting finish of 10 more threads\n",
      "INFO - 09:37:14: worker thread finished; awaiting finish of 9 more threads\n",
      "INFO - 09:37:14: worker thread finished; awaiting finish of 8 more threads\n",
      "INFO - 09:37:14: worker thread finished; awaiting finish of 7 more threads\n",
      "INFO - 09:37:14: worker thread finished; awaiting finish of 6 more threads\n",
      "INFO - 09:37:14: worker thread finished; awaiting finish of 5 more threads\n",
      "INFO - 09:37:14: worker thread finished; awaiting finish of 4 more threads\n",
      "INFO - 09:37:14: worker thread finished; awaiting finish of 3 more threads\n",
      "INFO - 09:37:14: worker thread finished; awaiting finish of 2 more threads\n",
      "INFO - 09:37:14: worker thread finished; awaiting finish of 1 more threads\n",
      "INFO - 09:37:14: worker thread finished; awaiting finish of 0 more threads\n",
      "INFO - 09:37:14: EPOCH - 3 : training on 245833 raw words (78809 effective words) took 0.2s, 337491 effective words/s\n",
      "INFO - 09:37:14: worker thread finished; awaiting finish of 10 more threads\n",
      "INFO - 09:37:14: worker thread finished; awaiting finish of 9 more threads\n",
      "INFO - 09:37:14: worker thread finished; awaiting finish of 8 more threads\n",
      "INFO - 09:37:14: worker thread finished; awaiting finish of 7 more threads\n",
      "INFO - 09:37:14: worker thread finished; awaiting finish of 6 more threads\n",
      "INFO - 09:37:14: worker thread finished; awaiting finish of 5 more threads\n",
      "INFO - 09:37:14: worker thread finished; awaiting finish of 4 more threads\n",
      "INFO - 09:37:14: worker thread finished; awaiting finish of 3 more threads\n",
      "INFO - 09:37:14: worker thread finished; awaiting finish of 2 more threads\n",
      "INFO - 09:37:14: worker thread finished; awaiting finish of 1 more threads\n",
      "INFO - 09:37:14: worker thread finished; awaiting finish of 0 more threads\n",
      "INFO - 09:37:14: EPOCH - 4 : training on 245833 raw words (78809 effective words) took 0.3s, 308663 effective words/s\n",
      "INFO - 09:37:14: worker thread finished; awaiting finish of 10 more threads\n",
      "INFO - 09:37:14: worker thread finished; awaiting finish of 9 more threads\n",
      "INFO - 09:37:14: worker thread finished; awaiting finish of 8 more threads\n",
      "INFO - 09:37:14: worker thread finished; awaiting finish of 7 more threads\n",
      "INFO - 09:37:14: worker thread finished; awaiting finish of 6 more threads\n",
      "INFO - 09:37:14: worker thread finished; awaiting finish of 5 more threads\n",
      "INFO - 09:37:14: worker thread finished; awaiting finish of 4 more threads\n",
      "INFO - 09:37:14: worker thread finished; awaiting finish of 3 more threads\n",
      "INFO - 09:37:14: worker thread finished; awaiting finish of 2 more threads\n",
      "INFO - 09:37:14: worker thread finished; awaiting finish of 1 more threads\n",
      "INFO - 09:37:14: worker thread finished; awaiting finish of 0 more threads\n",
      "INFO - 09:37:14: EPOCH - 5 : training on 245833 raw words (78809 effective words) took 0.2s, 322846 effective words/s\n",
      "INFO - 09:37:14: worker thread finished; awaiting finish of 10 more threads\n",
      "INFO - 09:37:14: worker thread finished; awaiting finish of 9 more threads\n",
      "INFO - 09:37:14: worker thread finished; awaiting finish of 8 more threads\n",
      "INFO - 09:37:14: worker thread finished; awaiting finish of 7 more threads\n",
      "INFO - 09:37:14: worker thread finished; awaiting finish of 6 more threads\n",
      "INFO - 09:37:14: worker thread finished; awaiting finish of 5 more threads\n",
      "INFO - 09:37:14: worker thread finished; awaiting finish of 4 more threads\n",
      "INFO - 09:37:14: worker thread finished; awaiting finish of 3 more threads\n",
      "INFO - 09:37:14: worker thread finished; awaiting finish of 2 more threads\n",
      "INFO - 09:37:14: worker thread finished; awaiting finish of 1 more threads\n",
      "INFO - 09:37:14: worker thread finished; awaiting finish of 0 more threads\n",
      "INFO - 09:37:14: EPOCH - 6 : training on 245833 raw words (78809 effective words) took 0.2s, 341491 effective words/s\n",
      "INFO - 09:37:15: worker thread finished; awaiting finish of 10 more threads\n",
      "INFO - 09:37:15: worker thread finished; awaiting finish of 9 more threads\n",
      "INFO - 09:37:15: worker thread finished; awaiting finish of 8 more threads\n",
      "INFO - 09:37:15: worker thread finished; awaiting finish of 7 more threads\n",
      "INFO - 09:37:15: worker thread finished; awaiting finish of 6 more threads\n",
      "INFO - 09:37:15: worker thread finished; awaiting finish of 5 more threads\n",
      "INFO - 09:37:15: worker thread finished; awaiting finish of 4 more threads\n",
      "INFO - 09:37:15: worker thread finished; awaiting finish of 3 more threads\n",
      "INFO - 09:37:15: worker thread finished; awaiting finish of 2 more threads\n",
      "INFO - 09:37:15: worker thread finished; awaiting finish of 1 more threads\n",
      "INFO - 09:37:15: worker thread finished; awaiting finish of 0 more threads\n",
      "INFO - 09:37:15: EPOCH - 7 : training on 245833 raw words (78809 effective words) took 0.2s, 334793 effective words/s\n",
      "INFO - 09:37:15: worker thread finished; awaiting finish of 10 more threads\n",
      "INFO - 09:37:15: worker thread finished; awaiting finish of 9 more threads\n",
      "INFO - 09:37:15: worker thread finished; awaiting finish of 8 more threads\n",
      "INFO - 09:37:15: worker thread finished; awaiting finish of 7 more threads\n",
      "INFO - 09:37:15: worker thread finished; awaiting finish of 6 more threads\n",
      "INFO - 09:37:15: worker thread finished; awaiting finish of 5 more threads\n",
      "INFO - 09:37:15: worker thread finished; awaiting finish of 4 more threads\n",
      "INFO - 09:37:15: worker thread finished; awaiting finish of 3 more threads\n",
      "INFO - 09:37:15: worker thread finished; awaiting finish of 2 more threads\n",
      "INFO - 09:37:15: worker thread finished; awaiting finish of 1 more threads\n",
      "INFO - 09:37:15: worker thread finished; awaiting finish of 0 more threads\n",
      "INFO - 09:37:15: EPOCH - 8 : training on 245833 raw words (78809 effective words) took 0.2s, 322275 effective words/s\n",
      "INFO - 09:37:15: worker thread finished; awaiting finish of 10 more threads\n",
      "INFO - 09:37:15: worker thread finished; awaiting finish of 9 more threads\n",
      "INFO - 09:37:15: worker thread finished; awaiting finish of 8 more threads\n",
      "INFO - 09:37:15: worker thread finished; awaiting finish of 7 more threads\n",
      "INFO - 09:37:15: worker thread finished; awaiting finish of 6 more threads\n",
      "INFO - 09:37:15: worker thread finished; awaiting finish of 5 more threads\n",
      "INFO - 09:37:15: worker thread finished; awaiting finish of 4 more threads\n",
      "INFO - 09:37:15: worker thread finished; awaiting finish of 3 more threads\n",
      "INFO - 09:37:15: worker thread finished; awaiting finish of 2 more threads\n",
      "INFO - 09:37:15: worker thread finished; awaiting finish of 1 more threads\n",
      "INFO - 09:37:15: worker thread finished; awaiting finish of 0 more threads\n",
      "INFO - 09:37:15: EPOCH - 9 : training on 245833 raw words (78809 effective words) took 0.2s, 387591 effective words/s\n",
      "INFO - 09:37:15: worker thread finished; awaiting finish of 10 more threads\n",
      "INFO - 09:37:15: worker thread finished; awaiting finish of 9 more threads\n",
      "INFO - 09:37:15: worker thread finished; awaiting finish of 8 more threads\n",
      "INFO - 09:37:15: worker thread finished; awaiting finish of 7 more threads\n",
      "INFO - 09:37:15: worker thread finished; awaiting finish of 6 more threads\n",
      "INFO - 09:37:15: worker thread finished; awaiting finish of 5 more threads\n",
      "INFO - 09:37:15: worker thread finished; awaiting finish of 4 more threads\n",
      "INFO - 09:37:15: worker thread finished; awaiting finish of 3 more threads\n",
      "INFO - 09:37:15: worker thread finished; awaiting finish of 2 more threads\n",
      "INFO - 09:37:15: worker thread finished; awaiting finish of 1 more threads\n",
      "INFO - 09:37:15: worker thread finished; awaiting finish of 0 more threads\n",
      "INFO - 09:37:15: EPOCH - 10 : training on 245833 raw words (78809 effective words) took 0.2s, 322191 effective words/s\n",
      "INFO - 09:37:16: worker thread finished; awaiting finish of 10 more threads\n",
      "INFO - 09:37:16: worker thread finished; awaiting finish of 9 more threads\n",
      "INFO - 09:37:16: worker thread finished; awaiting finish of 8 more threads\n",
      "INFO - 09:37:16: worker thread finished; awaiting finish of 7 more threads\n",
      "INFO - 09:37:16: worker thread finished; awaiting finish of 6 more threads\n",
      "INFO - 09:37:16: worker thread finished; awaiting finish of 5 more threads\n",
      "INFO - 09:37:16: worker thread finished; awaiting finish of 4 more threads\n",
      "INFO - 09:37:16: worker thread finished; awaiting finish of 3 more threads\n",
      "INFO - 09:37:16: worker thread finished; awaiting finish of 2 more threads\n",
      "INFO - 09:37:16: worker thread finished; awaiting finish of 1 more threads\n",
      "INFO - 09:37:16: worker thread finished; awaiting finish of 0 more threads\n",
      "INFO - 09:37:16: EPOCH - 11 : training on 245833 raw words (78809 effective words) took 0.3s, 309457 effective words/s\n",
      "INFO - 09:37:16: worker thread finished; awaiting finish of 10 more threads\n",
      "INFO - 09:37:16: worker thread finished; awaiting finish of 9 more threads\n",
      "INFO - 09:37:16: worker thread finished; awaiting finish of 8 more threads\n",
      "INFO - 09:37:16: worker thread finished; awaiting finish of 7 more threads\n",
      "INFO - 09:37:16: worker thread finished; awaiting finish of 6 more threads\n",
      "INFO - 09:37:16: worker thread finished; awaiting finish of 5 more threads\n",
      "INFO - 09:37:16: worker thread finished; awaiting finish of 4 more threads\n",
      "INFO - 09:37:16: worker thread finished; awaiting finish of 3 more threads\n",
      "INFO - 09:37:16: worker thread finished; awaiting finish of 2 more threads\n",
      "INFO - 09:37:16: worker thread finished; awaiting finish of 1 more threads\n",
      "INFO - 09:37:16: worker thread finished; awaiting finish of 0 more threads\n",
      "INFO - 09:37:16: EPOCH - 12 : training on 245833 raw words (78809 effective words) took 0.2s, 335509 effective words/s\n",
      "INFO - 09:37:16: worker thread finished; awaiting finish of 10 more threads\n",
      "INFO - 09:37:16: worker thread finished; awaiting finish of 9 more threads\n",
      "INFO - 09:37:16: worker thread finished; awaiting finish of 8 more threads\n",
      "INFO - 09:37:16: worker thread finished; awaiting finish of 7 more threads\n",
      "INFO - 09:37:16: worker thread finished; awaiting finish of 6 more threads\n",
      "INFO - 09:37:16: worker thread finished; awaiting finish of 5 more threads\n",
      "INFO - 09:37:16: worker thread finished; awaiting finish of 4 more threads\n",
      "INFO - 09:37:16: worker thread finished; awaiting finish of 3 more threads\n",
      "INFO - 09:37:16: worker thread finished; awaiting finish of 2 more threads\n",
      "INFO - 09:37:16: worker thread finished; awaiting finish of 1 more threads\n",
      "INFO - 09:37:16: worker thread finished; awaiting finish of 0 more threads\n",
      "INFO - 09:37:16: EPOCH - 13 : training on 245833 raw words (78809 effective words) took 0.2s, 343712 effective words/s\n",
      "INFO - 09:37:17: worker thread finished; awaiting finish of 10 more threads\n",
      "INFO - 09:37:17: worker thread finished; awaiting finish of 9 more threads\n",
      "INFO - 09:37:17: worker thread finished; awaiting finish of 8 more threads\n",
      "INFO - 09:37:17: worker thread finished; awaiting finish of 7 more threads\n",
      "INFO - 09:37:17: worker thread finished; awaiting finish of 6 more threads\n",
      "INFO - 09:37:17: worker thread finished; awaiting finish of 5 more threads\n",
      "INFO - 09:37:17: worker thread finished; awaiting finish of 4 more threads\n",
      "INFO - 09:37:17: worker thread finished; awaiting finish of 3 more threads\n",
      "INFO - 09:37:17: worker thread finished; awaiting finish of 2 more threads\n",
      "INFO - 09:37:17: worker thread finished; awaiting finish of 1 more threads\n",
      "INFO - 09:37:17: worker thread finished; awaiting finish of 0 more threads\n",
      "INFO - 09:37:17: EPOCH - 14 : training on 245833 raw words (78809 effective words) took 0.2s, 317527 effective words/s\n",
      "INFO - 09:37:17: worker thread finished; awaiting finish of 10 more threads\n",
      "INFO - 09:37:17: worker thread finished; awaiting finish of 9 more threads\n",
      "INFO - 09:37:17: worker thread finished; awaiting finish of 8 more threads\n",
      "INFO - 09:37:17: worker thread finished; awaiting finish of 7 more threads\n",
      "INFO - 09:37:17: worker thread finished; awaiting finish of 6 more threads\n",
      "INFO - 09:37:17: worker thread finished; awaiting finish of 5 more threads\n",
      "INFO - 09:37:17: worker thread finished; awaiting finish of 4 more threads\n",
      "INFO - 09:37:17: worker thread finished; awaiting finish of 3 more threads\n",
      "INFO - 09:37:17: worker thread finished; awaiting finish of 2 more threads\n",
      "INFO - 09:37:17: worker thread finished; awaiting finish of 1 more threads\n",
      "INFO - 09:37:17: worker thread finished; awaiting finish of 0 more threads\n",
      "INFO - 09:37:17: EPOCH - 15 : training on 245833 raw words (78809 effective words) took 0.2s, 331346 effective words/s\n",
      "INFO - 09:37:17: worker thread finished; awaiting finish of 10 more threads\n",
      "INFO - 09:37:17: worker thread finished; awaiting finish of 9 more threads\n",
      "INFO - 09:37:17: worker thread finished; awaiting finish of 8 more threads\n",
      "INFO - 09:37:17: worker thread finished; awaiting finish of 7 more threads\n",
      "INFO - 09:37:17: worker thread finished; awaiting finish of 6 more threads\n",
      "INFO - 09:37:17: worker thread finished; awaiting finish of 5 more threads\n",
      "INFO - 09:37:17: worker thread finished; awaiting finish of 4 more threads\n",
      "INFO - 09:37:17: worker thread finished; awaiting finish of 3 more threads\n",
      "INFO - 09:37:17: worker thread finished; awaiting finish of 2 more threads\n",
      "INFO - 09:37:17: worker thread finished; awaiting finish of 1 more threads\n",
      "INFO - 09:37:17: worker thread finished; awaiting finish of 0 more threads\n",
      "INFO - 09:37:17: EPOCH - 16 : training on 245833 raw words (78809 effective words) took 0.2s, 342528 effective words/s\n",
      "INFO - 09:37:17: worker thread finished; awaiting finish of 10 more threads\n",
      "INFO - 09:37:17: worker thread finished; awaiting finish of 9 more threads\n",
      "INFO - 09:37:17: worker thread finished; awaiting finish of 8 more threads\n",
      "INFO - 09:37:17: worker thread finished; awaiting finish of 7 more threads\n",
      "INFO - 09:37:17: worker thread finished; awaiting finish of 6 more threads\n",
      "INFO - 09:37:17: worker thread finished; awaiting finish of 5 more threads\n",
      "INFO - 09:37:17: worker thread finished; awaiting finish of 4 more threads\n",
      "INFO - 09:37:17: worker thread finished; awaiting finish of 3 more threads\n",
      "INFO - 09:37:17: worker thread finished; awaiting finish of 2 more threads\n",
      "INFO - 09:37:17: worker thread finished; awaiting finish of 1 more threads\n",
      "INFO - 09:37:17: worker thread finished; awaiting finish of 0 more threads\n",
      "INFO - 09:37:17: EPOCH - 17 : training on 245833 raw words (78809 effective words) took 0.2s, 331275 effective words/s\n",
      "INFO - 09:37:18: worker thread finished; awaiting finish of 10 more threads\n",
      "INFO - 09:37:18: worker thread finished; awaiting finish of 9 more threads\n",
      "INFO - 09:37:18: worker thread finished; awaiting finish of 8 more threads\n",
      "INFO - 09:37:18: worker thread finished; awaiting finish of 7 more threads\n",
      "INFO - 09:37:18: worker thread finished; awaiting finish of 6 more threads\n",
      "INFO - 09:37:18: worker thread finished; awaiting finish of 5 more threads\n",
      "INFO - 09:37:18: worker thread finished; awaiting finish of 4 more threads\n",
      "INFO - 09:37:18: worker thread finished; awaiting finish of 3 more threads\n",
      "INFO - 09:37:18: worker thread finished; awaiting finish of 2 more threads\n",
      "INFO - 09:37:18: worker thread finished; awaiting finish of 1 more threads\n",
      "INFO - 09:37:18: worker thread finished; awaiting finish of 0 more threads\n",
      "INFO - 09:37:18: EPOCH - 18 : training on 245833 raw words (78809 effective words) took 0.2s, 341394 effective words/s\n",
      "INFO - 09:37:18: worker thread finished; awaiting finish of 10 more threads\n",
      "INFO - 09:37:18: worker thread finished; awaiting finish of 9 more threads\n",
      "INFO - 09:37:18: worker thread finished; awaiting finish of 8 more threads\n",
      "INFO - 09:37:18: worker thread finished; awaiting finish of 7 more threads\n",
      "INFO - 09:37:18: worker thread finished; awaiting finish of 6 more threads\n",
      "INFO - 09:37:18: worker thread finished; awaiting finish of 5 more threads\n",
      "INFO - 09:37:18: worker thread finished; awaiting finish of 4 more threads\n",
      "INFO - 09:37:18: worker thread finished; awaiting finish of 3 more threads\n",
      "INFO - 09:37:18: worker thread finished; awaiting finish of 2 more threads\n",
      "INFO - 09:37:18: worker thread finished; awaiting finish of 1 more threads\n",
      "INFO - 09:37:18: worker thread finished; awaiting finish of 0 more threads\n",
      "INFO - 09:37:18: EPOCH - 19 : training on 245833 raw words (78809 effective words) took 0.2s, 417932 effective words/s\n",
      "INFO - 09:37:18: worker thread finished; awaiting finish of 10 more threads\n",
      "INFO - 09:37:18: worker thread finished; awaiting finish of 9 more threads\n",
      "INFO - 09:37:18: worker thread finished; awaiting finish of 8 more threads\n",
      "INFO - 09:37:18: worker thread finished; awaiting finish of 7 more threads\n",
      "INFO - 09:37:18: worker thread finished; awaiting finish of 6 more threads\n",
      "INFO - 09:37:18: worker thread finished; awaiting finish of 5 more threads\n",
      "INFO - 09:37:18: worker thread finished; awaiting finish of 4 more threads\n",
      "INFO - 09:37:18: worker thread finished; awaiting finish of 3 more threads\n",
      "INFO - 09:37:18: worker thread finished; awaiting finish of 2 more threads\n",
      "INFO - 09:37:18: worker thread finished; awaiting finish of 1 more threads\n",
      "INFO - 09:37:18: worker thread finished; awaiting finish of 0 more threads\n",
      "INFO - 09:37:18: EPOCH - 20 : training on 245833 raw words (78809 effective words) took 0.2s, 367332 effective words/s\n",
      "INFO - 09:37:18: worker thread finished; awaiting finish of 10 more threads\n",
      "INFO - 09:37:18: worker thread finished; awaiting finish of 9 more threads\n",
      "INFO - 09:37:18: worker thread finished; awaiting finish of 8 more threads\n",
      "INFO - 09:37:18: worker thread finished; awaiting finish of 7 more threads\n",
      "INFO - 09:37:18: worker thread finished; awaiting finish of 6 more threads\n",
      "INFO - 09:37:18: worker thread finished; awaiting finish of 5 more threads\n",
      "INFO - 09:37:18: worker thread finished; awaiting finish of 4 more threads\n",
      "INFO - 09:37:18: worker thread finished; awaiting finish of 3 more threads\n",
      "INFO - 09:37:18: worker thread finished; awaiting finish of 2 more threads\n",
      "INFO - 09:37:18: worker thread finished; awaiting finish of 1 more threads\n",
      "INFO - 09:37:18: worker thread finished; awaiting finish of 0 more threads\n",
      "INFO - 09:37:18: EPOCH - 21 : training on 245833 raw words (78809 effective words) took 0.2s, 327491 effective words/s\n",
      "INFO - 09:37:19: worker thread finished; awaiting finish of 10 more threads\n",
      "INFO - 09:37:19: worker thread finished; awaiting finish of 9 more threads\n",
      "INFO - 09:37:19: worker thread finished; awaiting finish of 8 more threads\n",
      "INFO - 09:37:19: worker thread finished; awaiting finish of 7 more threads\n",
      "INFO - 09:37:19: worker thread finished; awaiting finish of 6 more threads\n",
      "INFO - 09:37:19: worker thread finished; awaiting finish of 5 more threads\n",
      "INFO - 09:37:19: worker thread finished; awaiting finish of 4 more threads\n",
      "INFO - 09:37:19: worker thread finished; awaiting finish of 3 more threads\n",
      "INFO - 09:37:19: worker thread finished; awaiting finish of 2 more threads\n",
      "INFO - 09:37:19: worker thread finished; awaiting finish of 1 more threads\n",
      "INFO - 09:37:19: worker thread finished; awaiting finish of 0 more threads\n",
      "INFO - 09:37:19: EPOCH - 22 : training on 245833 raw words (78809 effective words) took 0.3s, 312781 effective words/s\n",
      "INFO - 09:37:19: worker thread finished; awaiting finish of 10 more threads\n",
      "INFO - 09:37:19: worker thread finished; awaiting finish of 9 more threads\n",
      "INFO - 09:37:19: worker thread finished; awaiting finish of 8 more threads\n",
      "INFO - 09:37:19: worker thread finished; awaiting finish of 7 more threads\n",
      "INFO - 09:37:19: worker thread finished; awaiting finish of 6 more threads\n",
      "INFO - 09:37:19: worker thread finished; awaiting finish of 5 more threads\n",
      "INFO - 09:37:19: worker thread finished; awaiting finish of 4 more threads\n",
      "INFO - 09:37:19: worker thread finished; awaiting finish of 3 more threads\n",
      "INFO - 09:37:19: worker thread finished; awaiting finish of 2 more threads\n",
      "INFO - 09:37:19: worker thread finished; awaiting finish of 1 more threads\n",
      "INFO - 09:37:19: worker thread finished; awaiting finish of 0 more threads\n",
      "INFO - 09:37:19: EPOCH - 23 : training on 245833 raw words (78809 effective words) took 0.2s, 325227 effective words/s\n",
      "INFO - 09:37:19: worker thread finished; awaiting finish of 10 more threads\n",
      "INFO - 09:37:19: worker thread finished; awaiting finish of 9 more threads\n",
      "INFO - 09:37:19: worker thread finished; awaiting finish of 8 more threads\n",
      "INFO - 09:37:19: worker thread finished; awaiting finish of 7 more threads\n",
      "INFO - 09:37:19: worker thread finished; awaiting finish of 6 more threads\n",
      "INFO - 09:37:19: worker thread finished; awaiting finish of 5 more threads\n",
      "INFO - 09:37:19: worker thread finished; awaiting finish of 4 more threads\n",
      "INFO - 09:37:19: worker thread finished; awaiting finish of 3 more threads\n",
      "INFO - 09:37:19: worker thread finished; awaiting finish of 2 more threads\n",
      "INFO - 09:37:19: worker thread finished; awaiting finish of 1 more threads\n",
      "INFO - 09:37:19: worker thread finished; awaiting finish of 0 more threads\n",
      "INFO - 09:37:19: EPOCH - 24 : training on 245833 raw words (78809 effective words) took 0.3s, 311913 effective words/s\n",
      "INFO - 09:37:19: worker thread finished; awaiting finish of 10 more threads\n",
      "INFO - 09:37:19: worker thread finished; awaiting finish of 9 more threads\n",
      "INFO - 09:37:19: worker thread finished; awaiting finish of 8 more threads\n",
      "INFO - 09:37:19: worker thread finished; awaiting finish of 7 more threads\n",
      "INFO - 09:37:19: worker thread finished; awaiting finish of 6 more threads\n",
      "INFO - 09:37:19: worker thread finished; awaiting finish of 5 more threads\n",
      "INFO - 09:37:19: worker thread finished; awaiting finish of 4 more threads\n",
      "INFO - 09:37:19: worker thread finished; awaiting finish of 3 more threads\n",
      "INFO - 09:37:19: worker thread finished; awaiting finish of 2 more threads\n",
      "INFO - 09:37:19: worker thread finished; awaiting finish of 1 more threads\n",
      "INFO - 09:37:19: worker thread finished; awaiting finish of 0 more threads\n",
      "INFO - 09:37:19: EPOCH - 25 : training on 245833 raw words (78809 effective words) took 0.3s, 310078 effective words/s\n",
      "INFO - 09:37:20: worker thread finished; awaiting finish of 10 more threads\n",
      "INFO - 09:37:20: worker thread finished; awaiting finish of 9 more threads\n",
      "INFO - 09:37:20: worker thread finished; awaiting finish of 8 more threads\n",
      "INFO - 09:37:20: worker thread finished; awaiting finish of 7 more threads\n",
      "INFO - 09:37:20: worker thread finished; awaiting finish of 6 more threads\n",
      "INFO - 09:37:20: worker thread finished; awaiting finish of 5 more threads\n",
      "INFO - 09:37:20: worker thread finished; awaiting finish of 4 more threads\n",
      "INFO - 09:37:20: worker thread finished; awaiting finish of 3 more threads\n",
      "INFO - 09:37:20: worker thread finished; awaiting finish of 2 more threads\n",
      "INFO - 09:37:20: worker thread finished; awaiting finish of 1 more threads\n",
      "INFO - 09:37:20: worker thread finished; awaiting finish of 0 more threads\n",
      "INFO - 09:37:20: EPOCH - 26 : training on 245833 raw words (78809 effective words) took 0.3s, 313320 effective words/s\n",
      "INFO - 09:37:20: worker thread finished; awaiting finish of 10 more threads\n",
      "INFO - 09:37:20: worker thread finished; awaiting finish of 9 more threads\n",
      "INFO - 09:37:20: worker thread finished; awaiting finish of 8 more threads\n",
      "INFO - 09:37:20: worker thread finished; awaiting finish of 7 more threads\n",
      "INFO - 09:37:20: worker thread finished; awaiting finish of 6 more threads\n",
      "INFO - 09:37:20: worker thread finished; awaiting finish of 5 more threads\n",
      "INFO - 09:37:20: worker thread finished; awaiting finish of 4 more threads\n",
      "INFO - 09:37:20: worker thread finished; awaiting finish of 3 more threads\n",
      "INFO - 09:37:20: worker thread finished; awaiting finish of 2 more threads\n",
      "INFO - 09:37:20: worker thread finished; awaiting finish of 1 more threads\n",
      "INFO - 09:37:20: worker thread finished; awaiting finish of 0 more threads\n",
      "INFO - 09:37:20: EPOCH - 27 : training on 245833 raw words (78809 effective words) took 0.2s, 322858 effective words/s\n",
      "INFO - 09:37:20: worker thread finished; awaiting finish of 10 more threads\n",
      "INFO - 09:37:20: worker thread finished; awaiting finish of 9 more threads\n",
      "INFO - 09:37:20: worker thread finished; awaiting finish of 8 more threads\n",
      "INFO - 09:37:20: worker thread finished; awaiting finish of 7 more threads\n",
      "INFO - 09:37:20: worker thread finished; awaiting finish of 6 more threads\n",
      "INFO - 09:37:20: worker thread finished; awaiting finish of 5 more threads\n",
      "INFO - 09:37:20: worker thread finished; awaiting finish of 4 more threads\n",
      "INFO - 09:37:20: worker thread finished; awaiting finish of 3 more threads\n",
      "INFO - 09:37:20: worker thread finished; awaiting finish of 2 more threads\n",
      "INFO - 09:37:20: worker thread finished; awaiting finish of 1 more threads\n",
      "INFO - 09:37:20: worker thread finished; awaiting finish of 0 more threads\n",
      "INFO - 09:37:20: EPOCH - 28 : training on 245833 raw words (78809 effective words) took 0.3s, 312911 effective words/s\n",
      "INFO - 09:37:21: worker thread finished; awaiting finish of 10 more threads\n",
      "INFO - 09:37:21: worker thread finished; awaiting finish of 9 more threads\n",
      "INFO - 09:37:21: worker thread finished; awaiting finish of 8 more threads\n",
      "INFO - 09:37:21: worker thread finished; awaiting finish of 7 more threads\n",
      "INFO - 09:37:21: worker thread finished; awaiting finish of 6 more threads\n",
      "INFO - 09:37:21: worker thread finished; awaiting finish of 5 more threads\n",
      "INFO - 09:37:21: worker thread finished; awaiting finish of 4 more threads\n",
      "INFO - 09:37:21: worker thread finished; awaiting finish of 3 more threads\n",
      "INFO - 09:37:21: worker thread finished; awaiting finish of 2 more threads\n",
      "INFO - 09:37:21: worker thread finished; awaiting finish of 1 more threads\n",
      "INFO - 09:37:21: worker thread finished; awaiting finish of 0 more threads\n",
      "INFO - 09:37:21: EPOCH - 29 : training on 245833 raw words (78809 effective words) took 0.2s, 334878 effective words/s\n",
      "INFO - 09:37:21: worker thread finished; awaiting finish of 10 more threads\n",
      "INFO - 09:37:21: worker thread finished; awaiting finish of 9 more threads\n",
      "INFO - 09:37:21: worker thread finished; awaiting finish of 8 more threads\n",
      "INFO - 09:37:21: worker thread finished; awaiting finish of 7 more threads\n",
      "INFO - 09:37:21: worker thread finished; awaiting finish of 6 more threads\n",
      "INFO - 09:37:21: worker thread finished; awaiting finish of 5 more threads\n",
      "INFO - 09:37:21: worker thread finished; awaiting finish of 4 more threads\n",
      "INFO - 09:37:21: worker thread finished; awaiting finish of 3 more threads\n",
      "INFO - 09:37:21: worker thread finished; awaiting finish of 2 more threads\n",
      "INFO - 09:37:21: worker thread finished; awaiting finish of 1 more threads\n",
      "INFO - 09:37:21: worker thread finished; awaiting finish of 0 more threads\n",
      "INFO - 09:37:21: EPOCH - 30 : training on 245833 raw words (78809 effective words) took 0.2s, 335038 effective words/s\n",
      "INFO - 09:37:21: Word2Vec lifecycle event {'msg': 'training on 7374990 raw words (2364270 effective words) took 8.0s, 296911 effective words/s', 'datetime': '2023-07-31T09:37:21.304614', 'gensim': '4.1.2', 'python': '3.9.12 (main, Apr  4 2022, 05:22:27) [MSC v.1916 64 bit (AMD64)]', 'platform': 'Windows-10-10.0.19041-SP0', 'event': 'train'}\n"
     ]
    },
    {
     "name": "stdout",
     "output_type": "stream",
     "text": [
      "Time to train the model: 0.13 mins\n"
     ]
    }
   ],
   "source": [
    "t = time()\n",
    "w2v_model.train(sentences, total_examples=w2v_model.corpus_count, epochs=30, report_delay=1)\n",
    "print('Time to train the model: {} mins'.format(round((time() - t) / 60, 2)))"
   ]
  },
  {
   "cell_type": "markdown",
   "metadata": {},
   "source": [
    "Modificar o modelo para torná-lo mais eficiente"
   ]
  },
  {
   "cell_type": "code",
   "execution_count": 191,
   "metadata": {},
   "outputs": [],
   "source": [
    "# deixa o modelo mais eficiente - pré-computar vetores normalizados por L2.\n",
    "#w2v_model.init_sims(replace=True)"
   ]
  },
  {
   "cell_type": "markdown",
   "metadata": {},
   "source": [
    "### Testes e métricas"
   ]
  },
  {
   "cell_type": "code",
   "execution_count": 192,
   "metadata": {},
   "outputs": [
    {
     "data": {
      "text/plain": [
       "[('31012_31012', 0.9726067781448364),\n",
       " ('52484_52484', 0.9718183875083923),\n",
       " ('13919_13919', 0.9716140031814575),\n",
       " ('60679_60679', 0.9708607196807861),\n",
       " ('56288_56288', 0.9656278491020203),\n",
       " ('12027_12027', 0.9512013792991638),\n",
       " ('34133_34133', 0.9424645304679871),\n",
       " ('54431_54431', 0.9393444657325745),\n",
       " ('29164_29164', 0.9300186038017273),\n",
       " ('65870_65870', 0.9254260063171387)]"
      ]
     },
     "metadata": {},
     "output_type": "display_data"
    }
   ],
   "source": [
    "display(w2v_model.wv.most_similar('13919', topn=10))"
   ]
  }
 ],
 "metadata": {
  "kernelspec": {
   "display_name": "base",
   "language": "python",
   "name": "python3"
  },
  "language_info": {
   "codemirror_mode": {
    "name": "ipython",
    "version": 3
   },
   "file_extension": ".py",
   "mimetype": "text/x-python",
   "name": "python",
   "nbconvert_exporter": "python",
   "pygments_lexer": "ipython3",
   "version": "3.9.12"
  },
  "orig_nbformat": 4
 },
 "nbformat": 4,
 "nbformat_minor": 2
}
