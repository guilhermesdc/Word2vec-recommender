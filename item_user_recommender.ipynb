{
 "cells": [
  {
   "cell_type": "markdown",
   "metadata": {},
   "source": [
    "### Bibliotecas\n",
    "\n",
    "Importação das bibliotecas usadas."
   ]
  },
  {
   "cell_type": "code",
   "execution_count": 101,
   "metadata": {},
   "outputs": [],
   "source": [
    "import pandas as pd  \n",
    "from time import time  \n",
    "from collections import defaultdict  \n",
    "\n",
    "\n",
    "import logging  # Setting up the loggings to monitor gensim\n",
    "logging.basicConfig(format=\"%(levelname)s - %(asctime)s: %(message)s\", datefmt= '%H:%M:%S', level=logging.INFO)"
   ]
  },
  {
   "cell_type": "markdown",
   "metadata": {},
   "source": [
    "Leitura da base de dados"
   ]
  },
  {
   "cell_type": "code",
   "execution_count": 102,
   "metadata": {},
   "outputs": [
    {
     "data": {
      "text/html": [
       "<div>\n",
       "<style scoped>\n",
       "    .dataframe tbody tr th:only-of-type {\n",
       "        vertical-align: middle;\n",
       "    }\n",
       "\n",
       "    .dataframe tbody tr th {\n",
       "        vertical-align: top;\n",
       "    }\n",
       "\n",
       "    .dataframe thead th {\n",
       "        text-align: right;\n",
       "    }\n",
       "</style>\n",
       "<table border=\"1\" class=\"dataframe\">\n",
       "  <thead>\n",
       "    <tr style=\"text-align: right;\">\n",
       "      <th></th>\n",
       "      <th>id_user</th>\n",
       "      <th>id_item</th>\n",
       "      <th>id_tag</th>\n",
       "      <th>timestamp</th>\n",
       "      <th>datetime</th>\n",
       "    </tr>\n",
       "  </thead>\n",
       "  <tbody>\n",
       "    <tr>\n",
       "      <th>0</th>\n",
       "      <td>56067</td>\n",
       "      <td>47295</td>\n",
       "      <td>278</td>\n",
       "      <td>1069319563</td>\n",
       "      <td>2003-11-20 07:12:43</td>\n",
       "    </tr>\n",
       "    <tr>\n",
       "      <th>1</th>\n",
       "      <td>56067</td>\n",
       "      <td>13165</td>\n",
       "      <td>1511</td>\n",
       "      <td>1070249587</td>\n",
       "      <td>2003-12-01 01:33:07</td>\n",
       "    </tr>\n",
       "    <tr>\n",
       "      <th>2</th>\n",
       "      <td>56067</td>\n",
       "      <td>47545</td>\n",
       "      <td>2846</td>\n",
       "      <td>1070342731</td>\n",
       "      <td>2003-12-02 03:25:31</td>\n",
       "    </tr>\n",
       "    <tr>\n",
       "      <th>3</th>\n",
       "      <td>56067</td>\n",
       "      <td>58683</td>\n",
       "      <td>16935</td>\n",
       "      <td>1070342792</td>\n",
       "      <td>2003-12-02 03:26:32</td>\n",
       "    </tr>\n",
       "    <tr>\n",
       "      <th>4</th>\n",
       "      <td>56067</td>\n",
       "      <td>58683</td>\n",
       "      <td>7732</td>\n",
       "      <td>1070342792</td>\n",
       "      <td>2003-12-02 03:26:32</td>\n",
       "    </tr>\n",
       "  </tbody>\n",
       "</table>\n",
       "</div>"
      ],
      "text/plain": [
       "   id_user  id_item  id_tag   timestamp             datetime\n",
       "0    56067    47295     278  1069319563  2003-11-20 07:12:43\n",
       "1    56067    13165    1511  1070249587  2003-12-01 01:33:07\n",
       "2    56067    47545    2846  1070342731  2003-12-02 03:25:31\n",
       "3    56067    58683   16935  1070342792  2003-12-02 03:26:32\n",
       "4    56067    58683    7732  1070342792  2003-12-02 03:26:32"
      ]
     },
     "metadata": {},
     "output_type": "display_data"
    }
   ],
   "source": [
    "df_item_delicious2k = pd.read_csv('database/delicious2k/interactions.csv', delimiter=';')\n",
    "display(df_item_delicious2k.head())"
   ]
  },
  {
   "cell_type": "markdown",
   "metadata": {},
   "source": [
    "Quantidade de dados nulos"
   ]
  },
  {
   "cell_type": "code",
   "execution_count": 103,
   "metadata": {},
   "outputs": [
    {
     "data": {
      "text/plain": [
       "id_user      0\n",
       "id_item      0\n",
       "id_tag       0\n",
       "timestamp    0\n",
       "datetime     0\n",
       "dtype: int64"
      ]
     },
     "execution_count": 103,
     "metadata": {},
     "output_type": "execute_result"
    }
   ],
   "source": [
    "df_item_delicious2k.isnull().sum()"
   ]
  },
  {
   "cell_type": "markdown",
   "metadata": {},
   "source": [
    "Mantendo somente as colunas id_user e id_item"
   ]
  },
  {
   "cell_type": "code",
   "execution_count": 104,
   "metadata": {},
   "outputs": [
    {
     "data": {
      "text/html": [
       "<div>\n",
       "<style scoped>\n",
       "    .dataframe tbody tr th:only-of-type {\n",
       "        vertical-align: middle;\n",
       "    }\n",
       "\n",
       "    .dataframe tbody tr th {\n",
       "        vertical-align: top;\n",
       "    }\n",
       "\n",
       "    .dataframe thead th {\n",
       "        text-align: right;\n",
       "    }\n",
       "</style>\n",
       "<table border=\"1\" class=\"dataframe\">\n",
       "  <thead>\n",
       "    <tr style=\"text-align: right;\">\n",
       "      <th></th>\n",
       "      <th>id_user</th>\n",
       "      <th>id_item</th>\n",
       "    </tr>\n",
       "  </thead>\n",
       "  <tbody>\n",
       "    <tr>\n",
       "      <th>0</th>\n",
       "      <td>56067</td>\n",
       "      <td>47295</td>\n",
       "    </tr>\n",
       "    <tr>\n",
       "      <th>1</th>\n",
       "      <td>56067</td>\n",
       "      <td>13165</td>\n",
       "    </tr>\n",
       "    <tr>\n",
       "      <th>2</th>\n",
       "      <td>56067</td>\n",
       "      <td>47545</td>\n",
       "    </tr>\n",
       "    <tr>\n",
       "      <th>3</th>\n",
       "      <td>56067</td>\n",
       "      <td>58683</td>\n",
       "    </tr>\n",
       "    <tr>\n",
       "      <th>4</th>\n",
       "      <td>56067</td>\n",
       "      <td>58683</td>\n",
       "    </tr>\n",
       "  </tbody>\n",
       "</table>\n",
       "</div>"
      ],
      "text/plain": [
       "   id_user  id_item\n",
       "0    56067    47295\n",
       "1    56067    13165\n",
       "2    56067    47545\n",
       "3    56067    58683\n",
       "4    56067    58683"
      ]
     },
     "metadata": {},
     "output_type": "display_data"
    }
   ],
   "source": [
    "df_item_delicious2k = df_item_delicious2k.drop(['id_tag', 'timestamp', 'datetime'], axis=1)\n",
    "display(df_item_delicious2k.head())"
   ]
  },
  {
   "cell_type": "markdown",
   "metadata": {},
   "source": [
    "Descarta as duplicadas"
   ]
  },
  {
   "cell_type": "code",
   "execution_count": 105,
   "metadata": {},
   "outputs": [
    {
     "name": "stdout",
     "output_type": "stream",
     "text": [
      "(437593, 2)\n",
      "(104794, 2)\n"
     ]
    }
   ],
   "source": [
    "print(df_item_delicious2k.shape)\n",
    "df_item_delicious2k = df_item_delicious2k.drop_duplicates(subset=['id_item', 'id_user'])\n",
    "print(df_item_delicious2k.shape)"
   ]
  },
  {
   "cell_type": "markdown",
   "metadata": {},
   "source": [
    "Agrupa os item consumidos por cada usuario"
   ]
  },
  {
   "cell_type": "code",
   "execution_count": 106,
   "metadata": {},
   "outputs": [
    {
     "data": {
      "text/html": [
       "<div>\n",
       "<style scoped>\n",
       "    .dataframe tbody tr th:only-of-type {\n",
       "        vertical-align: middle;\n",
       "    }\n",
       "\n",
       "    .dataframe tbody tr th {\n",
       "        vertical-align: top;\n",
       "    }\n",
       "\n",
       "    .dataframe thead th {\n",
       "        text-align: right;\n",
       "    }\n",
       "</style>\n",
       "<table border=\"1\" class=\"dataframe\">\n",
       "  <thead>\n",
       "    <tr style=\"text-align: right;\">\n",
       "      <th></th>\n",
       "      <th>id_user</th>\n",
       "      <th>id_items</th>\n",
       "    </tr>\n",
       "  </thead>\n",
       "  <tbody>\n",
       "    <tr>\n",
       "      <th>0</th>\n",
       "      <td>8</td>\n",
       "      <td>13589 2672 68527 32440 32439 38974 27038 4783 ...</td>\n",
       "    </tr>\n",
       "    <tr>\n",
       "      <th>1</th>\n",
       "      <td>32</td>\n",
       "      <td>62239 62241 62240 4976 15466 4605 4606 55074</td>\n",
       "    </tr>\n",
       "    <tr>\n",
       "      <th>2</th>\n",
       "      <td>57</td>\n",
       "      <td>8507 67451 11105 66754 67423 67426 48634 22642...</td>\n",
       "    </tr>\n",
       "    <tr>\n",
       "      <th>3</th>\n",
       "      <td>147</td>\n",
       "      <td>20113 65969 17379 59148 19160 8561 7962 50577 ...</td>\n",
       "    </tr>\n",
       "    <tr>\n",
       "      <th>4</th>\n",
       "      <td>233</td>\n",
       "      <td>65155 57035 37117 52587 30417 30431 59529 1094...</td>\n",
       "    </tr>\n",
       "  </tbody>\n",
       "</table>\n",
       "</div>"
      ],
      "text/plain": [
       "   id_user                                           id_items\n",
       "0        8  13589 2672 68527 32440 32439 38974 27038 4783 ...\n",
       "1       32       62239 62241 62240 4976 15466 4605 4606 55074\n",
       "2       57  8507 67451 11105 66754 67423 67426 48634 22642...\n",
       "3      147  20113 65969 17379 59148 19160 8561 7962 50577 ...\n",
       "4      233  65155 57035 37117 52587 30417 30431 59529 1094..."
      ]
     },
     "metadata": {},
     "output_type": "display_data"
    }
   ],
   "source": [
    "df_item_delicious2k = df_item_delicious2k.groupby('id_user')['id_item'].apply(lambda x: ' '.join(x.astype(str))).reset_index()\n",
    "df_item_delicious2k.columns = ['id_user', 'id_items']\n",
    "\n",
    "display(df_item_delicious2k.head())"
   ]
  },
  {
   "cell_type": "markdown",
   "metadata": {},
   "source": [
    "Salva em um arquivo csv"
   ]
  },
  {
   "cell_type": "code",
   "execution_count": 107,
   "metadata": {},
   "outputs": [],
   "source": [
    "df_item_delicious2k.to_csv('item_user_recommender.csv', index=False)"
   ]
  },
  {
   "cell_type": "markdown",
   "metadata": {},
   "source": [
    "Cria um dicionario"
   ]
  },
  {
   "cell_type": "code",
   "execution_count": 108,
   "metadata": {},
   "outputs": [
    {
     "name": "stderr",
     "output_type": "stream",
     "text": [
      "INFO - 09:17:46: collecting all words and their counts\n",
      "INFO - 09:17:46: PROGRESS: at sentence #0, processed 0 words and 0 word types\n",
      "INFO - 09:17:46: collected 154562 token types (unigram + bigrams) from a corpus of 104794 words and 1867 sentences\n",
      "INFO - 09:17:46: merged Phrases<154562 vocab, min_count=1, threshold=10.0, max_vocab_size=40000000>\n",
      "INFO - 09:17:46: Phrases lifecycle event {'msg': 'built Phrases<154562 vocab, min_count=1, threshold=10.0, max_vocab_size=40000000> in 0.11s', 'datetime': '2023-07-31T09:17:46.751099', 'gensim': '4.1.2', 'python': '3.9.12 (main, Apr  4 2022, 05:22:27) [MSC v.1916 64 bit (AMD64)]', 'platform': 'Windows-10-10.0.19041-SP0', 'event': 'created'}\n",
      "INFO - 09:17:46: exporting phrases from Phrases<154562 vocab, min_count=1, threshold=10.0, max_vocab_size=40000000>\n",
      "INFO - 09:17:46: FrozenPhrases lifecycle event {'msg': 'exported FrozenPhrases<17437 phrases, min_count=1, threshold=10.0> from Phrases<154562 vocab, min_count=1, threshold=10.0, max_vocab_size=40000000> in 0.17s', 'datetime': '2023-07-31T09:17:46.921095', 'gensim': '4.1.2', 'python': '3.9.12 (main, Apr  4 2022, 05:22:27) [MSC v.1916 64 bit (AMD64)]', 'platform': 'Windows-10-10.0.19041-SP0', 'event': 'created'}\n"
     ]
    },
    {
     "data": {
      "text/plain": [
       "['13919',\n",
       " '5995',\n",
       " '17971',\n",
       " '66086',\n",
       " '64598',\n",
       " '68666',\n",
       " '22832',\n",
       " '15592',\n",
       " '8414',\n",
       " '49804']"
      ]
     },
     "execution_count": 108,
     "metadata": {},
     "output_type": "execute_result"
    }
   ],
   "source": [
    "from gensim.models.phrases import Phrases, Phraser\n",
    "\n",
    "sent = [row.split() for row in df_item_delicious2k['id_items']]\n",
    "\n",
    "phrases = Phrases(sent, min_count=1, progress_per=10000)\n",
    "\n",
    "bigram = Phraser(phrases)\n",
    "\n",
    "sentences = bigram[sent]\n",
    "\n",
    "word_freq = defaultdict(int)\n",
    "for sent in sentences:\n",
    "    for i in sent:\n",
    "        word_freq[i] += 1\n",
    "len(word_freq)\n",
    "\n",
    "sorted(word_freq, key=word_freq.get, reverse=True)[:10]"
   ]
  },
  {
   "cell_type": "markdown",
   "metadata": {},
   "source": [
    "Cria uma tabela de vocabulário"
   ]
  },
  {
   "cell_type": "code",
   "execution_count": 109,
   "metadata": {},
   "outputs": [
    {
     "name": "stderr",
     "output_type": "stream",
     "text": [
      "INFO - 09:17:47: Word2Vec lifecycle event {'params': 'Word2Vec(vocab=0, vector_size=100, alpha=0.03)', 'datetime': '2023-07-31T09:17:47.036066', 'gensim': '4.1.2', 'python': '3.9.12 (main, Apr  4 2022, 05:22:27) [MSC v.1916 64 bit (AMD64)]', 'platform': 'Windows-10-10.0.19041-SP0', 'event': 'created'}\n",
      "INFO - 09:17:47: collecting all words and their counts\n",
      "INFO - 09:17:47: PROGRESS: at sentence #0, processed 0 words, keeping 0 word types\n",
      "INFO - 09:17:47: collected 64310 word types from a corpus of 85677 raw words and 1867 sentences\n",
      "INFO - 09:17:47: Creating a fresh vocabulary\n",
      "INFO - 09:17:47: Word2Vec lifecycle event {'msg': 'effective_min_count=20 retains 6 unique words (0.009329808738920852%% of original 64310, drops 64304)', 'datetime': '2023-07-31T09:17:47.145064', 'gensim': '4.1.2', 'python': '3.9.12 (main, Apr  4 2022, 05:22:27) [MSC v.1916 64 bit (AMD64)]', 'platform': 'Windows-10-10.0.19041-SP0', 'event': 'prepare_vocab'}\n",
      "INFO - 09:17:47: Word2Vec lifecycle event {'msg': 'effective_min_count=20 leaves 134 word corpus (0.1564013679283822%% of original 85677, drops 85543)', 'datetime': '2023-07-31T09:17:47.145064', 'gensim': '4.1.2', 'python': '3.9.12 (main, Apr  4 2022, 05:22:27) [MSC v.1916 64 bit (AMD64)]', 'platform': 'Windows-10-10.0.19041-SP0', 'event': 'prepare_vocab'}\n",
      "INFO - 09:17:47: deleting the raw counts dictionary of 64310 items\n",
      "INFO - 09:17:47: sample=6e-05 downsamples 6 most-common words\n",
      "INFO - 09:17:47: Word2Vec lifecycle event {'msg': 'downsampling leaves estimated 2.5880400578339158 word corpus (1.9%% of prior 134)', 'datetime': '2023-07-31T09:17:47.148066', 'gensim': '4.1.2', 'python': '3.9.12 (main, Apr  4 2022, 05:22:27) [MSC v.1916 64 bit (AMD64)]', 'platform': 'Windows-10-10.0.19041-SP0', 'event': 'prepare_vocab'}\n",
      "INFO - 09:17:47: estimated required memory for 6 words and 100 dimensions: 7800 bytes\n",
      "INFO - 09:17:47: resetting layer weights\n",
      "INFO - 09:17:47: Word2Vec lifecycle event {'update': False, 'trim_rule': 'None', 'datetime': '2023-07-31T09:17:47.149066', 'gensim': '4.1.2', 'python': '3.9.12 (main, Apr  4 2022, 05:22:27) [MSC v.1916 64 bit (AMD64)]', 'platform': 'Windows-10-10.0.19041-SP0', 'event': 'build_vocab'}\n"
     ]
    },
    {
     "name": "stdout",
     "output_type": "stream",
     "text": [
      "Time to build vocab: 0.0 mins\n"
     ]
    }
   ],
   "source": [
    "import multiprocessing\n",
    "\n",
    "from gensim.models import Word2Vec\n",
    "\n",
    "cores = multiprocessing.cpu_count() \n",
    "\n",
    "w2v_model = Word2Vec(min_count=20,\n",
    "                     window=2,\n",
    "                     sample=6e-5, \n",
    "                     alpha=0.03, \n",
    "                     min_alpha=0.0007, \n",
    "                     negative=20,\n",
    "                     workers=cores-1)\n",
    "\n",
    "t = time()\n",
    "w2v_model.build_vocab(sentences, progress_per=10000)\n",
    "print('Time to build vocab: {} mins'.format(round((time() - t) / 60, 2)))"
   ]
  },
  {
   "cell_type": "markdown",
   "metadata": {},
   "source": [
    "Treina o modelo"
   ]
  },
  {
   "cell_type": "code",
   "execution_count": 110,
   "metadata": {},
   "outputs": [
    {
     "name": "stderr",
     "output_type": "stream",
     "text": [
      "INFO - 09:17:47: Word2Vec lifecycle event {'msg': 'training model with 11 workers on 6 vocabulary and 100 features, using sg=0 hs=0 sample=6e-05 negative=20 window=2 shrink_windows=True', 'datetime': '2023-07-31T09:17:47.163067', 'gensim': '4.1.2', 'python': '3.9.12 (main, Apr  4 2022, 05:22:27) [MSC v.1916 64 bit (AMD64)]', 'platform': 'Windows-10-10.0.19041-SP0', 'event': 'train'}\n",
      "INFO - 09:17:47: worker thread finished; awaiting finish of 10 more threads\n",
      "INFO - 09:17:47: worker thread finished; awaiting finish of 9 more threads\n",
      "INFO - 09:17:47: worker thread finished; awaiting finish of 8 more threads\n",
      "INFO - 09:17:47: worker thread finished; awaiting finish of 7 more threads\n",
      "INFO - 09:17:47: worker thread finished; awaiting finish of 6 more threads\n",
      "INFO - 09:17:47: worker thread finished; awaiting finish of 5 more threads\n",
      "INFO - 09:17:47: worker thread finished; awaiting finish of 4 more threads\n",
      "INFO - 09:17:47: worker thread finished; awaiting finish of 3 more threads\n",
      "INFO - 09:17:47: worker thread finished; awaiting finish of 2 more threads\n",
      "INFO - 09:17:47: worker thread finished; awaiting finish of 1 more threads\n",
      "INFO - 09:17:47: worker thread finished; awaiting finish of 0 more threads\n",
      "INFO - 09:17:47: EPOCH - 1 : training on 85677 raw words (1 effective words) took 0.1s, 13 effective words/s\n",
      "INFO - 09:17:47: worker thread finished; awaiting finish of 10 more threads\n",
      "INFO - 09:17:47: worker thread finished; awaiting finish of 9 more threads\n",
      "INFO - 09:17:47: worker thread finished; awaiting finish of 8 more threads\n",
      "INFO - 09:17:47: worker thread finished; awaiting finish of 7 more threads\n",
      "INFO - 09:17:47: worker thread finished; awaiting finish of 6 more threads\n",
      "INFO - 09:17:47: worker thread finished; awaiting finish of 5 more threads\n",
      "INFO - 09:17:47: worker thread finished; awaiting finish of 4 more threads\n",
      "INFO - 09:17:47: worker thread finished; awaiting finish of 3 more threads\n",
      "INFO - 09:17:47: worker thread finished; awaiting finish of 2 more threads\n",
      "INFO - 09:17:47: worker thread finished; awaiting finish of 1 more threads\n",
      "INFO - 09:17:47: worker thread finished; awaiting finish of 0 more threads\n",
      "INFO - 09:17:47: EPOCH - 2 : training on 85677 raw words (3 effective words) took 0.1s, 59 effective words/s\n",
      "INFO - 09:17:47: worker thread finished; awaiting finish of 10 more threads\n",
      "INFO - 09:17:47: worker thread finished; awaiting finish of 9 more threads\n",
      "INFO - 09:17:47: worker thread finished; awaiting finish of 8 more threads\n",
      "INFO - 09:17:47: worker thread finished; awaiting finish of 7 more threads\n",
      "INFO - 09:17:47: worker thread finished; awaiting finish of 6 more threads\n",
      "INFO - 09:17:47: worker thread finished; awaiting finish of 5 more threads\n",
      "INFO - 09:17:47: worker thread finished; awaiting finish of 4 more threads\n",
      "INFO - 09:17:47: worker thread finished; awaiting finish of 3 more threads\n",
      "INFO - 09:17:47: worker thread finished; awaiting finish of 2 more threads\n",
      "INFO - 09:17:47: worker thread finished; awaiting finish of 1 more threads\n",
      "INFO - 09:17:47: worker thread finished; awaiting finish of 0 more threads\n",
      "INFO - 09:17:47: EPOCH - 3 : training on 85677 raw words (1 effective words) took 0.1s, 18 effective words/s\n",
      "INFO - 09:17:47: worker thread finished; awaiting finish of 10 more threads\n",
      "INFO - 09:17:47: worker thread finished; awaiting finish of 9 more threads\n",
      "INFO - 09:17:47: worker thread finished; awaiting finish of 8 more threads\n",
      "INFO - 09:17:47: worker thread finished; awaiting finish of 7 more threads\n",
      "INFO - 09:17:47: worker thread finished; awaiting finish of 6 more threads\n",
      "INFO - 09:17:47: worker thread finished; awaiting finish of 5 more threads\n",
      "INFO - 09:17:47: worker thread finished; awaiting finish of 4 more threads\n",
      "INFO - 09:17:47: worker thread finished; awaiting finish of 3 more threads\n",
      "INFO - 09:17:47: worker thread finished; awaiting finish of 2 more threads\n",
      "INFO - 09:17:47: worker thread finished; awaiting finish of 1 more threads\n",
      "INFO - 09:17:47: worker thread finished; awaiting finish of 0 more threads\n",
      "INFO - 09:17:47: EPOCH - 4 : training on 85677 raw words (2 effective words) took 0.1s, 26 effective words/s\n",
      "INFO - 09:17:47: worker thread finished; awaiting finish of 10 more threads\n",
      "INFO - 09:17:47: worker thread finished; awaiting finish of 9 more threads\n",
      "INFO - 09:17:47: worker thread finished; awaiting finish of 8 more threads\n",
      "INFO - 09:17:47: worker thread finished; awaiting finish of 7 more threads\n",
      "INFO - 09:17:47: worker thread finished; awaiting finish of 6 more threads\n",
      "INFO - 09:17:47: worker thread finished; awaiting finish of 5 more threads\n",
      "INFO - 09:17:47: worker thread finished; awaiting finish of 4 more threads\n",
      "INFO - 09:17:47: worker thread finished; awaiting finish of 3 more threads\n",
      "INFO - 09:17:47: worker thread finished; awaiting finish of 2 more threads\n",
      "INFO - 09:17:47: worker thread finished; awaiting finish of 1 more threads\n",
      "INFO - 09:17:47: worker thread finished; awaiting finish of 0 more threads\n",
      "INFO - 09:17:47: EPOCH - 5 : training on 85677 raw words (3 effective words) took 0.1s, 48 effective words/s\n",
      "INFO - 09:17:47: worker thread finished; awaiting finish of 10 more threads\n",
      "INFO - 09:17:47: worker thread finished; awaiting finish of 9 more threads\n",
      "INFO - 09:17:47: worker thread finished; awaiting finish of 8 more threads\n",
      "INFO - 09:17:47: worker thread finished; awaiting finish of 7 more threads\n",
      "INFO - 09:17:47: worker thread finished; awaiting finish of 6 more threads\n",
      "INFO - 09:17:47: worker thread finished; awaiting finish of 5 more threads\n",
      "INFO - 09:17:47: worker thread finished; awaiting finish of 4 more threads\n",
      "INFO - 09:17:47: worker thread finished; awaiting finish of 3 more threads\n",
      "INFO - 09:17:47: worker thread finished; awaiting finish of 2 more threads\n",
      "INFO - 09:17:47: worker thread finished; awaiting finish of 1 more threads\n",
      "INFO - 09:17:47: worker thread finished; awaiting finish of 0 more threads\n",
      "INFO - 09:17:47: EPOCH - 6 : training on 85677 raw words (3 effective words) took 0.0s, 88 effective words/s\n",
      "INFO - 09:17:47: worker thread finished; awaiting finish of 10 more threads\n",
      "INFO - 09:17:47: worker thread finished; awaiting finish of 9 more threads\n",
      "INFO - 09:17:47: worker thread finished; awaiting finish of 8 more threads\n",
      "INFO - 09:17:47: worker thread finished; awaiting finish of 7 more threads\n",
      "INFO - 09:17:47: worker thread finished; awaiting finish of 6 more threads\n",
      "INFO - 09:17:47: worker thread finished; awaiting finish of 5 more threads\n",
      "INFO - 09:17:47: worker thread finished; awaiting finish of 4 more threads\n",
      "INFO - 09:17:47: worker thread finished; awaiting finish of 3 more threads\n",
      "INFO - 09:17:47: worker thread finished; awaiting finish of 2 more threads\n",
      "INFO - 09:17:47: worker thread finished; awaiting finish of 1 more threads\n",
      "INFO - 09:17:47: worker thread finished; awaiting finish of 0 more threads\n",
      "INFO - 09:17:47: EPOCH - 7 : training on 85677 raw words (3 effective words) took 0.1s, 37 effective words/s\n",
      "INFO - 09:17:47: worker thread finished; awaiting finish of 10 more threads\n",
      "INFO - 09:17:47: worker thread finished; awaiting finish of 9 more threads\n",
      "INFO - 09:17:47: worker thread finished; awaiting finish of 8 more threads\n",
      "INFO - 09:17:47: worker thread finished; awaiting finish of 7 more threads\n",
      "INFO - 09:17:47: worker thread finished; awaiting finish of 6 more threads\n",
      "INFO - 09:17:47: worker thread finished; awaiting finish of 5 more threads\n",
      "INFO - 09:17:47: worker thread finished; awaiting finish of 4 more threads\n",
      "INFO - 09:17:47: worker thread finished; awaiting finish of 3 more threads\n",
      "INFO - 09:17:47: worker thread finished; awaiting finish of 2 more threads\n",
      "INFO - 09:17:47: worker thread finished; awaiting finish of 1 more threads\n",
      "INFO - 09:17:47: worker thread finished; awaiting finish of 0 more threads\n",
      "INFO - 09:17:47: EPOCH - 8 : training on 85677 raw words (0 effective words) took 0.1s, 0 effective words/s\n",
      "INFO - 09:17:47: worker thread finished; awaiting finish of 10 more threads\n",
      "INFO - 09:17:47: worker thread finished; awaiting finish of 9 more threads\n",
      "INFO - 09:17:47: worker thread finished; awaiting finish of 8 more threads\n",
      "INFO - 09:17:47: worker thread finished; awaiting finish of 7 more threads\n",
      "INFO - 09:17:47: worker thread finished; awaiting finish of 6 more threads\n",
      "INFO - 09:17:47: worker thread finished; awaiting finish of 5 more threads\n",
      "INFO - 09:17:47: worker thread finished; awaiting finish of 4 more threads\n",
      "INFO - 09:17:47: worker thread finished; awaiting finish of 3 more threads\n",
      "INFO - 09:17:47: worker thread finished; awaiting finish of 2 more threads\n",
      "INFO - 09:17:47: worker thread finished; awaiting finish of 1 more threads\n",
      "INFO - 09:17:47: worker thread finished; awaiting finish of 0 more threads\n",
      "INFO - 09:17:47: EPOCH - 9 : training on 85677 raw words (2 effective words) took 0.1s, 34 effective words/s\n",
      "INFO - 09:17:48: worker thread finished; awaiting finish of 10 more threads\n",
      "INFO - 09:17:48: worker thread finished; awaiting finish of 9 more threads\n",
      "INFO - 09:17:48: worker thread finished; awaiting finish of 8 more threads\n",
      "INFO - 09:17:48: worker thread finished; awaiting finish of 7 more threads\n",
      "INFO - 09:17:48: worker thread finished; awaiting finish of 6 more threads\n",
      "INFO - 09:17:48: worker thread finished; awaiting finish of 5 more threads\n",
      "INFO - 09:17:48: worker thread finished; awaiting finish of 4 more threads\n",
      "INFO - 09:17:48: worker thread finished; awaiting finish of 3 more threads\n",
      "INFO - 09:17:48: worker thread finished; awaiting finish of 2 more threads\n",
      "INFO - 09:17:48: worker thread finished; awaiting finish of 1 more threads\n",
      "INFO - 09:17:48: worker thread finished; awaiting finish of 0 more threads\n",
      "INFO - 09:17:48: EPOCH - 10 : training on 85677 raw words (3 effective words) took 0.1s, 48 effective words/s\n",
      "INFO - 09:17:48: worker thread finished; awaiting finish of 10 more threads\n",
      "INFO - 09:17:48: worker thread finished; awaiting finish of 9 more threads\n",
      "INFO - 09:17:48: worker thread finished; awaiting finish of 8 more threads\n",
      "INFO - 09:17:48: worker thread finished; awaiting finish of 7 more threads\n",
      "INFO - 09:17:48: worker thread finished; awaiting finish of 6 more threads\n",
      "INFO - 09:17:48: worker thread finished; awaiting finish of 5 more threads\n",
      "INFO - 09:17:48: worker thread finished; awaiting finish of 4 more threads\n",
      "INFO - 09:17:48: worker thread finished; awaiting finish of 3 more threads\n",
      "INFO - 09:17:48: worker thread finished; awaiting finish of 2 more threads\n",
      "INFO - 09:17:48: worker thread finished; awaiting finish of 1 more threads\n",
      "INFO - 09:17:48: worker thread finished; awaiting finish of 0 more threads\n",
      "INFO - 09:17:48: EPOCH - 11 : training on 85677 raw words (4 effective words) took 0.1s, 76 effective words/s\n",
      "INFO - 09:17:48: worker thread finished; awaiting finish of 10 more threads\n",
      "INFO - 09:17:48: worker thread finished; awaiting finish of 9 more threads\n",
      "INFO - 09:17:48: worker thread finished; awaiting finish of 8 more threads\n",
      "INFO - 09:17:48: worker thread finished; awaiting finish of 7 more threads\n",
      "INFO - 09:17:48: worker thread finished; awaiting finish of 6 more threads\n",
      "INFO - 09:17:48: worker thread finished; awaiting finish of 5 more threads\n",
      "INFO - 09:17:48: worker thread finished; awaiting finish of 4 more threads\n",
      "INFO - 09:17:48: worker thread finished; awaiting finish of 3 more threads\n",
      "INFO - 09:17:48: worker thread finished; awaiting finish of 2 more threads\n",
      "INFO - 09:17:48: worker thread finished; awaiting finish of 1 more threads\n",
      "INFO - 09:17:48: worker thread finished; awaiting finish of 0 more threads\n",
      "INFO - 09:17:48: EPOCH - 12 : training on 85677 raw words (2 effective words) took 0.1s, 28 effective words/s\n",
      "INFO - 09:17:48: worker thread finished; awaiting finish of 10 more threads\n",
      "INFO - 09:17:48: worker thread finished; awaiting finish of 9 more threads\n",
      "INFO - 09:17:48: worker thread finished; awaiting finish of 8 more threads\n",
      "INFO - 09:17:48: worker thread finished; awaiting finish of 7 more threads\n",
      "INFO - 09:17:48: worker thread finished; awaiting finish of 6 more threads\n",
      "INFO - 09:17:48: worker thread finished; awaiting finish of 5 more threads\n",
      "INFO - 09:17:48: worker thread finished; awaiting finish of 4 more threads\n",
      "INFO - 09:17:48: worker thread finished; awaiting finish of 3 more threads\n",
      "INFO - 09:17:48: worker thread finished; awaiting finish of 2 more threads\n",
      "INFO - 09:17:48: worker thread finished; awaiting finish of 1 more threads\n",
      "INFO - 09:17:48: worker thread finished; awaiting finish of 0 more threads\n",
      "INFO - 09:17:48: EPOCH - 13 : training on 85677 raw words (0 effective words) took 0.0s, 0 effective words/s\n",
      "INFO - 09:17:48: worker thread finished; awaiting finish of 10 more threads\n",
      "INFO - 09:17:48: worker thread finished; awaiting finish of 9 more threads\n",
      "INFO - 09:17:48: worker thread finished; awaiting finish of 8 more threads\n",
      "INFO - 09:17:48: worker thread finished; awaiting finish of 7 more threads\n",
      "INFO - 09:17:48: worker thread finished; awaiting finish of 6 more threads\n",
      "INFO - 09:17:48: worker thread finished; awaiting finish of 5 more threads\n",
      "INFO - 09:17:48: worker thread finished; awaiting finish of 4 more threads\n",
      "INFO - 09:17:48: worker thread finished; awaiting finish of 3 more threads\n",
      "INFO - 09:17:48: worker thread finished; awaiting finish of 2 more threads\n",
      "INFO - 09:17:48: worker thread finished; awaiting finish of 1 more threads\n",
      "INFO - 09:17:48: worker thread finished; awaiting finish of 0 more threads\n",
      "INFO - 09:17:48: EPOCH - 14 : training on 85677 raw words (1 effective words) took 0.0s, 20 effective words/s\n",
      "INFO - 09:17:48: worker thread finished; awaiting finish of 10 more threads\n",
      "INFO - 09:17:48: worker thread finished; awaiting finish of 9 more threads\n",
      "INFO - 09:17:48: worker thread finished; awaiting finish of 8 more threads\n",
      "INFO - 09:17:48: worker thread finished; awaiting finish of 7 more threads\n",
      "INFO - 09:17:48: worker thread finished; awaiting finish of 6 more threads\n",
      "INFO - 09:17:48: worker thread finished; awaiting finish of 5 more threads\n",
      "INFO - 09:17:48: worker thread finished; awaiting finish of 4 more threads\n",
      "INFO - 09:17:48: worker thread finished; awaiting finish of 3 more threads\n",
      "INFO - 09:17:48: worker thread finished; awaiting finish of 2 more threads\n",
      "INFO - 09:17:48: worker thread finished; awaiting finish of 1 more threads\n",
      "INFO - 09:17:48: worker thread finished; awaiting finish of 0 more threads\n",
      "INFO - 09:17:48: EPOCH - 15 : training on 85677 raw words (2 effective words) took 0.1s, 37 effective words/s\n",
      "INFO - 09:17:48: worker thread finished; awaiting finish of 10 more threads\n",
      "INFO - 09:17:48: worker thread finished; awaiting finish of 9 more threads\n",
      "INFO - 09:17:48: worker thread finished; awaiting finish of 8 more threads\n",
      "INFO - 09:17:48: worker thread finished; awaiting finish of 7 more threads\n",
      "INFO - 09:17:48: worker thread finished; awaiting finish of 6 more threads\n",
      "INFO - 09:17:48: worker thread finished; awaiting finish of 5 more threads\n",
      "INFO - 09:17:48: worker thread finished; awaiting finish of 4 more threads\n",
      "INFO - 09:17:48: worker thread finished; awaiting finish of 3 more threads\n",
      "INFO - 09:17:48: worker thread finished; awaiting finish of 2 more threads\n",
      "INFO - 09:17:48: worker thread finished; awaiting finish of 1 more threads\n",
      "INFO - 09:17:48: worker thread finished; awaiting finish of 0 more threads\n",
      "INFO - 09:17:48: EPOCH - 16 : training on 85677 raw words (4 effective words) took 0.1s, 54 effective words/s\n",
      "INFO - 09:17:48: worker thread finished; awaiting finish of 10 more threads\n",
      "INFO - 09:17:48: worker thread finished; awaiting finish of 9 more threads\n",
      "INFO - 09:17:48: worker thread finished; awaiting finish of 8 more threads\n",
      "INFO - 09:17:48: worker thread finished; awaiting finish of 7 more threads\n",
      "INFO - 09:17:48: worker thread finished; awaiting finish of 6 more threads\n",
      "INFO - 09:17:48: worker thread finished; awaiting finish of 5 more threads\n",
      "INFO - 09:17:48: worker thread finished; awaiting finish of 4 more threads\n",
      "INFO - 09:17:48: worker thread finished; awaiting finish of 3 more threads\n",
      "INFO - 09:17:48: worker thread finished; awaiting finish of 2 more threads\n",
      "INFO - 09:17:48: worker thread finished; awaiting finish of 1 more threads\n",
      "INFO - 09:17:48: worker thread finished; awaiting finish of 0 more threads\n",
      "INFO - 09:17:48: EPOCH - 17 : training on 85677 raw words (4 effective words) took 0.0s, 87 effective words/s\n",
      "INFO - 09:17:48: worker thread finished; awaiting finish of 10 more threads\n",
      "INFO - 09:17:48: worker thread finished; awaiting finish of 9 more threads\n",
      "INFO - 09:17:48: worker thread finished; awaiting finish of 8 more threads\n",
      "INFO - 09:17:48: worker thread finished; awaiting finish of 7 more threads\n",
      "INFO - 09:17:48: worker thread finished; awaiting finish of 6 more threads\n",
      "INFO - 09:17:48: worker thread finished; awaiting finish of 5 more threads\n",
      "INFO - 09:17:48: worker thread finished; awaiting finish of 4 more threads\n",
      "INFO - 09:17:48: worker thread finished; awaiting finish of 3 more threads\n",
      "INFO - 09:17:48: worker thread finished; awaiting finish of 2 more threads\n",
      "INFO - 09:17:48: worker thread finished; awaiting finish of 1 more threads\n",
      "INFO - 09:17:48: worker thread finished; awaiting finish of 0 more threads\n",
      "INFO - 09:17:48: EPOCH - 18 : training on 85677 raw words (4 effective words) took 0.0s, 711 effective words/s\n",
      "INFO - 09:17:48: worker thread finished; awaiting finish of 10 more threads\n",
      "INFO - 09:17:48: worker thread finished; awaiting finish of 9 more threads\n",
      "INFO - 09:17:48: worker thread finished; awaiting finish of 8 more threads\n",
      "INFO - 09:17:48: worker thread finished; awaiting finish of 7 more threads\n",
      "INFO - 09:17:48: worker thread finished; awaiting finish of 6 more threads\n",
      "INFO - 09:17:48: worker thread finished; awaiting finish of 5 more threads\n",
      "INFO - 09:17:48: worker thread finished; awaiting finish of 4 more threads\n",
      "INFO - 09:17:48: worker thread finished; awaiting finish of 3 more threads\n",
      "INFO - 09:17:48: worker thread finished; awaiting finish of 2 more threads\n",
      "INFO - 09:17:48: worker thread finished; awaiting finish of 1 more threads\n",
      "INFO - 09:17:48: worker thread finished; awaiting finish of 0 more threads\n",
      "INFO - 09:17:48: EPOCH - 19 : training on 85677 raw words (2 effective words) took 0.0s, 52 effective words/s\n",
      "INFO - 09:17:48: worker thread finished; awaiting finish of 10 more threads\n",
      "INFO - 09:17:48: worker thread finished; awaiting finish of 9 more threads\n",
      "INFO - 09:17:48: worker thread finished; awaiting finish of 8 more threads\n",
      "INFO - 09:17:48: worker thread finished; awaiting finish of 7 more threads\n",
      "INFO - 09:17:48: worker thread finished; awaiting finish of 6 more threads\n",
      "INFO - 09:17:48: worker thread finished; awaiting finish of 5 more threads\n",
      "INFO - 09:17:48: worker thread finished; awaiting finish of 4 more threads\n",
      "INFO - 09:17:48: worker thread finished; awaiting finish of 3 more threads\n",
      "INFO - 09:17:48: worker thread finished; awaiting finish of 2 more threads\n",
      "INFO - 09:17:48: worker thread finished; awaiting finish of 1 more threads\n",
      "INFO - 09:17:48: worker thread finished; awaiting finish of 0 more threads\n",
      "INFO - 09:17:48: EPOCH - 20 : training on 85677 raw words (3 effective words) took 0.1s, 44 effective words/s\n",
      "INFO - 09:17:48: worker thread finished; awaiting finish of 10 more threads\n",
      "INFO - 09:17:48: worker thread finished; awaiting finish of 9 more threads\n",
      "INFO - 09:17:48: worker thread finished; awaiting finish of 8 more threads\n",
      "INFO - 09:17:48: worker thread finished; awaiting finish of 7 more threads\n",
      "INFO - 09:17:48: worker thread finished; awaiting finish of 6 more threads\n",
      "INFO - 09:17:48: worker thread finished; awaiting finish of 5 more threads\n",
      "INFO - 09:17:48: worker thread finished; awaiting finish of 4 more threads\n",
      "INFO - 09:17:48: worker thread finished; awaiting finish of 3 more threads\n",
      "INFO - 09:17:48: worker thread finished; awaiting finish of 2 more threads\n",
      "INFO - 09:17:48: worker thread finished; awaiting finish of 1 more threads\n",
      "INFO - 09:17:48: worker thread finished; awaiting finish of 0 more threads\n",
      "INFO - 09:17:48: EPOCH - 21 : training on 85677 raw words (4 effective words) took 0.1s, 55 effective words/s\n",
      "INFO - 09:17:49: worker thread finished; awaiting finish of 10 more threads\n",
      "INFO - 09:17:49: worker thread finished; awaiting finish of 9 more threads\n",
      "INFO - 09:17:49: worker thread finished; awaiting finish of 8 more threads\n",
      "INFO - 09:17:49: worker thread finished; awaiting finish of 7 more threads\n",
      "INFO - 09:17:49: worker thread finished; awaiting finish of 6 more threads\n",
      "INFO - 09:17:49: worker thread finished; awaiting finish of 5 more threads\n",
      "INFO - 09:17:49: worker thread finished; awaiting finish of 4 more threads\n",
      "INFO - 09:17:49: worker thread finished; awaiting finish of 3 more threads\n",
      "INFO - 09:17:49: worker thread finished; awaiting finish of 2 more threads\n",
      "INFO - 09:17:49: worker thread finished; awaiting finish of 1 more threads\n",
      "INFO - 09:17:49: worker thread finished; awaiting finish of 0 more threads\n",
      "INFO - 09:17:49: EPOCH - 22 : training on 85677 raw words (2 effective words) took 0.1s, 33 effective words/s\n",
      "INFO - 09:17:49: worker thread finished; awaiting finish of 10 more threads\n",
      "INFO - 09:17:49: worker thread finished; awaiting finish of 9 more threads\n",
      "INFO - 09:17:49: worker thread finished; awaiting finish of 8 more threads\n",
      "INFO - 09:17:49: worker thread finished; awaiting finish of 7 more threads\n",
      "INFO - 09:17:49: worker thread finished; awaiting finish of 6 more threads\n",
      "INFO - 09:17:49: worker thread finished; awaiting finish of 5 more threads\n",
      "INFO - 09:17:49: worker thread finished; awaiting finish of 4 more threads\n",
      "INFO - 09:17:49: worker thread finished; awaiting finish of 3 more threads\n",
      "INFO - 09:17:49: worker thread finished; awaiting finish of 2 more threads\n",
      "INFO - 09:17:49: worker thread finished; awaiting finish of 1 more threads\n",
      "INFO - 09:17:49: worker thread finished; awaiting finish of 0 more threads\n",
      "INFO - 09:17:49: EPOCH - 23 : training on 85677 raw words (3 effective words) took 0.1s, 46 effective words/s\n",
      "INFO - 09:17:49: worker thread finished; awaiting finish of 10 more threads\n",
      "INFO - 09:17:49: worker thread finished; awaiting finish of 9 more threads\n",
      "INFO - 09:17:49: worker thread finished; awaiting finish of 8 more threads\n",
      "INFO - 09:17:49: worker thread finished; awaiting finish of 7 more threads\n",
      "INFO - 09:17:49: worker thread finished; awaiting finish of 6 more threads\n",
      "INFO - 09:17:49: worker thread finished; awaiting finish of 5 more threads\n",
      "INFO - 09:17:49: worker thread finished; awaiting finish of 4 more threads\n",
      "INFO - 09:17:49: worker thread finished; awaiting finish of 3 more threads\n",
      "INFO - 09:17:49: worker thread finished; awaiting finish of 2 more threads\n",
      "INFO - 09:17:49: worker thread finished; awaiting finish of 1 more threads\n",
      "INFO - 09:17:49: worker thread finished; awaiting finish of 0 more threads\n",
      "INFO - 09:17:49: EPOCH - 24 : training on 85677 raw words (4 effective words) took 0.0s, 720 effective words/s\n",
      "INFO - 09:17:49: worker thread finished; awaiting finish of 10 more threads\n",
      "INFO - 09:17:49: worker thread finished; awaiting finish of 9 more threads\n",
      "INFO - 09:17:49: worker thread finished; awaiting finish of 8 more threads\n",
      "INFO - 09:17:49: worker thread finished; awaiting finish of 7 more threads\n",
      "INFO - 09:17:49: worker thread finished; awaiting finish of 6 more threads\n",
      "INFO - 09:17:49: worker thread finished; awaiting finish of 5 more threads\n",
      "INFO - 09:17:49: worker thread finished; awaiting finish of 4 more threads\n",
      "INFO - 09:17:49: worker thread finished; awaiting finish of 3 more threads\n",
      "INFO - 09:17:49: worker thread finished; awaiting finish of 2 more threads\n",
      "INFO - 09:17:49: worker thread finished; awaiting finish of 1 more threads\n",
      "INFO - 09:17:49: worker thread finished; awaiting finish of 0 more threads\n",
      "INFO - 09:17:49: EPOCH - 25 : training on 85677 raw words (2 effective words) took 0.1s, 28 effective words/s\n",
      "INFO - 09:17:49: worker thread finished; awaiting finish of 10 more threads\n",
      "INFO - 09:17:49: worker thread finished; awaiting finish of 9 more threads\n",
      "INFO - 09:17:49: worker thread finished; awaiting finish of 8 more threads\n",
      "INFO - 09:17:49: worker thread finished; awaiting finish of 7 more threads\n",
      "INFO - 09:17:49: worker thread finished; awaiting finish of 6 more threads\n",
      "INFO - 09:17:49: worker thread finished; awaiting finish of 5 more threads\n",
      "INFO - 09:17:49: worker thread finished; awaiting finish of 4 more threads\n",
      "INFO - 09:17:49: worker thread finished; awaiting finish of 3 more threads\n",
      "INFO - 09:17:49: worker thread finished; awaiting finish of 2 more threads\n",
      "INFO - 09:17:49: worker thread finished; awaiting finish of 1 more threads\n",
      "INFO - 09:17:49: worker thread finished; awaiting finish of 0 more threads\n",
      "INFO - 09:17:49: EPOCH - 26 : training on 85677 raw words (3 effective words) took 0.0s, 261 effective words/s\n",
      "INFO - 09:17:49: worker thread finished; awaiting finish of 10 more threads\n",
      "INFO - 09:17:49: worker thread finished; awaiting finish of 9 more threads\n",
      "INFO - 09:17:49: worker thread finished; awaiting finish of 8 more threads\n",
      "INFO - 09:17:49: worker thread finished; awaiting finish of 7 more threads\n",
      "INFO - 09:17:49: worker thread finished; awaiting finish of 6 more threads\n",
      "INFO - 09:17:49: worker thread finished; awaiting finish of 5 more threads\n",
      "INFO - 09:17:49: worker thread finished; awaiting finish of 4 more threads\n",
      "INFO - 09:17:49: worker thread finished; awaiting finish of 3 more threads\n",
      "INFO - 09:17:49: worker thread finished; awaiting finish of 2 more threads\n",
      "INFO - 09:17:49: worker thread finished; awaiting finish of 1 more threads\n",
      "INFO - 09:17:49: worker thread finished; awaiting finish of 0 more threads\n",
      "INFO - 09:17:49: EPOCH - 27 : training on 85677 raw words (3 effective words) took 0.1s, 60 effective words/s\n",
      "INFO - 09:17:49: worker thread finished; awaiting finish of 10 more threads\n",
      "INFO - 09:17:49: worker thread finished; awaiting finish of 9 more threads\n",
      "INFO - 09:17:49: worker thread finished; awaiting finish of 8 more threads\n",
      "INFO - 09:17:49: worker thread finished; awaiting finish of 7 more threads\n",
      "INFO - 09:17:49: worker thread finished; awaiting finish of 6 more threads\n",
      "INFO - 09:17:49: worker thread finished; awaiting finish of 5 more threads\n",
      "INFO - 09:17:49: worker thread finished; awaiting finish of 4 more threads\n",
      "INFO - 09:17:49: worker thread finished; awaiting finish of 3 more threads\n",
      "INFO - 09:17:49: worker thread finished; awaiting finish of 2 more threads\n",
      "INFO - 09:17:49: worker thread finished; awaiting finish of 1 more threads\n",
      "INFO - 09:17:49: worker thread finished; awaiting finish of 0 more threads\n",
      "INFO - 09:17:49: EPOCH - 28 : training on 85677 raw words (3 effective words) took 0.1s, 40 effective words/s\n",
      "INFO - 09:17:49: worker thread finished; awaiting finish of 10 more threads\n",
      "INFO - 09:17:49: worker thread finished; awaiting finish of 9 more threads\n",
      "INFO - 09:17:49: worker thread finished; awaiting finish of 8 more threads\n",
      "INFO - 09:17:49: worker thread finished; awaiting finish of 7 more threads\n",
      "INFO - 09:17:49: worker thread finished; awaiting finish of 6 more threads\n",
      "INFO - 09:17:49: worker thread finished; awaiting finish of 5 more threads\n",
      "INFO - 09:17:49: worker thread finished; awaiting finish of 4 more threads\n",
      "INFO - 09:17:49: worker thread finished; awaiting finish of 3 more threads\n",
      "INFO - 09:17:49: worker thread finished; awaiting finish of 2 more threads\n",
      "INFO - 09:17:49: worker thread finished; awaiting finish of 1 more threads\n",
      "INFO - 09:17:49: worker thread finished; awaiting finish of 0 more threads\n",
      "INFO - 09:17:49: EPOCH - 29 : training on 85677 raw words (0 effective words) took 0.1s, 0 effective words/s\n",
      "INFO - 09:17:49: worker thread finished; awaiting finish of 10 more threads\n",
      "INFO - 09:17:49: worker thread finished; awaiting finish of 9 more threads\n",
      "INFO - 09:17:49: worker thread finished; awaiting finish of 8 more threads\n",
      "INFO - 09:17:49: worker thread finished; awaiting finish of 7 more threads\n",
      "INFO - 09:17:49: worker thread finished; awaiting finish of 6 more threads\n",
      "INFO - 09:17:49: worker thread finished; awaiting finish of 5 more threads\n",
      "INFO - 09:17:49: worker thread finished; awaiting finish of 4 more threads\n",
      "INFO - 09:17:49: worker thread finished; awaiting finish of 3 more threads\n",
      "INFO - 09:17:49: worker thread finished; awaiting finish of 2 more threads\n",
      "INFO - 09:17:49: worker thread finished; awaiting finish of 1 more threads\n",
      "INFO - 09:17:49: worker thread finished; awaiting finish of 0 more threads\n",
      "INFO - 09:17:49: EPOCH - 30 : training on 85677 raw words (3 effective words) took 0.1s, 59 effective words/s\n",
      "INFO - 09:17:49: Word2Vec lifecycle event {'msg': 'training on 2570310 raw words (74 effective words) took 2.5s, 29 effective words/s', 'datetime': '2023-07-31T09:17:49.698975', 'gensim': '4.1.2', 'python': '3.9.12 (main, Apr  4 2022, 05:22:27) [MSC v.1916 64 bit (AMD64)]', 'platform': 'Windows-10-10.0.19041-SP0', 'event': 'train'}\n"
     ]
    },
    {
     "name": "stdout",
     "output_type": "stream",
     "text": [
      "Time to train the model: 0.04 mins\n"
     ]
    }
   ],
   "source": [
    "t = time()\n",
    "w2v_model.train(sentences, total_examples=w2v_model.corpus_count, epochs=30, report_delay=1)\n",
    "print('Time to train the model: {} mins'.format(round((time() - t) / 60, 2)))"
   ]
  },
  {
   "cell_type": "markdown",
   "metadata": {},
   "source": [
    "Modificar o modelo para torná-lo mais eficiente"
   ]
  },
  {
   "cell_type": "code",
   "execution_count": 111,
   "metadata": {},
   "outputs": [],
   "source": [
    "# deixa o modelo mais eficiente - pré-computar vetores normalizados por L2.\n",
    "#w2v_model.init_sims(replace=True)"
   ]
  },
  {
   "cell_type": "markdown",
   "metadata": {},
   "source": [
    "### Testes e métricas"
   ]
  },
  {
   "cell_type": "code",
   "execution_count": 112,
   "metadata": {},
   "outputs": [
    {
     "data": {
      "text/plain": [
       "[('17971', 0.06797593832015991),\n",
       " ('64598', 0.009391184896230698),\n",
       " ('68666', 0.004503015894442797),\n",
       " ('5995', -0.010839187540113926),\n",
       " ('66086', -0.023671669885516167)]"
      ]
     },
     "metadata": {},
     "output_type": "display_data"
    }
   ],
   "source": [
    "display(w2v_model.wv.most_similar('13919', topn=10))"
   ]
  }
 ],
 "metadata": {
  "kernelspec": {
   "display_name": "base",
   "language": "python",
   "name": "python3"
  },
  "language_info": {
   "codemirror_mode": {
    "name": "ipython",
    "version": 3
   },
   "file_extension": ".py",
   "mimetype": "text/x-python",
   "name": "python",
   "nbconvert_exporter": "python",
   "pygments_lexer": "ipython3",
   "version": "3.9.12"
  },
  "orig_nbformat": 4
 },
 "nbformat": 4,
 "nbformat_minor": 2
}
