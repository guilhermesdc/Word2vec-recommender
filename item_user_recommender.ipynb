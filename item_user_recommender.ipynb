{
 "cells": [
  {
   "cell_type": "markdown",
   "metadata": {},
   "source": [
    "### Bibliotecas\n",
    "\n",
    "Importação das bibliotecas usadas."
   ]
  },
  {
   "cell_type": "code",
   "execution_count": 15,
   "metadata": {},
   "outputs": [],
   "source": [
    "import pandas as pd  \n",
    "from time import time  \n",
    "from collections import defaultdict  \n",
    "\n",
    "\n",
    "import logging  # Setting up the loggings to monitor gensim\n",
    "logging.basicConfig(format=\"%(levelname)s - %(asctime)s: %(message)s\", datefmt= '%H:%M:%S', level=logging.INFO)"
   ]
  },
  {
   "cell_type": "markdown",
   "metadata": {},
   "source": [
    "Leitura das bases de dados"
   ]
  },
  {
   "cell_type": "code",
   "execution_count": 16,
   "metadata": {},
   "outputs": [
    {
     "data": {
      "text/html": [
       "<div>\n",
       "<style scoped>\n",
       "    .dataframe tbody tr th:only-of-type {\n",
       "        vertical-align: middle;\n",
       "    }\n",
       "\n",
       "    .dataframe tbody tr th {\n",
       "        vertical-align: top;\n",
       "    }\n",
       "\n",
       "    .dataframe thead th {\n",
       "        text-align: right;\n",
       "    }\n",
       "</style>\n",
       "<table border=\"1\" class=\"dataframe\">\n",
       "  <thead>\n",
       "    <tr style=\"text-align: right;\">\n",
       "      <th></th>\n",
       "      <th>title</th>\n",
       "      <th>url</th>\n",
       "      <th>urlPrincipal</th>\n",
       "    </tr>\n",
       "    <tr>\n",
       "      <th>id_item</th>\n",
       "      <th></th>\n",
       "      <th></th>\n",
       "      <th></th>\n",
       "    </tr>\n",
       "  </thead>\n",
       "  <tbody>\n",
       "    <tr>\n",
       "      <th>0</th>\n",
       "      <td>Index of ftp://ftp.mozilla.org/pub/mozilla.org...</td>\n",
       "      <td>ftp://ftp.mozilla.org/pub/mozilla.org/firefox/...</td>\n",
       "      <td>ftp.mozilla.org</td>\n",
       "    </tr>\n",
       "    <tr>\n",
       "      <th>1</th>\n",
       "      <td>Fostering the development of critical thinking...</td>\n",
       "      <td>http://0-www.informaworld.com.alpha2.latrobe.e...</td>\n",
       "      <td>0-www.informaworld.com.alpha2.latrobe.edu.au</td>\n",
       "    </tr>\n",
       "    <tr>\n",
       "      <th>2</th>\n",
       "      <td>#000000book</td>\n",
       "      <td>http://000000book.com/</td>\n",
       "      <td>000000book.com</td>\n",
       "    </tr>\n",
       "    <tr>\n",
       "      <th>3</th>\n",
       "      <td>Loosely Assembled » Retrofitting Geo for the 4...</td>\n",
       "      <td>http://0009.org/blog/2010/07/16/retrofitting-g...</td>\n",
       "      <td>0009.org</td>\n",
       "    </tr>\n",
       "    <tr>\n",
       "      <th>4</th>\n",
       "      <td>(2009) Drippings are Dead</td>\n",
       "      <td>http://007485.com/2009_drippings-are-dead.php</td>\n",
       "      <td>007485.com</td>\n",
       "    </tr>\n",
       "  </tbody>\n",
       "</table>\n",
       "</div>"
      ],
      "text/plain": [
       "                                                     title  \\\n",
       "id_item                                                      \n",
       "0        Index of ftp://ftp.mozilla.org/pub/mozilla.org...   \n",
       "1        Fostering the development of critical thinking...   \n",
       "2                                              #000000book   \n",
       "3        Loosely Assembled » Retrofitting Geo for the 4...   \n",
       "4                                (2009) Drippings are Dead   \n",
       "\n",
       "                                                       url  \\\n",
       "id_item                                                      \n",
       "0        ftp://ftp.mozilla.org/pub/mozilla.org/firefox/...   \n",
       "1        http://0-www.informaworld.com.alpha2.latrobe.e...   \n",
       "2                                   http://000000book.com/   \n",
       "3        http://0009.org/blog/2010/07/16/retrofitting-g...   \n",
       "4            http://007485.com/2009_drippings-are-dead.php   \n",
       "\n",
       "                                         urlPrincipal  \n",
       "id_item                                                \n",
       "0                                     ftp.mozilla.org  \n",
       "1        0-www.informaworld.com.alpha2.latrobe.edu.au  \n",
       "2                                      000000book.com  \n",
       "3                                            0009.org  \n",
       "4                                          007485.com  "
      ]
     },
     "metadata": {},
     "output_type": "display_data"
    },
    {
     "data": {
      "text/html": [
       "<div>\n",
       "<style scoped>\n",
       "    .dataframe tbody tr th:only-of-type {\n",
       "        vertical-align: middle;\n",
       "    }\n",
       "\n",
       "    .dataframe tbody tr th {\n",
       "        vertical-align: top;\n",
       "    }\n",
       "\n",
       "    .dataframe thead th {\n",
       "        text-align: right;\n",
       "    }\n",
       "</style>\n",
       "<table border=\"1\" class=\"dataframe\">\n",
       "  <thead>\n",
       "    <tr style=\"text-align: right;\">\n",
       "      <th></th>\n",
       "      <th>name_tag</th>\n",
       "    </tr>\n",
       "    <tr>\n",
       "      <th>id_tag</th>\n",
       "      <th></th>\n",
       "    </tr>\n",
       "  </thead>\n",
       "  <tbody>\n",
       "    <tr>\n",
       "      <th>1</th>\n",
       "      <td>collection_development</td>\n",
       "    </tr>\n",
       "    <tr>\n",
       "      <th>2</th>\n",
       "      <td>library</td>\n",
       "    </tr>\n",
       "    <tr>\n",
       "      <th>3</th>\n",
       "      <td>collection</td>\n",
       "    </tr>\n",
       "    <tr>\n",
       "      <th>4</th>\n",
       "      <td>development</td>\n",
       "    </tr>\n",
       "    <tr>\n",
       "      <th>5</th>\n",
       "      <td>lesson_plan</td>\n",
       "    </tr>\n",
       "  </tbody>\n",
       "</table>\n",
       "</div>"
      ],
      "text/plain": [
       "                      name_tag\n",
       "id_tag                        \n",
       "1       collection_development\n",
       "2                      library\n",
       "3                   collection\n",
       "4                  development\n",
       "5                  lesson_plan"
      ]
     },
     "metadata": {},
     "output_type": "display_data"
    }
   ],
   "source": [
    "df_item_delicious2k = pd.read_csv('database/delicious2k/items.csv', index_col=0, delimiter=';')\n",
    "display(df_item_delicious2k.head())\n",
    "\n",
    "df_tags_delicious2k = pd.read_csv('database/delicious2k/tags.csv', index_col=0, delimiter=';')\n",
    "display(df_tags_delicious2k.head())"
   ]
  },
  {
   "cell_type": "markdown",
   "metadata": {},
   "source": [
    "Quantidade de dados nulos"
   ]
  },
  {
   "cell_type": "code",
   "execution_count": 17,
   "metadata": {},
   "outputs": [
    {
     "data": {
      "text/plain": [
       "title           44\n",
       "url              0\n",
       "urlPrincipal     0\n",
       "dtype: int64"
      ]
     },
     "execution_count": 17,
     "metadata": {},
     "output_type": "execute_result"
    }
   ],
   "source": [
    "df_item_delicious2k.isnull().sum()"
   ]
  },
  {
   "cell_type": "markdown",
   "metadata": {},
   "source": [
    "Deletando os dados nulos"
   ]
  },
  {
   "cell_type": "code",
   "execution_count": 18,
   "metadata": {},
   "outputs": [
    {
     "data": {
      "text/plain": [
       "title           0\n",
       "url             0\n",
       "urlPrincipal    0\n",
       "dtype: int64"
      ]
     },
     "execution_count": 18,
     "metadata": {},
     "output_type": "execute_result"
    }
   ],
   "source": [
    "df_item_delicious2k = df_item_delicious2k.dropna().reset_index(drop=True)\n",
    "df_item_delicious2k.isnull().sum()"
   ]
  },
  {
   "cell_type": "markdown",
   "metadata": {},
   "source": [
    "Mantendo somente as colunas id e title"
   ]
  },
  {
   "cell_type": "code",
   "execution_count": 19,
   "metadata": {},
   "outputs": [
    {
     "data": {
      "text/html": [
       "<div>\n",
       "<style scoped>\n",
       "    .dataframe tbody tr th:only-of-type {\n",
       "        vertical-align: middle;\n",
       "    }\n",
       "\n",
       "    .dataframe tbody tr th {\n",
       "        vertical-align: top;\n",
       "    }\n",
       "\n",
       "    .dataframe thead th {\n",
       "        text-align: right;\n",
       "    }\n",
       "</style>\n",
       "<table border=\"1\" class=\"dataframe\">\n",
       "  <thead>\n",
       "    <tr style=\"text-align: right;\">\n",
       "      <th></th>\n",
       "      <th>title</th>\n",
       "    </tr>\n",
       "  </thead>\n",
       "  <tbody>\n",
       "    <tr>\n",
       "      <th>0</th>\n",
       "      <td>Index of ftp://ftp.mozilla.org/pub/mozilla.org...</td>\n",
       "    </tr>\n",
       "    <tr>\n",
       "      <th>1</th>\n",
       "      <td>Fostering the development of critical thinking...</td>\n",
       "    </tr>\n",
       "    <tr>\n",
       "      <th>2</th>\n",
       "      <td>#000000book</td>\n",
       "    </tr>\n",
       "    <tr>\n",
       "      <th>3</th>\n",
       "      <td>Loosely Assembled » Retrofitting Geo for the 4...</td>\n",
       "    </tr>\n",
       "    <tr>\n",
       "      <th>4</th>\n",
       "      <td>(2009) Drippings are Dead</td>\n",
       "    </tr>\n",
       "  </tbody>\n",
       "</table>\n",
       "</div>"
      ],
      "text/plain": [
       "                                               title\n",
       "0  Index of ftp://ftp.mozilla.org/pub/mozilla.org...\n",
       "1  Fostering the development of critical thinking...\n",
       "2                                        #000000book\n",
       "3  Loosely Assembled » Retrofitting Geo for the 4...\n",
       "4                          (2009) Drippings are Dead"
      ]
     },
     "metadata": {},
     "output_type": "display_data"
    }
   ],
   "source": [
    "df_item_delicious2k = df_item_delicious2k.drop(['url', 'urlPrincipal'], axis=1)\n",
    "display(df_item_delicious2k.head())"
   ]
  },
  {
   "cell_type": "markdown",
   "metadata": {},
   "source": [
    "Remover os caracteres que não são alfanuméricos e deixando todas as letras minusculas"
   ]
  },
  {
   "cell_type": "code",
   "execution_count": 20,
   "metadata": {},
   "outputs": [
    {
     "name": "stderr",
     "output_type": "stream",
     "text": [
      "C:\\Users\\User\\AppData\\Local\\Temp\\ipykernel_2844\\442430736.py:1: FutureWarning: The default value of regex will change from True to False in a future version.\n",
      "  df_item_delicious2k['title'] = df_item_delicious2k['title'].str.replace('[^a-zA-Z0-9 \\n\\.]', '')\n"
     ]
    },
    {
     "data": {
      "text/html": [
       "<div>\n",
       "<style scoped>\n",
       "    .dataframe tbody tr th:only-of-type {\n",
       "        vertical-align: middle;\n",
       "    }\n",
       "\n",
       "    .dataframe tbody tr th {\n",
       "        vertical-align: top;\n",
       "    }\n",
       "\n",
       "    .dataframe thead th {\n",
       "        text-align: right;\n",
       "    }\n",
       "</style>\n",
       "<table border=\"1\" class=\"dataframe\">\n",
       "  <thead>\n",
       "    <tr style=\"text-align: right;\">\n",
       "      <th></th>\n",
       "      <th>title</th>\n",
       "    </tr>\n",
       "  </thead>\n",
       "  <tbody>\n",
       "    <tr>\n",
       "      <th>0</th>\n",
       "      <td>index of ftpftp.mozilla.orgpubmozilla.orgfiref...</td>\n",
       "    </tr>\n",
       "    <tr>\n",
       "      <th>1</th>\n",
       "      <td>fostering the development of critical thinking...</td>\n",
       "    </tr>\n",
       "    <tr>\n",
       "      <th>2</th>\n",
       "      <td>000000book</td>\n",
       "    </tr>\n",
       "    <tr>\n",
       "      <th>3</th>\n",
       "      <td>loosely assembled  retrofitting geo for the 4t...</td>\n",
       "    </tr>\n",
       "    <tr>\n",
       "      <th>4</th>\n",
       "      <td>2009 drippings are dead</td>\n",
       "    </tr>\n",
       "  </tbody>\n",
       "</table>\n",
       "</div>"
      ],
      "text/plain": [
       "                                               title\n",
       "0  index of ftpftp.mozilla.orgpubmozilla.orgfiref...\n",
       "1  fostering the development of critical thinking...\n",
       "2                                         000000book\n",
       "3  loosely assembled  retrofitting geo for the 4t...\n",
       "4                            2009 drippings are dead"
      ]
     },
     "metadata": {},
     "output_type": "display_data"
    }
   ],
   "source": [
    "df_item_delicious2k['title'] = df_item_delicious2k['title'].str.replace('[^a-zA-Z0-9 \\n\\.]', '')\n",
    "df_item_delicious2k['title'] = df_item_delicious2k['title'].str.lower()\n",
    "\n",
    "display(df_item_delicious2k.head())"
   ]
  },
  {
   "cell_type": "markdown",
   "metadata": {},
   "source": [
    "Cria um dicionario"
   ]
  },
  {
   "cell_type": "code",
   "execution_count": 21,
   "metadata": {},
   "outputs": [
    {
     "name": "stderr",
     "output_type": "stream",
     "text": [
      "INFO - 14:21:55: collecting all words and their counts\n",
      "INFO - 14:21:55: PROGRESS: at sentence #0, processed 0 words and 0 word types\n",
      "INFO - 14:21:55: PROGRESS: at sentence #10000, processed 66882 words and 57606 word types\n",
      "INFO - 14:21:55: PROGRESS: at sentence #20000, processed 132211 words and 104156 word types\n",
      "INFO - 14:21:55: PROGRESS: at sentence #30000, processed 198393 words and 148649 word types\n",
      "INFO - 14:21:55: PROGRESS: at sentence #40000, processed 265253 words and 191819 word types\n",
      "INFO - 14:21:56: PROGRESS: at sentence #50000, processed 334008 words and 234133 word types\n",
      "INFO - 14:21:56: PROGRESS: at sentence #60000, processed 404492 words and 275062 word types\n",
      "INFO - 14:21:56: collected 310072 token types (unigram + bigrams) from a corpus of 466224 words and 69182 sentences\n",
      "INFO - 14:21:56: merged Phrases<310072 vocab, min_count=5, threshold=10.0, max_vocab_size=40000000>\n",
      "INFO - 14:21:56: Phrases lifecycle event {'msg': 'built Phrases<310072 vocab, min_count=5, threshold=10.0, max_vocab_size=40000000> in 0.48s', 'datetime': '2023-07-26T14:21:56.154574', 'gensim': '4.1.2', 'python': '3.9.12 (main, Apr  4 2022, 05:22:27) [MSC v.1916 64 bit (AMD64)]', 'platform': 'Windows-10-10.0.19041-SP0', 'event': 'created'}\n",
      "INFO - 14:21:56: exporting phrases from Phrases<310072 vocab, min_count=5, threshold=10.0, max_vocab_size=40000000>\n",
      "INFO - 14:21:56: FrozenPhrases lifecycle event {'msg': 'exported FrozenPhrases<2496 phrases, min_count=5, threshold=10.0> from Phrases<310072 vocab, min_count=5, threshold=10.0, max_vocab_size=40000000> in 0.47s', 'datetime': '2023-07-26T14:21:56.630573', 'gensim': '4.1.2', 'python': '3.9.12 (main, Apr  4 2022, 05:22:27) [MSC v.1916 64 bit (AMD64)]', 'platform': 'Windows-10-10.0.19041-SP0', 'event': 'created'}\n"
     ]
    },
    {
     "data": {
      "text/plain": [
       "['the', 'and', 'of', 'for', 'a', 'in', 'to', 'on', 'blog', 'with']"
      ]
     },
     "execution_count": 21,
     "metadata": {},
     "output_type": "execute_result"
    }
   ],
   "source": [
    "from gensim.models.phrases import Phrases, Phraser\n",
    "\n",
    "sent = [row.split() for row in df_item_delicious2k['title']]\n",
    "\n",
    "phrases = Phrases(sent, min_count=5, progress_per=10000)\n",
    "\n",
    "bigram = Phraser(phrases)\n",
    "\n",
    "sentences = bigram[sent]\n",
    "\n",
    "word_freq = defaultdict(int)\n",
    "for sent in sentences:\n",
    "    for i in sent:\n",
    "        word_freq[i] += 1\n",
    "len(word_freq)\n",
    "\n",
    "sorted(word_freq, key=word_freq.get, reverse=True)[:10]"
   ]
  },
  {
   "cell_type": "markdown",
   "metadata": {},
   "source": [
    "Cria uma tabela de vocabulário"
   ]
  },
  {
   "cell_type": "code",
   "execution_count": 22,
   "metadata": {},
   "outputs": [
    {
     "name": "stderr",
     "output_type": "stream",
     "text": [
      "INFO - 14:21:57: Word2Vec lifecycle event {'params': 'Word2Vec(vocab=0, vector_size=100, alpha=0.03)', 'datetime': '2023-07-26T14:21:57.151574', 'gensim': '4.1.2', 'python': '3.9.12 (main, Apr  4 2022, 05:22:27) [MSC v.1916 64 bit (AMD64)]', 'platform': 'Windows-10-10.0.19041-SP0', 'event': 'created'}\n",
      "INFO - 14:21:57: collecting all words and their counts\n",
      "INFO - 14:21:57: PROGRESS: at sentence #0, processed 0 words, keeping 0 word types\n",
      "INFO - 14:21:57: PROGRESS: at sentence #10000, processed 60038 words, keeping 17460 word types\n",
      "INFO - 14:21:57: PROGRESS: at sentence #20000, processed 118880 words, keeping 28801 word types\n",
      "INFO - 14:21:57: PROGRESS: at sentence #30000, processed 178968 words, keeping 38321 word types\n",
      "INFO - 14:21:57: PROGRESS: at sentence #40000, processed 240131 words, keeping 47108 word types\n",
      "INFO - 14:21:57: PROGRESS: at sentence #50000, processed 302948 words, keeping 55303 word types\n",
      "INFO - 14:21:57: PROGRESS: at sentence #60000, processed 367063 words, keeping 62678 word types\n",
      "INFO - 14:21:57: collected 69062 word types from a corpus of 423250 raw words and 69182 sentences\n",
      "INFO - 14:21:57: Creating a fresh vocabulary\n",
      "INFO - 14:21:57: Word2Vec lifecycle event {'msg': 'effective_min_count=20 retains 2902 unique words (4.202021372100432%% of original 69062, drops 66160)', 'datetime': '2023-07-26T14:21:57.669572', 'gensim': '4.1.2', 'python': '3.9.12 (main, Apr  4 2022, 05:22:27) [MSC v.1916 64 bit (AMD64)]', 'platform': 'Windows-10-10.0.19041-SP0', 'event': 'prepare_vocab'}\n",
      "INFO - 14:21:57: Word2Vec lifecycle event {'msg': 'effective_min_count=20 leaves 268295 word corpus (63.38924985233314%% of original 423250, drops 154955)', 'datetime': '2023-07-26T14:21:57.670573', 'gensim': '4.1.2', 'python': '3.9.12 (main, Apr  4 2022, 05:22:27) [MSC v.1916 64 bit (AMD64)]', 'platform': 'Windows-10-10.0.19041-SP0', 'event': 'prepare_vocab'}\n",
      "INFO - 14:21:57: deleting the raw counts dictionary of 69062 items\n",
      "INFO - 14:21:57: sample=6e-05 downsamples 1294 most-common words\n",
      "INFO - 14:21:57: Word2Vec lifecycle event {'msg': 'downsampling leaves estimated 123495.98734309444 word corpus (46.0%% of prior 268295)', 'datetime': '2023-07-26T14:21:57.688575', 'gensim': '4.1.2', 'python': '3.9.12 (main, Apr  4 2022, 05:22:27) [MSC v.1916 64 bit (AMD64)]', 'platform': 'Windows-10-10.0.19041-SP0', 'event': 'prepare_vocab'}\n",
      "INFO - 14:21:57: estimated required memory for 2902 words and 100 dimensions: 3772600 bytes\n",
      "INFO - 14:21:57: resetting layer weights\n",
      "INFO - 14:21:57: Word2Vec lifecycle event {'update': False, 'trim_rule': 'None', 'datetime': '2023-07-26T14:21:57.715574', 'gensim': '4.1.2', 'python': '3.9.12 (main, Apr  4 2022, 05:22:27) [MSC v.1916 64 bit (AMD64)]', 'platform': 'Windows-10-10.0.19041-SP0', 'event': 'build_vocab'}\n"
     ]
    },
    {
     "name": "stdout",
     "output_type": "stream",
     "text": [
      "Time to build vocab: 0.01 mins\n"
     ]
    }
   ],
   "source": [
    "import multiprocessing\n",
    "\n",
    "from gensim.models import Word2Vec\n",
    "\n",
    "cores = multiprocessing.cpu_count() \n",
    "\n",
    "w2v_model = Word2Vec(min_count=20,\n",
    "                     window=2,\n",
    "                     sample=6e-5, \n",
    "                     alpha=0.03, \n",
    "                     min_alpha=0.0007, \n",
    "                     negative=20,\n",
    "                     workers=cores-1)\n",
    "\n",
    "t = time()\n",
    "w2v_model.build_vocab(sentences, progress_per=10000)\n",
    "print('Time to build vocab: {} mins'.format(round((time() - t) / 60, 2)))"
   ]
  },
  {
   "cell_type": "markdown",
   "metadata": {},
   "source": [
    "Treina o modelo"
   ]
  },
  {
   "cell_type": "code",
   "execution_count": 23,
   "metadata": {},
   "outputs": [
    {
     "name": "stderr",
     "output_type": "stream",
     "text": [
      "INFO - 14:21:57: Word2Vec lifecycle event {'msg': 'training model with 11 workers on 2902 vocabulary and 100 features, using sg=0 hs=0 sample=6e-05 negative=20 window=2 shrink_windows=True', 'datetime': '2023-07-26T14:21:57.737032', 'gensim': '4.1.2', 'python': '3.9.12 (main, Apr  4 2022, 05:22:27) [MSC v.1916 64 bit (AMD64)]', 'platform': 'Windows-10-10.0.19041-SP0', 'event': 'train'}\n",
      "INFO - 14:21:58: worker thread finished; awaiting finish of 10 more threads\n",
      "INFO - 14:21:58: worker thread finished; awaiting finish of 9 more threads\n",
      "INFO - 14:21:58: worker thread finished; awaiting finish of 8 more threads\n",
      "INFO - 14:21:58: worker thread finished; awaiting finish of 7 more threads\n",
      "INFO - 14:21:58: worker thread finished; awaiting finish of 6 more threads\n",
      "INFO - 14:21:58: worker thread finished; awaiting finish of 5 more threads\n",
      "INFO - 14:21:58: worker thread finished; awaiting finish of 4 more threads\n",
      "INFO - 14:21:58: worker thread finished; awaiting finish of 3 more threads\n",
      "INFO - 14:21:58: worker thread finished; awaiting finish of 2 more threads\n",
      "INFO - 14:21:58: worker thread finished; awaiting finish of 1 more threads\n",
      "INFO - 14:21:58: worker thread finished; awaiting finish of 0 more threads\n",
      "INFO - 14:21:58: EPOCH - 1 : training on 423250 raw words (123483 effective words) took 0.5s, 240270 effective words/s\n",
      "INFO - 14:21:58: worker thread finished; awaiting finish of 10 more threads\n",
      "INFO - 14:21:58: worker thread finished; awaiting finish of 9 more threads\n",
      "INFO - 14:21:58: worker thread finished; awaiting finish of 8 more threads\n",
      "INFO - 14:21:58: worker thread finished; awaiting finish of 7 more threads\n",
      "INFO - 14:21:58: worker thread finished; awaiting finish of 6 more threads\n",
      "INFO - 14:21:58: worker thread finished; awaiting finish of 5 more threads\n",
      "INFO - 14:21:58: worker thread finished; awaiting finish of 4 more threads\n",
      "INFO - 14:21:58: worker thread finished; awaiting finish of 3 more threads\n",
      "INFO - 14:21:58: worker thread finished; awaiting finish of 2 more threads\n",
      "INFO - 14:21:58: worker thread finished; awaiting finish of 1 more threads\n",
      "INFO - 14:21:58: worker thread finished; awaiting finish of 0 more threads\n",
      "INFO - 14:21:58: EPOCH - 2 : training on 423250 raw words (123431 effective words) took 0.7s, 189689 effective words/s\n",
      "INFO - 14:21:59: worker thread finished; awaiting finish of 10 more threads\n",
      "INFO - 14:21:59: worker thread finished; awaiting finish of 9 more threads\n",
      "INFO - 14:21:59: worker thread finished; awaiting finish of 8 more threads\n",
      "INFO - 14:21:59: worker thread finished; awaiting finish of 7 more threads\n",
      "INFO - 14:21:59: worker thread finished; awaiting finish of 6 more threads\n",
      "INFO - 14:21:59: worker thread finished; awaiting finish of 5 more threads\n",
      "INFO - 14:21:59: worker thread finished; awaiting finish of 4 more threads\n",
      "INFO - 14:21:59: worker thread finished; awaiting finish of 3 more threads\n",
      "INFO - 14:21:59: worker thread finished; awaiting finish of 2 more threads\n",
      "INFO - 14:21:59: worker thread finished; awaiting finish of 1 more threads\n",
      "INFO - 14:21:59: worker thread finished; awaiting finish of 0 more threads\n",
      "INFO - 14:21:59: EPOCH - 3 : training on 423250 raw words (123172 effective words) took 0.5s, 227564 effective words/s\n",
      "INFO - 14:22:00: worker thread finished; awaiting finish of 10 more threads\n",
      "INFO - 14:22:00: worker thread finished; awaiting finish of 9 more threads\n",
      "INFO - 14:22:00: worker thread finished; awaiting finish of 8 more threads\n",
      "INFO - 14:22:00: worker thread finished; awaiting finish of 7 more threads\n",
      "INFO - 14:22:00: worker thread finished; awaiting finish of 6 more threads\n",
      "INFO - 14:22:00: worker thread finished; awaiting finish of 5 more threads\n",
      "INFO - 14:22:00: worker thread finished; awaiting finish of 4 more threads\n",
      "INFO - 14:22:00: worker thread finished; awaiting finish of 3 more threads\n",
      "INFO - 14:22:00: worker thread finished; awaiting finish of 2 more threads\n",
      "INFO - 14:22:00: worker thread finished; awaiting finish of 1 more threads\n",
      "INFO - 14:22:00: worker thread finished; awaiting finish of 0 more threads\n",
      "INFO - 14:22:00: EPOCH - 4 : training on 423250 raw words (123306 effective words) took 0.6s, 196067 effective words/s\n",
      "INFO - 14:22:00: worker thread finished; awaiting finish of 10 more threads\n",
      "INFO - 14:22:00: worker thread finished; awaiting finish of 9 more threads\n",
      "INFO - 14:22:00: worker thread finished; awaiting finish of 8 more threads\n",
      "INFO - 14:22:00: worker thread finished; awaiting finish of 7 more threads\n",
      "INFO - 14:22:00: worker thread finished; awaiting finish of 6 more threads\n",
      "INFO - 14:22:00: worker thread finished; awaiting finish of 5 more threads\n",
      "INFO - 14:22:00: worker thread finished; awaiting finish of 4 more threads\n",
      "INFO - 14:22:00: worker thread finished; awaiting finish of 3 more threads\n",
      "INFO - 14:22:00: worker thread finished; awaiting finish of 2 more threads\n",
      "INFO - 14:22:00: worker thread finished; awaiting finish of 1 more threads\n",
      "INFO - 14:22:00: worker thread finished; awaiting finish of 0 more threads\n",
      "INFO - 14:22:00: EPOCH - 5 : training on 423250 raw words (123457 effective words) took 0.5s, 241093 effective words/s\n",
      "INFO - 14:22:01: worker thread finished; awaiting finish of 10 more threads\n",
      "INFO - 14:22:01: worker thread finished; awaiting finish of 9 more threads\n",
      "INFO - 14:22:01: worker thread finished; awaiting finish of 8 more threads\n",
      "INFO - 14:22:01: worker thread finished; awaiting finish of 7 more threads\n",
      "INFO - 14:22:01: worker thread finished; awaiting finish of 6 more threads\n",
      "INFO - 14:22:01: worker thread finished; awaiting finish of 5 more threads\n",
      "INFO - 14:22:01: worker thread finished; awaiting finish of 4 more threads\n",
      "INFO - 14:22:01: worker thread finished; awaiting finish of 3 more threads\n",
      "INFO - 14:22:01: worker thread finished; awaiting finish of 2 more threads\n",
      "INFO - 14:22:01: worker thread finished; awaiting finish of 1 more threads\n",
      "INFO - 14:22:01: worker thread finished; awaiting finish of 0 more threads\n",
      "INFO - 14:22:01: EPOCH - 6 : training on 423250 raw words (123361 effective words) took 0.5s, 239330 effective words/s\n",
      "INFO - 14:22:01: worker thread finished; awaiting finish of 10 more threads\n",
      "INFO - 14:22:01: worker thread finished; awaiting finish of 9 more threads\n",
      "INFO - 14:22:01: worker thread finished; awaiting finish of 8 more threads\n",
      "INFO - 14:22:01: worker thread finished; awaiting finish of 7 more threads\n",
      "INFO - 14:22:01: worker thread finished; awaiting finish of 6 more threads\n",
      "INFO - 14:22:01: worker thread finished; awaiting finish of 5 more threads\n",
      "INFO - 14:22:01: worker thread finished; awaiting finish of 4 more threads\n",
      "INFO - 14:22:01: worker thread finished; awaiting finish of 3 more threads\n",
      "INFO - 14:22:01: worker thread finished; awaiting finish of 2 more threads\n",
      "INFO - 14:22:01: worker thread finished; awaiting finish of 1 more threads\n",
      "INFO - 14:22:01: worker thread finished; awaiting finish of 0 more threads\n",
      "INFO - 14:22:01: EPOCH - 7 : training on 423250 raw words (123456 effective words) took 0.6s, 197510 effective words/s\n",
      "INFO - 14:22:02: worker thread finished; awaiting finish of 10 more threads\n",
      "INFO - 14:22:02: worker thread finished; awaiting finish of 9 more threads\n",
      "INFO - 14:22:02: worker thread finished; awaiting finish of 8 more threads\n",
      "INFO - 14:22:02: worker thread finished; awaiting finish of 7 more threads\n",
      "INFO - 14:22:02: worker thread finished; awaiting finish of 6 more threads\n",
      "INFO - 14:22:02: worker thread finished; awaiting finish of 5 more threads\n",
      "INFO - 14:22:02: worker thread finished; awaiting finish of 4 more threads\n",
      "INFO - 14:22:02: worker thread finished; awaiting finish of 3 more threads\n",
      "INFO - 14:22:02: worker thread finished; awaiting finish of 2 more threads\n",
      "INFO - 14:22:02: worker thread finished; awaiting finish of 1 more threads\n",
      "INFO - 14:22:02: worker thread finished; awaiting finish of 0 more threads\n",
      "INFO - 14:22:02: EPOCH - 8 : training on 423250 raw words (123003 effective words) took 0.5s, 258256 effective words/s\n",
      "INFO - 14:22:03: worker thread finished; awaiting finish of 10 more threads\n",
      "INFO - 14:22:03: worker thread finished; awaiting finish of 9 more threads\n",
      "INFO - 14:22:03: worker thread finished; awaiting finish of 8 more threads\n",
      "INFO - 14:22:03: worker thread finished; awaiting finish of 7 more threads\n",
      "INFO - 14:22:03: worker thread finished; awaiting finish of 6 more threads\n",
      "INFO - 14:22:03: worker thread finished; awaiting finish of 5 more threads\n",
      "INFO - 14:22:03: worker thread finished; awaiting finish of 4 more threads\n",
      "INFO - 14:22:03: worker thread finished; awaiting finish of 3 more threads\n",
      "INFO - 14:22:03: worker thread finished; awaiting finish of 2 more threads\n",
      "INFO - 14:22:03: worker thread finished; awaiting finish of 1 more threads\n",
      "INFO - 14:22:03: worker thread finished; awaiting finish of 0 more threads\n",
      "INFO - 14:22:03: EPOCH - 9 : training on 423250 raw words (123904 effective words) took 0.7s, 173554 effective words/s\n",
      "INFO - 14:22:03: worker thread finished; awaiting finish of 10 more threads\n",
      "INFO - 14:22:03: worker thread finished; awaiting finish of 9 more threads\n",
      "INFO - 14:22:03: worker thread finished; awaiting finish of 8 more threads\n",
      "INFO - 14:22:03: worker thread finished; awaiting finish of 7 more threads\n",
      "INFO - 14:22:03: worker thread finished; awaiting finish of 6 more threads\n",
      "INFO - 14:22:03: worker thread finished; awaiting finish of 5 more threads\n",
      "INFO - 14:22:03: worker thread finished; awaiting finish of 4 more threads\n",
      "INFO - 14:22:03: worker thread finished; awaiting finish of 3 more threads\n",
      "INFO - 14:22:03: worker thread finished; awaiting finish of 2 more threads\n",
      "INFO - 14:22:03: worker thread finished; awaiting finish of 1 more threads\n",
      "INFO - 14:22:03: worker thread finished; awaiting finish of 0 more threads\n",
      "INFO - 14:22:03: EPOCH - 10 : training on 423250 raw words (123739 effective words) took 0.6s, 215312 effective words/s\n",
      "INFO - 14:22:04: worker thread finished; awaiting finish of 10 more threads\n",
      "INFO - 14:22:04: worker thread finished; awaiting finish of 9 more threads\n",
      "INFO - 14:22:04: worker thread finished; awaiting finish of 8 more threads\n",
      "INFO - 14:22:04: worker thread finished; awaiting finish of 7 more threads\n",
      "INFO - 14:22:04: worker thread finished; awaiting finish of 6 more threads\n",
      "INFO - 14:22:04: worker thread finished; awaiting finish of 5 more threads\n",
      "INFO - 14:22:04: worker thread finished; awaiting finish of 4 more threads\n",
      "INFO - 14:22:04: worker thread finished; awaiting finish of 3 more threads\n",
      "INFO - 14:22:04: worker thread finished; awaiting finish of 2 more threads\n",
      "INFO - 14:22:04: worker thread finished; awaiting finish of 1 more threads\n",
      "INFO - 14:22:04: worker thread finished; awaiting finish of 0 more threads\n",
      "INFO - 14:22:04: EPOCH - 11 : training on 423250 raw words (123567 effective words) took 0.7s, 188675 effective words/s\n",
      "INFO - 14:22:04: worker thread finished; awaiting finish of 10 more threads\n",
      "INFO - 14:22:04: worker thread finished; awaiting finish of 9 more threads\n",
      "INFO - 14:22:04: worker thread finished; awaiting finish of 8 more threads\n",
      "INFO - 14:22:04: worker thread finished; awaiting finish of 7 more threads\n",
      "INFO - 14:22:04: worker thread finished; awaiting finish of 6 more threads\n",
      "INFO - 14:22:04: worker thread finished; awaiting finish of 5 more threads\n",
      "INFO - 14:22:04: worker thread finished; awaiting finish of 4 more threads\n",
      "INFO - 14:22:05: worker thread finished; awaiting finish of 3 more threads\n",
      "INFO - 14:22:05: worker thread finished; awaiting finish of 2 more threads\n",
      "INFO - 14:22:05: worker thread finished; awaiting finish of 1 more threads\n",
      "INFO - 14:22:05: worker thread finished; awaiting finish of 0 more threads\n",
      "INFO - 14:22:05: EPOCH - 12 : training on 423250 raw words (123692 effective words) took 0.5s, 227080 effective words/s\n",
      "INFO - 14:22:05: worker thread finished; awaiting finish of 10 more threads\n",
      "INFO - 14:22:05: worker thread finished; awaiting finish of 9 more threads\n",
      "INFO - 14:22:05: worker thread finished; awaiting finish of 8 more threads\n",
      "INFO - 14:22:05: worker thread finished; awaiting finish of 7 more threads\n",
      "INFO - 14:22:05: worker thread finished; awaiting finish of 6 more threads\n",
      "INFO - 14:22:05: worker thread finished; awaiting finish of 5 more threads\n",
      "INFO - 14:22:05: worker thread finished; awaiting finish of 4 more threads\n",
      "INFO - 14:22:05: worker thread finished; awaiting finish of 3 more threads\n",
      "INFO - 14:22:05: worker thread finished; awaiting finish of 2 more threads\n",
      "INFO - 14:22:05: worker thread finished; awaiting finish of 1 more threads\n",
      "INFO - 14:22:05: worker thread finished; awaiting finish of 0 more threads\n",
      "INFO - 14:22:05: EPOCH - 13 : training on 423250 raw words (123180 effective words) took 0.7s, 182898 effective words/s\n",
      "INFO - 14:22:06: worker thread finished; awaiting finish of 10 more threads\n",
      "INFO - 14:22:06: worker thread finished; awaiting finish of 9 more threads\n",
      "INFO - 14:22:06: worker thread finished; awaiting finish of 8 more threads\n",
      "INFO - 14:22:06: worker thread finished; awaiting finish of 7 more threads\n",
      "INFO - 14:22:06: worker thread finished; awaiting finish of 6 more threads\n",
      "INFO - 14:22:06: worker thread finished; awaiting finish of 5 more threads\n",
      "INFO - 14:22:06: worker thread finished; awaiting finish of 4 more threads\n",
      "INFO - 14:22:06: worker thread finished; awaiting finish of 3 more threads\n",
      "INFO - 14:22:06: worker thread finished; awaiting finish of 2 more threads\n",
      "INFO - 14:22:06: worker thread finished; awaiting finish of 1 more threads\n",
      "INFO - 14:22:06: worker thread finished; awaiting finish of 0 more threads\n",
      "INFO - 14:22:06: EPOCH - 14 : training on 423250 raw words (123457 effective words) took 0.6s, 220193 effective words/s\n",
      "INFO - 14:22:06: worker thread finished; awaiting finish of 10 more threads\n",
      "INFO - 14:22:06: worker thread finished; awaiting finish of 9 more threads\n",
      "INFO - 14:22:06: worker thread finished; awaiting finish of 8 more threads\n",
      "INFO - 14:22:06: worker thread finished; awaiting finish of 7 more threads\n",
      "INFO - 14:22:06: worker thread finished; awaiting finish of 6 more threads\n",
      "INFO - 14:22:06: worker thread finished; awaiting finish of 5 more threads\n",
      "INFO - 14:22:06: worker thread finished; awaiting finish of 4 more threads\n",
      "INFO - 14:22:06: worker thread finished; awaiting finish of 3 more threads\n",
      "INFO - 14:22:06: worker thread finished; awaiting finish of 2 more threads\n",
      "INFO - 14:22:06: worker thread finished; awaiting finish of 1 more threads\n",
      "INFO - 14:22:06: worker thread finished; awaiting finish of 0 more threads\n",
      "INFO - 14:22:06: EPOCH - 15 : training on 423250 raw words (123365 effective words) took 0.5s, 234113 effective words/s\n",
      "INFO - 14:22:07: worker thread finished; awaiting finish of 10 more threads\n",
      "INFO - 14:22:07: worker thread finished; awaiting finish of 9 more threads\n",
      "INFO - 14:22:07: worker thread finished; awaiting finish of 8 more threads\n",
      "INFO - 14:22:07: worker thread finished; awaiting finish of 7 more threads\n",
      "INFO - 14:22:07: worker thread finished; awaiting finish of 6 more threads\n",
      "INFO - 14:22:07: worker thread finished; awaiting finish of 5 more threads\n",
      "INFO - 14:22:07: worker thread finished; awaiting finish of 4 more threads\n",
      "INFO - 14:22:07: worker thread finished; awaiting finish of 3 more threads\n",
      "INFO - 14:22:07: worker thread finished; awaiting finish of 2 more threads\n",
      "INFO - 14:22:07: worker thread finished; awaiting finish of 1 more threads\n",
      "INFO - 14:22:07: worker thread finished; awaiting finish of 0 more threads\n",
      "INFO - 14:22:07: EPOCH - 16 : training on 423250 raw words (123160 effective words) took 0.7s, 187063 effective words/s\n",
      "INFO - 14:22:08: worker thread finished; awaiting finish of 10 more threads\n",
      "INFO - 14:22:08: worker thread finished; awaiting finish of 9 more threads\n",
      "INFO - 14:22:08: worker thread finished; awaiting finish of 8 more threads\n",
      "INFO - 14:22:08: worker thread finished; awaiting finish of 7 more threads\n",
      "INFO - 14:22:08: worker thread finished; awaiting finish of 6 more threads\n",
      "INFO - 14:22:08: worker thread finished; awaiting finish of 5 more threads\n",
      "INFO - 14:22:08: worker thread finished; awaiting finish of 4 more threads\n",
      "INFO - 14:22:08: worker thread finished; awaiting finish of 3 more threads\n",
      "INFO - 14:22:08: worker thread finished; awaiting finish of 2 more threads\n",
      "INFO - 14:22:08: worker thread finished; awaiting finish of 1 more threads\n",
      "INFO - 14:22:08: worker thread finished; awaiting finish of 0 more threads\n",
      "INFO - 14:22:08: EPOCH - 17 : training on 423250 raw words (123499 effective words) took 0.5s, 230893 effective words/s\n",
      "INFO - 14:22:08: worker thread finished; awaiting finish of 10 more threads\n",
      "INFO - 14:22:08: worker thread finished; awaiting finish of 9 more threads\n",
      "INFO - 14:22:08: worker thread finished; awaiting finish of 8 more threads\n",
      "INFO - 14:22:08: worker thread finished; awaiting finish of 7 more threads\n",
      "INFO - 14:22:08: worker thread finished; awaiting finish of 6 more threads\n",
      "INFO - 14:22:08: worker thread finished; awaiting finish of 5 more threads\n",
      "INFO - 14:22:08: worker thread finished; awaiting finish of 4 more threads\n",
      "INFO - 14:22:08: worker thread finished; awaiting finish of 3 more threads\n",
      "INFO - 14:22:08: worker thread finished; awaiting finish of 2 more threads\n",
      "INFO - 14:22:08: worker thread finished; awaiting finish of 1 more threads\n",
      "INFO - 14:22:08: worker thread finished; awaiting finish of 0 more threads\n",
      "INFO - 14:22:08: EPOCH - 18 : training on 423250 raw words (123345 effective words) took 0.6s, 189995 effective words/s\n",
      "INFO - 14:22:09: worker thread finished; awaiting finish of 10 more threads\n",
      "INFO - 14:22:09: worker thread finished; awaiting finish of 9 more threads\n",
      "INFO - 14:22:09: worker thread finished; awaiting finish of 8 more threads\n",
      "INFO - 14:22:09: worker thread finished; awaiting finish of 7 more threads\n",
      "INFO - 14:22:09: worker thread finished; awaiting finish of 6 more threads\n",
      "INFO - 14:22:09: worker thread finished; awaiting finish of 5 more threads\n",
      "INFO - 14:22:09: worker thread finished; awaiting finish of 4 more threads\n",
      "INFO - 14:22:09: worker thread finished; awaiting finish of 3 more threads\n",
      "INFO - 14:22:09: worker thread finished; awaiting finish of 2 more threads\n",
      "INFO - 14:22:09: worker thread finished; awaiting finish of 1 more threads\n",
      "INFO - 14:22:09: worker thread finished; awaiting finish of 0 more threads\n",
      "INFO - 14:22:09: EPOCH - 19 : training on 423250 raw words (123708 effective words) took 0.5s, 233818 effective words/s\n",
      "INFO - 14:22:09: worker thread finished; awaiting finish of 10 more threads\n",
      "INFO - 14:22:09: worker thread finished; awaiting finish of 9 more threads\n",
      "INFO - 14:22:09: worker thread finished; awaiting finish of 8 more threads\n",
      "INFO - 14:22:09: worker thread finished; awaiting finish of 7 more threads\n",
      "INFO - 14:22:09: worker thread finished; awaiting finish of 6 more threads\n",
      "INFO - 14:22:09: worker thread finished; awaiting finish of 5 more threads\n",
      "INFO - 14:22:09: worker thread finished; awaiting finish of 4 more threads\n",
      "INFO - 14:22:09: worker thread finished; awaiting finish of 3 more threads\n",
      "INFO - 14:22:09: worker thread finished; awaiting finish of 2 more threads\n",
      "INFO - 14:22:09: worker thread finished; awaiting finish of 1 more threads\n",
      "INFO - 14:22:09: worker thread finished; awaiting finish of 0 more threads\n",
      "INFO - 14:22:09: EPOCH - 20 : training on 423250 raw words (123408 effective words) took 0.6s, 190863 effective words/s\n",
      "INFO - 14:22:10: worker thread finished; awaiting finish of 10 more threads\n",
      "INFO - 14:22:10: worker thread finished; awaiting finish of 9 more threads\n",
      "INFO - 14:22:10: worker thread finished; awaiting finish of 8 more threads\n",
      "INFO - 14:22:10: worker thread finished; awaiting finish of 7 more threads\n",
      "INFO - 14:22:10: worker thread finished; awaiting finish of 6 more threads\n",
      "INFO - 14:22:10: worker thread finished; awaiting finish of 5 more threads\n",
      "INFO - 14:22:10: worker thread finished; awaiting finish of 4 more threads\n",
      "INFO - 14:22:10: worker thread finished; awaiting finish of 3 more threads\n",
      "INFO - 14:22:10: worker thread finished; awaiting finish of 2 more threads\n",
      "INFO - 14:22:10: worker thread finished; awaiting finish of 1 more threads\n",
      "INFO - 14:22:10: worker thread finished; awaiting finish of 0 more threads\n",
      "INFO - 14:22:10: EPOCH - 21 : training on 423250 raw words (123509 effective words) took 0.5s, 240035 effective words/s\n",
      "INFO - 14:22:11: worker thread finished; awaiting finish of 10 more threads\n",
      "INFO - 14:22:11: worker thread finished; awaiting finish of 9 more threads\n",
      "INFO - 14:22:11: worker thread finished; awaiting finish of 8 more threads\n",
      "INFO - 14:22:11: worker thread finished; awaiting finish of 7 more threads\n",
      "INFO - 14:22:11: worker thread finished; awaiting finish of 6 more threads\n",
      "INFO - 14:22:11: worker thread finished; awaiting finish of 5 more threads\n",
      "INFO - 14:22:11: worker thread finished; awaiting finish of 4 more threads\n",
      "INFO - 14:22:11: worker thread finished; awaiting finish of 3 more threads\n",
      "INFO - 14:22:11: worker thread finished; awaiting finish of 2 more threads\n",
      "INFO - 14:22:11: worker thread finished; awaiting finish of 1 more threads\n",
      "INFO - 14:22:11: worker thread finished; awaiting finish of 0 more threads\n",
      "INFO - 14:22:11: EPOCH - 22 : training on 423250 raw words (123289 effective words) took 0.6s, 189693 effective words/s\n",
      "INFO - 14:22:11: worker thread finished; awaiting finish of 10 more threads\n",
      "INFO - 14:22:11: worker thread finished; awaiting finish of 9 more threads\n",
      "INFO - 14:22:11: worker thread finished; awaiting finish of 8 more threads\n",
      "INFO - 14:22:11: worker thread finished; awaiting finish of 7 more threads\n",
      "INFO - 14:22:11: worker thread finished; awaiting finish of 6 more threads\n",
      "INFO - 14:22:11: worker thread finished; awaiting finish of 5 more threads\n",
      "INFO - 14:22:11: worker thread finished; awaiting finish of 4 more threads\n",
      "INFO - 14:22:11: worker thread finished; awaiting finish of 3 more threads\n",
      "INFO - 14:22:11: worker thread finished; awaiting finish of 2 more threads\n",
      "INFO - 14:22:11: worker thread finished; awaiting finish of 1 more threads\n",
      "INFO - 14:22:11: worker thread finished; awaiting finish of 0 more threads\n",
      "INFO - 14:22:11: EPOCH - 23 : training on 423250 raw words (123330 effective words) took 0.5s, 238514 effective words/s\n",
      "INFO - 14:22:12: worker thread finished; awaiting finish of 10 more threads\n",
      "INFO - 14:22:12: worker thread finished; awaiting finish of 9 more threads\n",
      "INFO - 14:22:12: worker thread finished; awaiting finish of 8 more threads\n",
      "INFO - 14:22:12: worker thread finished; awaiting finish of 7 more threads\n",
      "INFO - 14:22:12: worker thread finished; awaiting finish of 6 more threads\n",
      "INFO - 14:22:12: worker thread finished; awaiting finish of 5 more threads\n",
      "INFO - 14:22:12: worker thread finished; awaiting finish of 4 more threads\n",
      "INFO - 14:22:12: worker thread finished; awaiting finish of 3 more threads\n",
      "INFO - 14:22:12: worker thread finished; awaiting finish of 2 more threads\n",
      "INFO - 14:22:12: worker thread finished; awaiting finish of 1 more threads\n",
      "INFO - 14:22:12: worker thread finished; awaiting finish of 0 more threads\n",
      "INFO - 14:22:12: EPOCH - 24 : training on 423250 raw words (123180 effective words) took 0.5s, 244016 effective words/s\n",
      "INFO - 14:22:12: worker thread finished; awaiting finish of 10 more threads\n",
      "INFO - 14:22:12: worker thread finished; awaiting finish of 9 more threads\n",
      "INFO - 14:22:12: worker thread finished; awaiting finish of 8 more threads\n",
      "INFO - 14:22:12: worker thread finished; awaiting finish of 7 more threads\n",
      "INFO - 14:22:12: worker thread finished; awaiting finish of 6 more threads\n",
      "INFO - 14:22:12: worker thread finished; awaiting finish of 5 more threads\n",
      "INFO - 14:22:12: worker thread finished; awaiting finish of 4 more threads\n",
      "INFO - 14:22:12: worker thread finished; awaiting finish of 3 more threads\n",
      "INFO - 14:22:12: worker thread finished; awaiting finish of 2 more threads\n",
      "INFO - 14:22:12: worker thread finished; awaiting finish of 1 more threads\n",
      "INFO - 14:22:12: worker thread finished; awaiting finish of 0 more threads\n",
      "INFO - 14:22:12: EPOCH - 25 : training on 423250 raw words (123437 effective words) took 0.6s, 190244 effective words/s\n",
      "INFO - 14:22:13: worker thread finished; awaiting finish of 10 more threads\n",
      "INFO - 14:22:13: worker thread finished; awaiting finish of 9 more threads\n",
      "INFO - 14:22:13: worker thread finished; awaiting finish of 8 more threads\n",
      "INFO - 14:22:13: worker thread finished; awaiting finish of 7 more threads\n",
      "INFO - 14:22:13: worker thread finished; awaiting finish of 6 more threads\n",
      "INFO - 14:22:13: worker thread finished; awaiting finish of 5 more threads\n",
      "INFO - 14:22:13: worker thread finished; awaiting finish of 4 more threads\n",
      "INFO - 14:22:13: worker thread finished; awaiting finish of 3 more threads\n",
      "INFO - 14:22:13: worker thread finished; awaiting finish of 2 more threads\n",
      "INFO - 14:22:13: worker thread finished; awaiting finish of 1 more threads\n",
      "INFO - 14:22:13: worker thread finished; awaiting finish of 0 more threads\n",
      "INFO - 14:22:13: EPOCH - 26 : training on 423250 raw words (123423 effective words) took 0.5s, 246141 effective words/s\n",
      "INFO - 14:22:14: worker thread finished; awaiting finish of 10 more threads\n",
      "INFO - 14:22:14: worker thread finished; awaiting finish of 9 more threads\n",
      "INFO - 14:22:14: worker thread finished; awaiting finish of 8 more threads\n",
      "INFO - 14:22:14: worker thread finished; awaiting finish of 7 more threads\n",
      "INFO - 14:22:14: worker thread finished; awaiting finish of 6 more threads\n",
      "INFO - 14:22:14: worker thread finished; awaiting finish of 5 more threads\n",
      "INFO - 14:22:14: worker thread finished; awaiting finish of 4 more threads\n",
      "INFO - 14:22:14: worker thread finished; awaiting finish of 3 more threads\n",
      "INFO - 14:22:14: worker thread finished; awaiting finish of 2 more threads\n",
      "INFO - 14:22:14: worker thread finished; awaiting finish of 1 more threads\n",
      "INFO - 14:22:14: worker thread finished; awaiting finish of 0 more threads\n",
      "INFO - 14:22:14: EPOCH - 27 : training on 423250 raw words (123774 effective words) took 0.6s, 190478 effective words/s\n",
      "INFO - 14:22:14: worker thread finished; awaiting finish of 10 more threads\n",
      "INFO - 14:22:14: worker thread finished; awaiting finish of 9 more threads\n",
      "INFO - 14:22:14: worker thread finished; awaiting finish of 8 more threads\n",
      "INFO - 14:22:14: worker thread finished; awaiting finish of 7 more threads\n",
      "INFO - 14:22:14: worker thread finished; awaiting finish of 6 more threads\n",
      "INFO - 14:22:14: worker thread finished; awaiting finish of 5 more threads\n",
      "INFO - 14:22:14: worker thread finished; awaiting finish of 4 more threads\n",
      "INFO - 14:22:14: worker thread finished; awaiting finish of 3 more threads\n",
      "INFO - 14:22:14: worker thread finished; awaiting finish of 2 more threads\n",
      "INFO - 14:22:14: worker thread finished; awaiting finish of 1 more threads\n",
      "INFO - 14:22:14: worker thread finished; awaiting finish of 0 more threads\n",
      "INFO - 14:22:14: EPOCH - 28 : training on 423250 raw words (123504 effective words) took 0.5s, 226163 effective words/s\n",
      "INFO - 14:22:15: worker thread finished; awaiting finish of 10 more threads\n",
      "INFO - 14:22:15: worker thread finished; awaiting finish of 9 more threads\n",
      "INFO - 14:22:15: worker thread finished; awaiting finish of 8 more threads\n",
      "INFO - 14:22:15: worker thread finished; awaiting finish of 7 more threads\n",
      "INFO - 14:22:15: worker thread finished; awaiting finish of 6 more threads\n",
      "INFO - 14:22:15: worker thread finished; awaiting finish of 5 more threads\n",
      "INFO - 14:22:15: worker thread finished; awaiting finish of 4 more threads\n",
      "INFO - 14:22:15: worker thread finished; awaiting finish of 3 more threads\n",
      "INFO - 14:22:15: worker thread finished; awaiting finish of 2 more threads\n",
      "INFO - 14:22:15: worker thread finished; awaiting finish of 1 more threads\n",
      "INFO - 14:22:15: worker thread finished; awaiting finish of 0 more threads\n",
      "INFO - 14:22:15: EPOCH - 29 : training on 423250 raw words (123465 effective words) took 0.6s, 192054 effective words/s\n",
      "INFO - 14:22:15: worker thread finished; awaiting finish of 10 more threads\n",
      "INFO - 14:22:15: worker thread finished; awaiting finish of 9 more threads\n",
      "INFO - 14:22:15: worker thread finished; awaiting finish of 8 more threads\n",
      "INFO - 14:22:15: worker thread finished; awaiting finish of 7 more threads\n",
      "INFO - 14:22:15: worker thread finished; awaiting finish of 6 more threads\n",
      "INFO - 14:22:15: worker thread finished; awaiting finish of 5 more threads\n",
      "INFO - 14:22:15: worker thread finished; awaiting finish of 4 more threads\n",
      "INFO - 14:22:15: worker thread finished; awaiting finish of 3 more threads\n",
      "INFO - 14:22:15: worker thread finished; awaiting finish of 2 more threads\n",
      "INFO - 14:22:15: worker thread finished; awaiting finish of 1 more threads\n",
      "INFO - 14:22:15: worker thread finished; awaiting finish of 0 more threads\n",
      "INFO - 14:22:15: EPOCH - 30 : training on 423250 raw words (123404 effective words) took 0.5s, 243416 effective words/s\n",
      "INFO - 14:22:15: Word2Vec lifecycle event {'msg': 'training on 12697500 raw words (3703008 effective words) took 18.2s, 203931 effective words/s', 'datetime': '2023-07-26T14:22:15.895865', 'gensim': '4.1.2', 'python': '3.9.12 (main, Apr  4 2022, 05:22:27) [MSC v.1916 64 bit (AMD64)]', 'platform': 'Windows-10-10.0.19041-SP0', 'event': 'train'}\n"
     ]
    },
    {
     "name": "stdout",
     "output_type": "stream",
     "text": [
      "Time to train the model: 0.3 mins\n"
     ]
    }
   ],
   "source": [
    "t = time()\n",
    "w2v_model.train(sentences, total_examples=w2v_model.corpus_count, epochs=30, report_delay=1)\n",
    "print('Time to train the model: {} mins'.format(round((time() - t) / 60, 2)))"
   ]
  },
  {
   "cell_type": "markdown",
   "metadata": {},
   "source": [
    "Modificar o modelo para torná-lo mais eficiente"
   ]
  },
  {
   "cell_type": "code",
   "execution_count": 24,
   "metadata": {},
   "outputs": [],
   "source": [
    "# deixa o modelo mais eficiente - pré-computar vetores normalizados por L2.\n",
    "#w2v_model.init_sims(replace=True)"
   ]
  },
  {
   "cell_type": "markdown",
   "metadata": {},
   "source": [
    "### Testes e métricas"
   ]
  },
  {
   "cell_type": "code",
   "execution_count": 25,
   "metadata": {},
   "outputs": [
    {
     "data": {
      "text/plain": [
       "[('architects', 0.8621521592140198),\n",
       " ('the_independent', 0.8512030243873596),\n",
       " ('poverty', 0.8468489646911621),\n",
       " ('history_of', 0.8355525732040405),\n",
       " ('politics', 0.8342115879058838),\n",
       " ('newsroom', 0.8317297697067261),\n",
       " ('political', 0.8302711844444275),\n",
       " ('society', 0.8289754986763),\n",
       " ('washington', 0.8268049955368042),\n",
       " ('justice', 0.825136661529541)]"
      ]
     },
     "metadata": {},
     "output_type": "display_data"
    },
    {
     "data": {
      "text/plain": [
       "[('documentary', 0.8320078253746033),\n",
       " ('history_of', 0.8249190449714661),\n",
       " ('art', 0.8233887553215027),\n",
       " ('museum_of', 0.802161455154419),\n",
       " ('sport', 0.7951771020889282),\n",
       " ('radio', 0.7931059002876282),\n",
       " ('television', 0.7866121530532837),\n",
       " ('guardian.co.uk', 0.7839235067367554),\n",
       " ('george', 0.7827044129371643),\n",
       " ('indie', 0.7810133099555969)]"
      ]
     },
     "metadata": {},
     "output_type": "display_data"
    },
    {
     "data": {
      "text/plain": [
       "[('twitter', 0.8708085417747498),\n",
       " ('linkedin', 0.822917103767395),\n",
       " ('foursquare', 0.8207159042358398),\n",
       " ('account', 0.7916127443313599),\n",
       " ('emarketer', 0.7793486714363098),\n",
       " ('fans', 0.7734468579292297),\n",
       " ('feeds', 0.7645094990730286),\n",
       " ('gets', 0.7633030414581299),\n",
       " ('tweets', 0.7496503591537476),\n",
       " ('link', 0.7348347902297974)]"
      ]
     },
     "metadata": {},
     "output_type": "display_data"
    },
    {
     "data": {
      "text/plain": [
       "[('who', 0.9019845724105835),\n",
       " ('did', 0.9008893966674805),\n",
       " ('sleep', 0.9007086157798767),\n",
       " ('happy', 0.9002842903137207),\n",
       " ('been', 0.8974510431289673),\n",
       " ('cracked.com', 0.8974508047103882),\n",
       " ('away', 0.8963783383369446),\n",
       " ('wait', 0.8957814574241638),\n",
       " ('but', 0.8907675743103027),\n",
       " ('this_is', 0.88478022813797)]"
      ]
     },
     "metadata": {},
     "output_type": "display_data"
    }
   ],
   "source": [
    "display(w2v_model.wv.most_similar(positive=[\"culture\"]))\n",
    "\n",
    "display(w2v_model.wv.most_similar(positive=[\"film\"]))\n",
    "\n",
    "display(w2v_model.wv.most_similar(positive=[\"facebook\"]))\n",
    "\n",
    "display(w2v_model.wv.most_similar(positive=[\"before\"]))"
   ]
  },
  {
   "cell_type": "code",
   "execution_count": 26,
   "metadata": {},
   "outputs": [
    {
     "data": {
      "text/plain": [
       "0.8416568"
      ]
     },
     "metadata": {},
     "output_type": "display_data"
    },
    {
     "data": {
      "text/plain": [
       "0.32342213"
      ]
     },
     "metadata": {},
     "output_type": "display_data"
    },
    {
     "data": {
      "text/plain": [
       "0.6876843"
      ]
     },
     "metadata": {},
     "output_type": "display_data"
    },
    {
     "data": {
      "text/plain": [
       "0.66806304"
      ]
     },
     "metadata": {},
     "output_type": "display_data"
    }
   ],
   "source": [
    "display(w2v_model.wv.similarity(\"before\", 'after'))\n",
    "\n",
    "display(w2v_model.wv.similarity('facebook', 'networking'))\n",
    "\n",
    "display(w2v_model.wv.similarity('facebook', 'social'))\n",
    "\n",
    "display(w2v_model.wv.similarity('california', 'city'))"
   ]
  },
  {
   "cell_type": "code",
   "execution_count": 27,
   "metadata": {},
   "outputs": [
    {
     "data": {
      "text/plain": [
       "'music'"
      ]
     },
     "metadata": {},
     "output_type": "display_data"
    },
    {
     "data": {
      "text/plain": [
       "'city'"
      ]
     },
     "metadata": {},
     "output_type": "display_data"
    }
   ],
   "source": [
    "display(w2v_model.wv.doesnt_match([\"facebook\", \"twitter\", \"music\"]))\n",
    "\n",
    "display(w2v_model.wv.doesnt_match([\"news\", \"reviews\", \"city\"]))"
   ]
  },
  {
   "cell_type": "code",
   "execution_count": 28,
   "metadata": {},
   "outputs": [
    {
     "data": {
      "text/plain": [
       "[('everyone', 0.7783849239349365),\n",
       " ('this', 0.7690214514732361),\n",
       " ('tell', 0.7639812231063843)]"
      ]
     },
     "metadata": {},
     "output_type": "display_data"
    }
   ],
   "source": [
    "display(w2v_model.wv.most_similar(positive=[\"before\", \"after\"], negative=[\"news\"], topn=3))"
   ]
  },
  {
   "cell_type": "code",
   "execution_count": 29,
   "metadata": {},
   "outputs": [
    {
     "data": {
      "text/plain": [
       "array([ 2.57714927e-01,  2.34794319e-01,  5.97753942e-01,  6.99541867e-01,\n",
       "        6.91650733e-02, -3.80674064e-01,  1.88119709e-01,  2.56881803e-01,\n",
       "       -2.65564531e-01,  3.02859396e-01, -1.93976350e-02, -7.19678495e-03,\n",
       "        1.26380503e-01, -1.31477818e-01,  3.66246730e-01, -1.51752934e-01,\n",
       "        2.94706047e-01, -1.38219940e-02,  6.05250634e-02,  1.86488017e-01,\n",
       "       -6.71747029e-02,  3.84526879e-01, -3.25521529e-01,  1.26916975e-01,\n",
       "       -1.90838724e-01, -3.18591088e-01, -2.42183015e-01, -8.00687671e-02,\n",
       "       -5.59585929e-01, -1.69110298e-01,  1.60533160e-01, -1.46186575e-01,\n",
       "       -3.52479964e-01, -7.40431905e-01,  1.45619735e-01,  8.17461789e-01,\n",
       "        1.26878724e-01,  1.89727128e-01, -2.95693219e-01, -5.18182106e-02,\n",
       "       -1.13012716e-01, -3.32814336e-01, -5.68728745e-02, -9.66743752e-03,\n",
       "        4.85683978e-01, -6.08670235e-01, -4.80009884e-01, -8.73312168e-03,\n",
       "        2.70692945e-01,  2.40520984e-02, -1.81946814e-01,  8.09262842e-02,\n",
       "       -1.69101179e-01,  6.11866415e-02, -2.66553350e-02,  6.33427501e-02,\n",
       "       -5.02745152e-01,  2.00450435e-01, -1.50575846e-01, -3.11140299e-01,\n",
       "       -2.44257927e-01,  2.51339436e-01,  2.00315937e-01,  9.06522214e-01,\n",
       "       -1.41995758e-01, -2.70347208e-01, -4.69026655e-01,  5.65950930e-01,\n",
       "        2.28697896e-01,  1.56315833e-01, -5.03505647e-01,  1.36040762e-01,\n",
       "        6.33061603e-02, -1.21557713e-01,  4.83172476e-01, -2.08017871e-01,\n",
       "        5.64484624e-03,  1.61054209e-01,  5.84460974e-01,  2.11028323e-01,\n",
       "       -6.24442041e-01, -3.31620686e-02, -4.97274786e-01,  2.36798003e-02,\n",
       "       -6.81895316e-01, -4.96269792e-01, -3.16740483e-01,  1.30050048e-01,\n",
       "        2.23694518e-01, -2.52568603e-01,  5.96408509e-02, -2.59505421e-01,\n",
       "       -3.87954891e-01, -2.89935023e-02,  3.72742981e-01, -6.39657083e-06,\n",
       "        3.05818498e-01, -6.56595767e-01,  1.13722995e-01, -1.78347737e-01],\n",
       "      dtype=float32)"
      ]
     },
     "execution_count": 29,
     "metadata": {},
     "output_type": "execute_result"
    }
   ],
   "source": [
    "w2v_model.wv['facebook']"
   ]
  }
 ],
 "metadata": {
  "kernelspec": {
   "display_name": "base",
   "language": "python",
   "name": "python3"
  },
  "language_info": {
   "codemirror_mode": {
    "name": "ipython",
    "version": 3
   },
   "file_extension": ".py",
   "mimetype": "text/x-python",
   "name": "python",
   "nbconvert_exporter": "python",
   "pygments_lexer": "ipython3",
   "version": "3.9.12"
  },
  "orig_nbformat": 4
 },
 "nbformat": 4,
 "nbformat_minor": 2
}
