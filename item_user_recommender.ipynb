{
 "cells": [
  {
   "cell_type": "markdown",
   "metadata": {},
   "source": [
    "### Bibliotecas\n",
    "\n",
    "Importação das bibliotecas usadas."
   ]
  },
  {
   "cell_type": "code",
   "execution_count": 1,
   "metadata": {},
   "outputs": [],
   "source": [
    "import pandas as pd  \n",
    "from time import time  \n",
    "from collections import defaultdict  \n",
    "\n",
    "\n",
    "import logging  # Setting up the loggings to monitor gensim\n",
    "logging.basicConfig(format=\"%(levelname)s - %(asctime)s: %(message)s\", datefmt= '%H:%M:%S', level=logging.INFO)"
   ]
  },
  {
   "cell_type": "markdown",
   "metadata": {},
   "source": [
    "Leitura da base de dados"
   ]
  },
  {
   "cell_type": "code",
   "execution_count": 2,
   "metadata": {},
   "outputs": [
    {
     "data": {
      "text/html": [
       "<div>\n",
       "<style scoped>\n",
       "    .dataframe tbody tr th:only-of-type {\n",
       "        vertical-align: middle;\n",
       "    }\n",
       "\n",
       "    .dataframe tbody tr th {\n",
       "        vertical-align: top;\n",
       "    }\n",
       "\n",
       "    .dataframe thead th {\n",
       "        text-align: right;\n",
       "    }\n",
       "</style>\n",
       "<table border=\"1\" class=\"dataframe\">\n",
       "  <thead>\n",
       "    <tr style=\"text-align: right;\">\n",
       "      <th></th>\n",
       "      <th>id_user</th>\n",
       "      <th>id_item</th>\n",
       "      <th>id_tag</th>\n",
       "      <th>timestamp</th>\n",
       "      <th>datetime</th>\n",
       "    </tr>\n",
       "  </thead>\n",
       "  <tbody>\n",
       "    <tr>\n",
       "      <th>0</th>\n",
       "      <td>56067</td>\n",
       "      <td>47295</td>\n",
       "      <td>278</td>\n",
       "      <td>1069319563</td>\n",
       "      <td>2003-11-20 07:12:43</td>\n",
       "    </tr>\n",
       "    <tr>\n",
       "      <th>1</th>\n",
       "      <td>56067</td>\n",
       "      <td>13165</td>\n",
       "      <td>1511</td>\n",
       "      <td>1070249587</td>\n",
       "      <td>2003-12-01 01:33:07</td>\n",
       "    </tr>\n",
       "    <tr>\n",
       "      <th>2</th>\n",
       "      <td>56067</td>\n",
       "      <td>47545</td>\n",
       "      <td>2846</td>\n",
       "      <td>1070342731</td>\n",
       "      <td>2003-12-02 03:25:31</td>\n",
       "    </tr>\n",
       "    <tr>\n",
       "      <th>3</th>\n",
       "      <td>56067</td>\n",
       "      <td>58683</td>\n",
       "      <td>16935</td>\n",
       "      <td>1070342792</td>\n",
       "      <td>2003-12-02 03:26:32</td>\n",
       "    </tr>\n",
       "    <tr>\n",
       "      <th>4</th>\n",
       "      <td>56067</td>\n",
       "      <td>58683</td>\n",
       "      <td>7732</td>\n",
       "      <td>1070342792</td>\n",
       "      <td>2003-12-02 03:26:32</td>\n",
       "    </tr>\n",
       "  </tbody>\n",
       "</table>\n",
       "</div>"
      ],
      "text/plain": [
       "   id_user  id_item  id_tag   timestamp             datetime\n",
       "0    56067    47295     278  1069319563  2003-11-20 07:12:43\n",
       "1    56067    13165    1511  1070249587  2003-12-01 01:33:07\n",
       "2    56067    47545    2846  1070342731  2003-12-02 03:25:31\n",
       "3    56067    58683   16935  1070342792  2003-12-02 03:26:32\n",
       "4    56067    58683    7732  1070342792  2003-12-02 03:26:32"
      ]
     },
     "metadata": {},
     "output_type": "display_data"
    }
   ],
   "source": [
    "df_item_delicious2k = pd.read_csv('database/delicious2k/interactions.csv', delimiter=';')\n",
    "display(df_item_delicious2k.head())"
   ]
  },
  {
   "cell_type": "markdown",
   "metadata": {},
   "source": [
    "Quantidade de dados nulos"
   ]
  },
  {
   "cell_type": "code",
   "execution_count": 3,
   "metadata": {},
   "outputs": [
    {
     "data": {
      "text/plain": [
       "id_user      0\n",
       "id_item      0\n",
       "id_tag       0\n",
       "timestamp    0\n",
       "datetime     0\n",
       "dtype: int64"
      ]
     },
     "execution_count": 3,
     "metadata": {},
     "output_type": "execute_result"
    }
   ],
   "source": [
    "df_item_delicious2k.isnull().sum()"
   ]
  },
  {
   "cell_type": "markdown",
   "metadata": {},
   "source": [
    "Mantendo somente as colunas id_user e id_item"
   ]
  },
  {
   "cell_type": "code",
   "execution_count": 4,
   "metadata": {},
   "outputs": [
    {
     "data": {
      "text/html": [
       "<div>\n",
       "<style scoped>\n",
       "    .dataframe tbody tr th:only-of-type {\n",
       "        vertical-align: middle;\n",
       "    }\n",
       "\n",
       "    .dataframe tbody tr th {\n",
       "        vertical-align: top;\n",
       "    }\n",
       "\n",
       "    .dataframe thead th {\n",
       "        text-align: right;\n",
       "    }\n",
       "</style>\n",
       "<table border=\"1\" class=\"dataframe\">\n",
       "  <thead>\n",
       "    <tr style=\"text-align: right;\">\n",
       "      <th></th>\n",
       "      <th>id_user</th>\n",
       "      <th>id_item</th>\n",
       "    </tr>\n",
       "  </thead>\n",
       "  <tbody>\n",
       "    <tr>\n",
       "      <th>0</th>\n",
       "      <td>56067</td>\n",
       "      <td>47295</td>\n",
       "    </tr>\n",
       "    <tr>\n",
       "      <th>1</th>\n",
       "      <td>56067</td>\n",
       "      <td>13165</td>\n",
       "    </tr>\n",
       "    <tr>\n",
       "      <th>2</th>\n",
       "      <td>56067</td>\n",
       "      <td>47545</td>\n",
       "    </tr>\n",
       "    <tr>\n",
       "      <th>3</th>\n",
       "      <td>56067</td>\n",
       "      <td>58683</td>\n",
       "    </tr>\n",
       "    <tr>\n",
       "      <th>4</th>\n",
       "      <td>56067</td>\n",
       "      <td>58683</td>\n",
       "    </tr>\n",
       "  </tbody>\n",
       "</table>\n",
       "</div>"
      ],
      "text/plain": [
       "   id_user  id_item\n",
       "0    56067    47295\n",
       "1    56067    13165\n",
       "2    56067    47545\n",
       "3    56067    58683\n",
       "4    56067    58683"
      ]
     },
     "metadata": {},
     "output_type": "display_data"
    }
   ],
   "source": [
    "df_item_delicious2k.drop(['id_tag', 'timestamp', 'datetime'], axis=1, inplace=True)\n",
    "display(df_item_delicious2k.head())"
   ]
  },
  {
   "cell_type": "markdown",
   "metadata": {},
   "source": [
    "Descarta as duplicadas"
   ]
  },
  {
   "cell_type": "code",
   "execution_count": 5,
   "metadata": {},
   "outputs": [
    {
     "name": "stdout",
     "output_type": "stream",
     "text": [
      "(437593, 2)\n",
      "(104794, 2)\n"
     ]
    }
   ],
   "source": [
    "print(df_item_delicious2k.shape)\n",
    "df_item_delicious2k.drop_duplicates(subset=['id_item', 'id_user'], inplace=True)\n",
    "print(df_item_delicious2k.shape)"
   ]
  },
  {
   "cell_type": "markdown",
   "metadata": {},
   "source": [
    "Agrupa os item consumidos por cada usuario"
   ]
  },
  {
   "cell_type": "code",
   "execution_count": 6,
   "metadata": {},
   "outputs": [
    {
     "data": {
      "text/html": [
       "<div>\n",
       "<style scoped>\n",
       "    .dataframe tbody tr th:only-of-type {\n",
       "        vertical-align: middle;\n",
       "    }\n",
       "\n",
       "    .dataframe tbody tr th {\n",
       "        vertical-align: top;\n",
       "    }\n",
       "\n",
       "    .dataframe thead th {\n",
       "        text-align: right;\n",
       "    }\n",
       "</style>\n",
       "<table border=\"1\" class=\"dataframe\">\n",
       "  <thead>\n",
       "    <tr style=\"text-align: right;\">\n",
       "      <th></th>\n",
       "      <th>id_user</th>\n",
       "      <th>id_items</th>\n",
       "    </tr>\n",
       "  </thead>\n",
       "  <tbody>\n",
       "    <tr>\n",
       "      <th>0</th>\n",
       "      <td>8</td>\n",
       "      <td>13589 2672 68527 32440 32439 38974 27038 4783 ...</td>\n",
       "    </tr>\n",
       "    <tr>\n",
       "      <th>1</th>\n",
       "      <td>32</td>\n",
       "      <td>62239 62241 62240 4976 15466 4605 4606 55074</td>\n",
       "    </tr>\n",
       "    <tr>\n",
       "      <th>2</th>\n",
       "      <td>57</td>\n",
       "      <td>8507 67451 11105 66754 67423 67426 48634 22642...</td>\n",
       "    </tr>\n",
       "    <tr>\n",
       "      <th>3</th>\n",
       "      <td>147</td>\n",
       "      <td>20113 65969 17379 59148 19160 8561 7962 50577 ...</td>\n",
       "    </tr>\n",
       "    <tr>\n",
       "      <th>4</th>\n",
       "      <td>233</td>\n",
       "      <td>65155 57035 37117 52587 30417 30431 59529 1094...</td>\n",
       "    </tr>\n",
       "  </tbody>\n",
       "</table>\n",
       "</div>"
      ],
      "text/plain": [
       "   id_user                                           id_items\n",
       "0        8  13589 2672 68527 32440 32439 38974 27038 4783 ...\n",
       "1       32       62239 62241 62240 4976 15466 4605 4606 55074\n",
       "2       57  8507 67451 11105 66754 67423 67426 48634 22642...\n",
       "3      147  20113 65969 17379 59148 19160 8561 7962 50577 ...\n",
       "4      233  65155 57035 37117 52587 30417 30431 59529 1094..."
      ]
     },
     "metadata": {},
     "output_type": "display_data"
    }
   ],
   "source": [
    "df_item_delicious2k = df_item_delicious2k.groupby('id_user')['id_item'].apply(lambda x: ' '.join(x.astype(str))).reset_index()\n",
    "df_item_delicious2k.columns = ['id_user', 'id_items']\n",
    "\n",
    "display(df_item_delicious2k.head())"
   ]
  },
  {
   "cell_type": "markdown",
   "metadata": {},
   "source": [
    "Salva em um arquivo csv"
   ]
  },
  {
   "cell_type": "code",
   "execution_count": 7,
   "metadata": {},
   "outputs": [],
   "source": [
    "df_item_delicious2k.to_csv('item_user_recommender.csv', index=False)"
   ]
  },
  {
   "cell_type": "markdown",
   "metadata": {},
   "source": [
    "Define o id_user como índice"
   ]
  },
  {
   "cell_type": "code",
   "execution_count": 8,
   "metadata": {},
   "outputs": [
    {
     "data": {
      "text/html": [
       "<div>\n",
       "<style scoped>\n",
       "    .dataframe tbody tr th:only-of-type {\n",
       "        vertical-align: middle;\n",
       "    }\n",
       "\n",
       "    .dataframe tbody tr th {\n",
       "        vertical-align: top;\n",
       "    }\n",
       "\n",
       "    .dataframe thead th {\n",
       "        text-align: right;\n",
       "    }\n",
       "</style>\n",
       "<table border=\"1\" class=\"dataframe\">\n",
       "  <thead>\n",
       "    <tr style=\"text-align: right;\">\n",
       "      <th></th>\n",
       "      <th>id_items</th>\n",
       "    </tr>\n",
       "    <tr>\n",
       "      <th>id_user</th>\n",
       "      <th></th>\n",
       "    </tr>\n",
       "  </thead>\n",
       "  <tbody>\n",
       "    <tr>\n",
       "      <th>8</th>\n",
       "      <td>13589 2672 68527 32440 32439 38974 27038 4783 ...</td>\n",
       "    </tr>\n",
       "    <tr>\n",
       "      <th>32</th>\n",
       "      <td>62239 62241 62240 4976 15466 4605 4606 55074</td>\n",
       "    </tr>\n",
       "    <tr>\n",
       "      <th>57</th>\n",
       "      <td>8507 67451 11105 66754 67423 67426 48634 22642...</td>\n",
       "    </tr>\n",
       "    <tr>\n",
       "      <th>147</th>\n",
       "      <td>20113 65969 17379 59148 19160 8561 7962 50577 ...</td>\n",
       "    </tr>\n",
       "    <tr>\n",
       "      <th>233</th>\n",
       "      <td>65155 57035 37117 52587 30417 30431 59529 1094...</td>\n",
       "    </tr>\n",
       "  </tbody>\n",
       "</table>\n",
       "</div>"
      ],
      "text/plain": [
       "                                                  id_items\n",
       "id_user                                                   \n",
       "8        13589 2672 68527 32440 32439 38974 27038 4783 ...\n",
       "32            62239 62241 62240 4976 15466 4605 4606 55074\n",
       "57       8507 67451 11105 66754 67423 67426 48634 22642...\n",
       "147      20113 65969 17379 59148 19160 8561 7962 50577 ...\n",
       "233      65155 57035 37117 52587 30417 30431 59529 1094..."
      ]
     },
     "metadata": {},
     "output_type": "display_data"
    }
   ],
   "source": [
    "df_item_delicious2k.index = df_item_delicious2k['id_user']\n",
    "df_item_delicious2k.drop('id_user', axis=1, inplace=True)\n",
    "\n",
    "display(df_item_delicious2k.head())"
   ]
  },
  {
   "cell_type": "markdown",
   "metadata": {},
   "source": [
    "Cria um dicionario"
   ]
  },
  {
   "cell_type": "code",
   "execution_count": 9,
   "metadata": {},
   "outputs": [
    {
     "data": {
      "text/plain": [
       "id_user\n",
       "8         [13589, 2672, 68527, 32440, 32439, 38974, 2703...\n",
       "32        [62239, 62241, 62240, 4976, 15466, 4605, 4606,...\n",
       "57        [8507, 67451, 11105, 66754, 67423, 67426, 4863...\n",
       "147       [20113, 65969, 17379, 59148, 19160, 8561, 7962...\n",
       "233       [65155, 57035, 37117, 52587, 30417, 30431, 595...\n",
       "                                ...                        \n",
       "107686    [45934, 33669, 27519, 12335, 16397, 4648, 6056...\n",
       "107755    [8146, 8029, 37263, 51060, 37670, 22720, 37415...\n",
       "107862    [58532, 60473, 65485, 10944, 50722, 33914, 265...\n",
       "107984    [68191, 28727, 2852, 5568, 4649, 23714, 31235,...\n",
       "108035    [36581, 14250, 46370, 57759, 37863, 51394, 272...\n",
       "Name: id_items, Length: 1867, dtype: object"
      ]
     },
     "metadata": {},
     "output_type": "display_data"
    },
    {
     "data": {
      "text/plain": [
       "[TaggedDocument(words=['13589', '2672', '68527', '32440', '32439', '38974', '27038', '4783', '34825', '22496', '37854', '50280', '68858', '57763', '6245', '12759', '18682', '50286', '50287', '50288', '50279', '56454', '48768', '50277', '40292', '51953', '49122', '49121', '59084', '43443', '57759', '14953', '36883', '16654', '38174', '38175', '31467', '2104', '36035', '21947', '32695', '59905', '57762', '24683', '14516', '9320', '10749', '21092', '58755', '40093', '1848', '4299', '19659', '35615', '4926', '36129', '47071', '6950', '42573', '40169', '48060', '6567', '19302', '47947', '47945', '37187', '40091', '1367', '45951'], tags='8'),\n",
       " TaggedDocument(words=['62239', '62241', '62240', '4976', '15466', '4605', '4606', '55074'], tags='32')]"
      ]
     },
     "metadata": {},
     "output_type": "display_data"
    }
   ],
   "source": [
    "from gensim.models.doc2vec import TaggedDocument\n",
    "\n",
    "df_split = df_item_delicious2k['id_items'].apply(lambda x: x.split(\" \"))\n",
    "display(df_split)\n",
    "\n",
    "documents = [TaggedDocument(doc, str(df_split.index[i])) for i, doc in enumerate(df_split)]\n",
    "display(documents[:2])"
   ]
  },
  {
   "cell_type": "markdown",
   "metadata": {},
   "source": [
    "Cria uma tabela de vocabulário"
   ]
  },
  {
   "cell_type": "code",
   "execution_count": 10,
   "metadata": {},
   "outputs": [
    {
     "name": "stderr",
     "output_type": "stream",
     "text": [
      "INFO - 06:36:48: Doc2Vec lifecycle event {'params': 'Doc2Vec(dm/m,d100,n5,w2,mc5,s0.001,t11)', 'datetime': '2023-08-07T06:36:48.137132', 'gensim': '4.1.2', 'python': '3.9.12 (main, Apr  4 2022, 05:22:27) [MSC v.1916 64 bit (AMD64)]', 'platform': 'Windows-10-10.0.19041-SP0', 'event': 'created'}\n",
      "INFO - 06:36:48: collecting all words and their counts\n",
      "INFO - 06:36:48: PROGRESS: at example #0, processed 0 words (0/s), 0 word types, 0 tags\n",
      "INFO - 06:36:48: collected 69198 word types and 10 unique tags from a corpus of 1867 examples and 104794 words\n",
      "INFO - 06:36:48: Creating a fresh vocabulary\n",
      "INFO - 06:36:48: Doc2Vec lifecycle event {'msg': 'effective_min_count=5 retains 1204 unique words (1.739934680193069%% of original 69198, drops 67994)', 'datetime': '2023-08-07T06:36:48.189133', 'gensim': '4.1.2', 'python': '3.9.12 (main, Apr  4 2022, 05:22:27) [MSC v.1916 64 bit (AMD64)]', 'platform': 'Windows-10-10.0.19041-SP0', 'event': 'prepare_vocab'}\n",
      "INFO - 06:36:48: Doc2Vec lifecycle event {'msg': 'effective_min_count=5 leaves 8402 word corpus (8.017634597400615%% of original 104794, drops 96392)', 'datetime': '2023-08-07T06:36:48.189133', 'gensim': '4.1.2', 'python': '3.9.12 (main, Apr  4 2022, 05:22:27) [MSC v.1916 64 bit (AMD64)]', 'platform': 'Windows-10-10.0.19041-SP0', 'event': 'prepare_vocab'}\n",
      "INFO - 06:36:48: deleting the raw counts dictionary of 69198 items\n",
      "INFO - 06:36:48: sample=0.001 downsamples 6 most-common words\n",
      "INFO - 06:36:48: Doc2Vec lifecycle event {'msg': 'downsampling leaves estimated 8390.675254198899 word corpus (99.9%% of prior 8402)', 'datetime': '2023-08-07T06:36:48.199133', 'gensim': '4.1.2', 'python': '3.9.12 (main, Apr  4 2022, 05:22:27) [MSC v.1916 64 bit (AMD64)]', 'platform': 'Windows-10-10.0.19041-SP0', 'event': 'prepare_vocab'}\n",
      "INFO - 06:36:48: estimated required memory for 1204 words and 100 dimensions: 1571200 bytes\n",
      "INFO - 06:36:48: resetting layer weights\n"
     ]
    },
    {
     "name": "stdout",
     "output_type": "stream",
     "text": [
      "Time to build vocab: 0.0 mins\n"
     ]
    }
   ],
   "source": [
    "import multiprocessing\n",
    "\n",
    "from gensim.models import Doc2Vec\n",
    "\n",
    "cores = multiprocessing.cpu_count() \n",
    "\n",
    "w2v_model_itens = Doc2Vec(min_count=5,\n",
    "                    window=2,\n",
    "                    workers=cores-1)\n",
    "\n",
    "t = time()\n",
    "w2v_model_itens.build_vocab(documents, progress_per=10000)\n",
    "print('Time to build vocab: {} mins'.format(round((time() - t) / 60, 2)))"
   ]
  },
  {
   "cell_type": "markdown",
   "metadata": {},
   "source": [
    "Treina o modelo"
   ]
  },
  {
   "cell_type": "code",
   "execution_count": 11,
   "metadata": {},
   "outputs": [
    {
     "name": "stderr",
     "output_type": "stream",
     "text": [
      "INFO - 06:36:48: Doc2Vec lifecycle event {'msg': 'training model with 11 workers on 1204 vocabulary and 100 features, using sg=0 hs=0 sample=0.001 negative=5 window=2 shrink_windows=True', 'datetime': '2023-08-07T06:36:48.235132', 'gensim': '4.1.2', 'python': '3.9.12 (main, Apr  4 2022, 05:22:27) [MSC v.1916 64 bit (AMD64)]', 'platform': 'Windows-10-10.0.19041-SP0', 'event': 'train'}\n",
      "INFO - 06:36:48: worker thread finished; awaiting finish of 10 more threads\n",
      "INFO - 06:36:48: worker thread finished; awaiting finish of 9 more threads\n",
      "INFO - 06:36:48: worker thread finished; awaiting finish of 8 more threads\n",
      "INFO - 06:36:48: worker thread finished; awaiting finish of 7 more threads\n",
      "INFO - 06:36:48: worker thread finished; awaiting finish of 6 more threads\n",
      "INFO - 06:36:48: worker thread finished; awaiting finish of 5 more threads\n",
      "INFO - 06:36:48: worker thread finished; awaiting finish of 4 more threads\n",
      "INFO - 06:36:48: worker thread finished; awaiting finish of 3 more threads\n",
      "INFO - 06:36:48: worker thread finished; awaiting finish of 2 more threads\n",
      "INFO - 06:36:48: worker thread finished; awaiting finish of 1 more threads\n",
      "INFO - 06:36:48: worker thread finished; awaiting finish of 0 more threads\n",
      "INFO - 06:36:48: EPOCH - 1 : training on 104794 raw words (17575 effective words) took 0.2s, 76778 effective words/s\n",
      "INFO - 06:36:48: worker thread finished; awaiting finish of 10 more threads\n",
      "INFO - 06:36:48: worker thread finished; awaiting finish of 9 more threads\n",
      "INFO - 06:36:48: worker thread finished; awaiting finish of 8 more threads\n",
      "INFO - 06:36:48: worker thread finished; awaiting finish of 7 more threads\n",
      "INFO - 06:36:48: worker thread finished; awaiting finish of 6 more threads\n",
      "INFO - 06:36:48: worker thread finished; awaiting finish of 5 more threads\n",
      "INFO - 06:36:48: worker thread finished; awaiting finish of 4 more threads\n",
      "INFO - 06:36:48: worker thread finished; awaiting finish of 3 more threads\n",
      "INFO - 06:36:48: worker thread finished; awaiting finish of 2 more threads\n",
      "INFO - 06:36:48: worker thread finished; awaiting finish of 1 more threads\n",
      "INFO - 06:36:48: worker thread finished; awaiting finish of 0 more threads\n",
      "INFO - 06:36:48: EPOCH - 2 : training on 104794 raw words (17575 effective words) took 0.1s, 117604 effective words/s\n",
      "INFO - 06:36:48: worker thread finished; awaiting finish of 10 more threads\n",
      "INFO - 06:36:48: worker thread finished; awaiting finish of 9 more threads\n",
      "INFO - 06:36:48: worker thread finished; awaiting finish of 8 more threads\n",
      "INFO - 06:36:48: worker thread finished; awaiting finish of 7 more threads\n",
      "INFO - 06:36:48: worker thread finished; awaiting finish of 6 more threads\n",
      "INFO - 06:36:48: worker thread finished; awaiting finish of 5 more threads\n",
      "INFO - 06:36:48: worker thread finished; awaiting finish of 4 more threads\n",
      "INFO - 06:36:48: worker thread finished; awaiting finish of 3 more threads\n",
      "INFO - 06:36:48: worker thread finished; awaiting finish of 2 more threads\n",
      "INFO - 06:36:48: worker thread finished; awaiting finish of 1 more threads\n",
      "INFO - 06:36:48: worker thread finished; awaiting finish of 0 more threads\n",
      "INFO - 06:36:48: EPOCH - 3 : training on 104794 raw words (17567 effective words) took 0.1s, 137664 effective words/s\n",
      "INFO - 06:36:48: worker thread finished; awaiting finish of 10 more threads\n",
      "INFO - 06:36:48: worker thread finished; awaiting finish of 9 more threads\n",
      "INFO - 06:36:48: worker thread finished; awaiting finish of 8 more threads\n",
      "INFO - 06:36:48: worker thread finished; awaiting finish of 7 more threads\n",
      "INFO - 06:36:48: worker thread finished; awaiting finish of 6 more threads\n",
      "INFO - 06:36:48: worker thread finished; awaiting finish of 5 more threads\n",
      "INFO - 06:36:48: worker thread finished; awaiting finish of 4 more threads\n",
      "INFO - 06:36:48: worker thread finished; awaiting finish of 3 more threads\n",
      "INFO - 06:36:48: worker thread finished; awaiting finish of 2 more threads\n",
      "INFO - 06:36:48: worker thread finished; awaiting finish of 1 more threads\n",
      "INFO - 06:36:48: worker thread finished; awaiting finish of 0 more threads\n",
      "INFO - 06:36:48: EPOCH - 4 : training on 104794 raw words (17570 effective words) took 0.1s, 127945 effective words/s\n",
      "INFO - 06:36:48: worker thread finished; awaiting finish of 10 more threads\n",
      "INFO - 06:36:48: worker thread finished; awaiting finish of 9 more threads\n",
      "INFO - 06:36:48: worker thread finished; awaiting finish of 8 more threads\n",
      "INFO - 06:36:48: worker thread finished; awaiting finish of 7 more threads\n",
      "INFO - 06:36:49: worker thread finished; awaiting finish of 6 more threads\n",
      "INFO - 06:36:49: worker thread finished; awaiting finish of 5 more threads\n",
      "INFO - 06:36:49: worker thread finished; awaiting finish of 4 more threads\n",
      "INFO - 06:36:49: worker thread finished; awaiting finish of 3 more threads\n",
      "INFO - 06:36:49: worker thread finished; awaiting finish of 2 more threads\n",
      "INFO - 06:36:49: worker thread finished; awaiting finish of 1 more threads\n",
      "INFO - 06:36:49: worker thread finished; awaiting finish of 0 more threads\n",
      "INFO - 06:36:49: EPOCH - 5 : training on 104794 raw words (17566 effective words) took 0.1s, 154055 effective words/s\n",
      "INFO - 06:36:49: worker thread finished; awaiting finish of 10 more threads\n",
      "INFO - 06:36:49: worker thread finished; awaiting finish of 9 more threads\n",
      "INFO - 06:36:49: worker thread finished; awaiting finish of 8 more threads\n",
      "INFO - 06:36:49: worker thread finished; awaiting finish of 7 more threads\n",
      "INFO - 06:36:49: worker thread finished; awaiting finish of 6 more threads\n",
      "INFO - 06:36:49: worker thread finished; awaiting finish of 5 more threads\n",
      "INFO - 06:36:49: worker thread finished; awaiting finish of 4 more threads\n",
      "INFO - 06:36:49: worker thread finished; awaiting finish of 3 more threads\n",
      "INFO - 06:36:49: worker thread finished; awaiting finish of 2 more threads\n",
      "INFO - 06:36:49: worker thread finished; awaiting finish of 1 more threads\n",
      "INFO - 06:36:49: worker thread finished; awaiting finish of 0 more threads\n",
      "INFO - 06:36:49: EPOCH - 6 : training on 104794 raw words (17567 effective words) took 0.1s, 178738 effective words/s\n",
      "INFO - 06:36:49: worker thread finished; awaiting finish of 10 more threads\n",
      "INFO - 06:36:49: worker thread finished; awaiting finish of 9 more threads\n",
      "INFO - 06:36:49: worker thread finished; awaiting finish of 8 more threads\n",
      "INFO - 06:36:49: worker thread finished; awaiting finish of 7 more threads\n",
      "INFO - 06:36:49: worker thread finished; awaiting finish of 6 more threads\n",
      "INFO - 06:36:49: worker thread finished; awaiting finish of 5 more threads\n",
      "INFO - 06:36:49: worker thread finished; awaiting finish of 4 more threads\n",
      "INFO - 06:36:49: worker thread finished; awaiting finish of 3 more threads\n",
      "INFO - 06:36:49: worker thread finished; awaiting finish of 2 more threads\n",
      "INFO - 06:36:49: worker thread finished; awaiting finish of 1 more threads\n",
      "INFO - 06:36:49: worker thread finished; awaiting finish of 0 more threads\n",
      "INFO - 06:36:49: EPOCH - 7 : training on 104794 raw words (17571 effective words) took 0.2s, 116820 effective words/s\n",
      "INFO - 06:36:49: worker thread finished; awaiting finish of 10 more threads\n",
      "INFO - 06:36:49: worker thread finished; awaiting finish of 9 more threads\n",
      "INFO - 06:36:49: worker thread finished; awaiting finish of 8 more threads\n",
      "INFO - 06:36:49: worker thread finished; awaiting finish of 7 more threads\n",
      "INFO - 06:36:49: worker thread finished; awaiting finish of 6 more threads\n",
      "INFO - 06:36:49: worker thread finished; awaiting finish of 5 more threads\n",
      "INFO - 06:36:49: worker thread finished; awaiting finish of 4 more threads\n",
      "INFO - 06:36:49: worker thread finished; awaiting finish of 3 more threads\n",
      "INFO - 06:36:49: worker thread finished; awaiting finish of 2 more threads\n",
      "INFO - 06:36:49: worker thread finished; awaiting finish of 1 more threads\n",
      "INFO - 06:36:49: worker thread finished; awaiting finish of 0 more threads\n",
      "INFO - 06:36:49: EPOCH - 8 : training on 104794 raw words (17565 effective words) took 0.2s, 110707 effective words/s\n",
      "INFO - 06:36:49: worker thread finished; awaiting finish of 10 more threads\n",
      "INFO - 06:36:49: worker thread finished; awaiting finish of 9 more threads\n",
      "INFO - 06:36:49: worker thread finished; awaiting finish of 8 more threads\n",
      "INFO - 06:36:49: worker thread finished; awaiting finish of 7 more threads\n",
      "INFO - 06:36:49: worker thread finished; awaiting finish of 6 more threads\n",
      "INFO - 06:36:49: worker thread finished; awaiting finish of 5 more threads\n",
      "INFO - 06:36:49: worker thread finished; awaiting finish of 4 more threads\n",
      "INFO - 06:36:49: worker thread finished; awaiting finish of 3 more threads\n",
      "INFO - 06:36:49: worker thread finished; awaiting finish of 2 more threads\n",
      "INFO - 06:36:49: worker thread finished; awaiting finish of 1 more threads\n",
      "INFO - 06:36:49: worker thread finished; awaiting finish of 0 more threads\n",
      "INFO - 06:36:49: EPOCH - 9 : training on 104794 raw words (17572 effective words) took 0.1s, 125155 effective words/s\n",
      "INFO - 06:36:49: worker thread finished; awaiting finish of 10 more threads\n",
      "INFO - 06:36:49: worker thread finished; awaiting finish of 9 more threads\n",
      "INFO - 06:36:49: worker thread finished; awaiting finish of 8 more threads\n",
      "INFO - 06:36:49: worker thread finished; awaiting finish of 7 more threads\n",
      "INFO - 06:36:49: worker thread finished; awaiting finish of 6 more threads\n",
      "INFO - 06:36:49: worker thread finished; awaiting finish of 5 more threads\n",
      "INFO - 06:36:49: worker thread finished; awaiting finish of 4 more threads\n",
      "INFO - 06:36:49: worker thread finished; awaiting finish of 3 more threads\n",
      "INFO - 06:36:49: worker thread finished; awaiting finish of 2 more threads\n",
      "INFO - 06:36:49: worker thread finished; awaiting finish of 1 more threads\n",
      "INFO - 06:36:49: worker thread finished; awaiting finish of 0 more threads\n",
      "INFO - 06:36:49: EPOCH - 10 : training on 104794 raw words (17571 effective words) took 0.1s, 142910 effective words/s\n",
      "INFO - 06:36:49: Doc2Vec lifecycle event {'msg': 'training on 1047940 raw words (175699 effective words) took 1.5s, 119101 effective words/s', 'datetime': '2023-08-07T06:36:49.710867', 'gensim': '4.1.2', 'python': '3.9.12 (main, Apr  4 2022, 05:22:27) [MSC v.1916 64 bit (AMD64)]', 'platform': 'Windows-10-10.0.19041-SP0', 'event': 'train'}\n"
     ]
    },
    {
     "name": "stdout",
     "output_type": "stream",
     "text": [
      "Time to train the model: 0.02 mins\n"
     ]
    }
   ],
   "source": [
    "t = time()\n",
    "w2v_model_itens.train(documents, total_examples=w2v_model_itens.corpus_count, epochs=10, report_delay=1)\n",
    "print('Time to train the model: {} mins'.format(round((time() - t) / 60, 2)))"
   ]
  },
  {
   "cell_type": "markdown",
   "metadata": {},
   "source": [
    "Modificar o modelo para torná-lo mais eficiente"
   ]
  },
  {
   "cell_type": "code",
   "execution_count": 12,
   "metadata": {},
   "outputs": [],
   "source": [
    "# deixa o modelo mais eficiente - pré-computar vetores normalizados por L2.\n",
    "#w2v_model_itens.init_sims(replace=True)"
   ]
  },
  {
   "cell_type": "markdown",
   "metadata": {},
   "source": [
    "### Testes e métricas"
   ]
  },
  {
   "cell_type": "code",
   "execution_count": 13,
   "metadata": {},
   "outputs": [
    {
     "data": {
      "text/plain": [
       "[('8414', 0.9727048277854919),\n",
       " ('15592', 0.9657999873161316),\n",
       " ('60954', 0.9649906158447266),\n",
       " ('22632', 0.9647397994995117),\n",
       " ('49804', 0.9643433094024658),\n",
       " ('68666', 0.96297287940979),\n",
       " ('31773', 0.9629290103912354),\n",
       " ('29707', 0.9617167711257935),\n",
       " ('47895', 0.961419403553009),\n",
       " ('13919', 0.9610307812690735)]"
      ]
     },
     "metadata": {},
     "output_type": "display_data"
    }
   ],
   "source": [
    "display(w2v_model_itens.wv.most_similar('17971'))"
   ]
  },
  {
   "cell_type": "code",
   "execution_count": 14,
   "metadata": {},
   "outputs": [
    {
     "data": {
      "text/plain": [
       "array([-0.9912618 , -1.0168346 , -0.73537695,  0.22549483, -0.2761046 ,\n",
       "        0.4394822 , -0.1554847 ,  0.06785894, -0.68692935, -0.01325471,\n",
       "       -0.01008369,  0.30772337,  0.09171174, -0.11314163,  0.00833276,\n",
       "       -0.07110127, -0.36798447,  0.439601  ,  0.13509603,  0.20094216,\n",
       "        0.2984481 , -0.33703715,  0.06478927,  0.5319433 ,  0.13450624,\n",
       "       -0.36009112, -1.104463  , -0.03398375, -0.59659916, -1.016345  ,\n",
       "        0.9191843 ,  0.30671325, -0.0248178 ,  1.2609051 ,  0.32333955,\n",
       "        0.8385996 , -0.13398811, -1.2027547 ,  0.06756682, -0.6976798 ,\n",
       "        0.27716717, -0.03220363, -0.25943905, -0.6970354 , -0.59777594,\n",
       "        0.20910437,  0.19760059,  0.29249316,  0.0308669 ,  0.3042777 ,\n",
       "       -0.54766846, -0.47030842, -0.5530588 , -0.36577585, -0.19025783,\n",
       "       -0.0887242 , -0.49776667,  0.7133602 , -0.38512224,  0.03081879,\n",
       "        1.3698734 ,  0.66775954, -0.17466885,  0.3901795 ,  0.24507599,\n",
       "        0.22149771,  1.0683527 ,  0.5672117 , -0.09921928,  0.24556197,\n",
       "       -0.8494283 , -0.46988302, -1.2967368 , -0.40752593,  0.513734  ,\n",
       "        1.0955089 ,  0.51119184, -0.9362831 , -0.2040834 , -0.00745113,\n",
       "       -0.11053628,  0.8711154 ,  0.07556964,  0.36271387, -0.335508  ,\n",
       "        1.542272  , -0.18884596, -0.61297053, -0.21709651,  0.46285522,\n",
       "       -1.2040014 ,  0.60044265, -0.60719645, -0.32071203,  0.6327517 ,\n",
       "        0.19486868, -0.3283911 , -0.06234727,  0.38449046,  0.12476419],\n",
       "      dtype=float32)"
      ]
     },
     "metadata": {},
     "output_type": "display_data"
    }
   ],
   "source": [
    "display(w2v_model_itens.dv['8'])"
   ]
  },
  {
   "cell_type": "code",
   "execution_count": 18,
   "metadata": {},
   "outputs": [
    {
     "data": {
      "text/plain": [
       "array([-2.1843284e-03,  2.5785184e-03, -5.5895747e-05,  9.5653831e-04,\n",
       "       -1.4704153e-03,  2.8150207e-03,  3.8213748e-03, -3.2877303e-03,\n",
       "        3.6413081e-03, -4.5801857e-03, -3.0050578e-03, -8.1713794e-04,\n",
       "       -2.9582137e-03, -1.7124966e-03,  4.7522988e-03,  3.5093045e-03,\n",
       "       -3.3836097e-03,  3.7887334e-04, -6.2979606e-04,  3.0648403e-03,\n",
       "       -2.0060125e-03,  4.2721331e-03, -1.7843390e-03,  2.4320937e-03,\n",
       "        4.4270135e-03,  5.4298283e-04,  3.5327536e-03,  4.9043837e-04,\n",
       "        1.1997462e-03,  4.5912685e-03, -4.7835121e-03, -3.6696482e-03,\n",
       "       -8.8323595e-04,  2.4182992e-03,  3.4266103e-03, -2.1122354e-03,\n",
       "        4.1260510e-03, -3.7371109e-03, -3.0294573e-03,  1.6954750e-03,\n",
       "        8.6253765e-04, -2.9048056e-03, -3.1717140e-03, -5.7562115e-04,\n",
       "       -2.7750137e-03,  3.9309086e-04, -4.4253711e-03, -3.0275697e-03,\n",
       "       -4.9325670e-03,  1.8546701e-04, -1.4977459e-03,  3.5639715e-03,\n",
       "        1.8631894e-03, -1.0704094e-03,  4.3460070e-03, -1.0723827e-03,\n",
       "        2.8933692e-03,  9.5336139e-04, -2.3718453e-03, -2.8021836e-03,\n",
       "       -3.0151198e-03,  2.6572025e-03, -2.8194615e-03,  2.9174911e-03,\n",
       "       -3.7378608e-03,  3.2391024e-03, -9.7842189e-04,  4.9752728e-03,\n",
       "        4.7197812e-03,  4.3759467e-03,  4.5056492e-03, -4.9781995e-03,\n",
       "        1.0163415e-03, -9.2797400e-04, -1.9209066e-03, -4.0948875e-03,\n",
       "        3.2166785e-03, -3.6255156e-03,  1.1395693e-04, -4.1200728e-03,\n",
       "        1.1935658e-03,  4.1126306e-03,  7.9005363e-04, -2.8249556e-03,\n",
       "       -3.6924004e-03,  4.9105599e-03,  4.0937318e-03,  3.8879239e-03,\n",
       "       -3.8345068e-04, -2.1957436e-03, -4.0993253e-03, -2.9607785e-03,\n",
       "       -2.6938426e-03,  4.5344476e-03, -3.3512295e-04,  3.7668603e-03,\n",
       "        8.5788488e-04, -1.1714548e-03, -8.6977927e-04, -3.3949905e-03],\n",
       "      dtype=float32)"
      ]
     },
     "metadata": {},
     "output_type": "display_data"
    }
   ],
   "source": [
    "vector = w2v_model_itens.infer_vector(['61703', '57298', '68422', '58262'])\n",
    "display(vector)"
   ]
  }
 ],
 "metadata": {
  "kernelspec": {
   "display_name": "base",
   "language": "python",
   "name": "python3"
  },
  "language_info": {
   "codemirror_mode": {
    "name": "ipython",
    "version": 3
   },
   "file_extension": ".py",
   "mimetype": "text/x-python",
   "name": "python",
   "nbconvert_exporter": "python",
   "pygments_lexer": "ipython3",
   "version": "3.9.12"
  },
  "orig_nbformat": 4
 },
 "nbformat": 4,
 "nbformat_minor": 2
}
